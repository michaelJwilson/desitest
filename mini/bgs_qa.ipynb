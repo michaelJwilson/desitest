{
 "cells": [
  {
   "cell_type": "markdown",
   "metadata": {},
   "source": [
    "# BGS SV QA"
   ]
  },
  {
   "cell_type": "markdown",
   "metadata": {},
   "source": [
    "## Load the Spectro Catalog Database\n",
    "\n",
    "Start by configuring the database, then load exposures, truth, targets, fiberassign, and the redshift catalog."
   ]
  },
  {
   "cell_type": "code",
   "execution_count": null,
   "metadata": {},
   "outputs": [],
   "source": [
    "import importlib\n",
    "import desispec.database.redshift\n",
    "import os\n",
    "import numpy as np\n",
    "\n",
    "from argparse                   import Namespace\n",
    "\n",
    "from desispec.database.redshift import (setup_db, dbSession, load_file, ObsList, Target, Truth, ZCat, FiberAssign,\n",
    "                                        load_fiberassign, update_truth)\n",
    "\n",
    "from desitarget.targetmask import (desi_mask, mws_mask, bgs_mask)\n",
    "\n",
    "\n",
    "importlib.reload(desispec.database.redshift)"
   ]
  },
  {
   "cell_type": "code",
   "execution_count": null,
   "metadata": {},
   "outputs": [],
   "source": [
    "basedir      = '/global/cscratch1/sd/mjwilson/minitest-19.2/'\n",
    "targetdir    = '/global/cscratch1/sd/mjwilson/minitest-19.2/targets/'\n",
    "reduxdir     = '/global/cscratch1/sd/mjwilson/minitest-19.2/spectro/redux/mini/'\n",
    "expfile      = '/global/cscratch1/sd/mjwilson/minitest-19.2/survey/exposures.fits'\n",
    "fibassigndir = '/global/cscratch1/sd/mjwilson/minitest-19.2/fiberassign/'\n",
    "\n",
    "options      = Namespace(overwrite=True, dbfile=os.path.join(basedir, 'minitest.db'), hostname=None, maxrows=2000,\n",
    "                         chunksize=50000, schema=None, username=None, verbose=False, datapath=basedir)\n",
    "\n",
    "# We'll be using a SQLite database, ignore the return value of setup_db.\n",
    "postgresql = setup_db(options)\n",
    "\n",
    "print('--- Loading exposure list')\n",
    "load_file(expfile, ObsList, hdu='EXPOSURES', expand={'PASS': 'passnum'})\n",
    "\n",
    "print('--- Loading truth tables')\n",
    "load_file(os.path.join(targetdir, 'truth.fits'), Truth, hdu='TRUTH')\n",
    "\n",
    "for h in ('BGS', 'ELG', 'LRG', 'QSO', 'STAR', 'WD'):\n",
    "    update_truth(os.path.join(targetdir, 'truth.fits'), 'TRUTH_' + h)\n",
    "\n",
    "print('--- Loading targets')\n",
    "load_file(os.path.join(targetdir, 'targets.fits'), Target, hdu='TARGETS',\n",
    "          expand={'DCHISQ': ('dchisq_psf', 'dchisq_rex', 'dchisq_dev', 'dchisq_exp', 'dchisq_comp',)})\n",
    "\n",
    "print('--- loading redshift catalog')\n",
    "load_file(os.path.join(reduxdir, 'zcatalog-mini.fits'), ZCat, hdu='ZCATALOG',\n",
    "          expand={'COEFF': ('coeff_0', 'coeff_1', 'coeff_2', 'coeff_3', 'coeff_4',\n",
    "                            'coeff_5', 'coeff_6', 'coeff_7', 'coeff_8', 'coeff_9',)},\n",
    "          rowfilter=lambda x: ((x['TARGETID'] != 0) & (x['TARGETID'] != -1)))\n",
    "\n",
    "print('--- loading fiber assignments')\n",
    "load_fiberassign(fibassigndir)\n",
    "\n",
    "print('--- done')"
   ]
  },
  {
   "cell_type": "markdown",
   "metadata": {},
   "source": [
    "### Demonstrate the SQLAlchemy objects"
   ]
  },
  {
   "cell_type": "code",
   "execution_count": null,
   "metadata": {},
   "outputs": [],
   "source": [
    "tt = dbSession.query(Truth, Target).filter(Truth.targetid == Target.targetid).all()"
   ]
  },
  {
   "cell_type": "code",
   "execution_count": null,
   "metadata": {},
   "outputs": [],
   "source": [
    "zz = dbSession.query(Truth, ZCat).filter(Truth.targetid == ZCat.targetid).all()"
   ]
  },
  {
   "cell_type": "code",
   "execution_count": null,
   "metadata": {},
   "outputs": [],
   "source": [
    "ff = dbSession.query(Truth, FiberAssign).filter(Truth.targetid == FiberAssign.targetid).all()"
   ]
  },
  {
   "cell_type": "code",
   "execution_count": null,
   "metadata": {},
   "outputs": [],
   "source": []
  },
  {
   "cell_type": "code",
   "execution_count": null,
   "metadata": {},
   "outputs": [],
   "source": [
    "# How many actual exposures are there with the Moon up?\n",
    "q = dbSession.query(ObsList.expid, ObsList.moonsep, ObsList.moonalt, ObsList.moonfrac).filter(ObsList.moonalt > 0).all()"
   ]
  },
  {
   "cell_type": "code",
   "execution_count": null,
   "metadata": {},
   "outputs": [],
   "source": [
    "'''\n",
    "q = dbSession.query(ZCat.targetid, Target.desi_target, Target.bgs_target, Target.mws_target, ObsList.expid)\\\n",
    "             .filter(ZCat.targetid      == FiberAssign.targetid)\\\n",
    "             .filter(ZCat.targetid      == Target.targetid)\\\n",
    "             .filter(FiberAssign.tileid == ObsList.tileid)\\\n",
    "             .filter(ObsList.expid.in_(expid))\\\n",
    "             .order_by(ZCat.targetid, ObsList.expid).all()\n",
    "\n",
    "targetid, desi_target, bgs_target, mws_target, expid = zip(*q)\n",
    "'''"
   ]
  },
  {
   "cell_type": "code",
   "execution_count": null,
   "metadata": {},
   "outputs": [],
   "source": [
    "'''\n",
    "print(sum(['ELG'     in desi_mask.names(t) for t in desi_target]))\n",
    "print(sum(['BGS_ANY' in desi_mask.names(t) for t in desi_target]))\n",
    "print(sum(['BGS_ANY' in  bgs_mask.names(t) for t in  bgs_target]))\n",
    "'''"
   ]
  },
  {
   "cell_type": "code",
   "execution_count": null,
   "metadata": {},
   "outputs": [],
   "source": [
    "#.filter(ObsList.expid.in_(expid))\\\n",
    "q = dbSession.query(ZCat.targetid, Truth.truez, ZCat.z, ZCat.zwarn, Target.fiberflux_r, ((ZCat.z - Truth.truez)/(1.0 + Truth.truez)).label('dz'))\\\n",
    "                   .filter(Truth.targetid     == ZCat.targetid)\\\n",
    "                   .filter(Target.targetid    == ZCat.targetid)\\\n",
    "                   .filter(ZCat.targetid      == FiberAssign.targetid)\\\n",
    "                   .filter(FiberAssign.tileid == ObsList.tileid)\\\n",
    "                   .filter(Target.desi_target.op('&')(desi_mask.BGS_ANY) != 0)\\\n",
    "                   .all()\n",
    "\n",
    "_, truez, z, zwarn, fiberflux, dz = zip(*q)\n",
    "\n",
    "z     = np.array(z)\n",
    "truez = np.array(truez)\n",
    "zwarn = np.array(zwarn)\n",
    "\n",
    "##  binned fiber flux. \n",
    "bins     = np.arange(0.0, 5., 1.)\n",
    "nbins    = len(bins)\n",
    "\n",
    "bnd_ffux = np.digitize(fiberflux, bins, right=False)"
   ]
  },
  {
   "cell_type": "code",
   "execution_count": null,
   "metadata": {},
   "outputs": [],
   "source": [
    "q[0].targetid"
   ]
  },
  {
   "cell_type": "code",
   "execution_count": null,
   "metadata": {},
   "outputs": [],
   "source": [
    "# What warnings were there?\n",
    "print(np.unique(zwarn, return_counts=True))"
   ]
  },
  {
   "cell_type": "code",
   "execution_count": null,
   "metadata": {},
   "outputs": [],
   "source": [
    "import matplotlib.pyplot as plt\n",
    "\n",
    "\n",
    "# Observed redshift versus true redshift.\n",
    "fig, axes = plt.subplots(3, nbins, figsize=(14, 8), dpi=100, sharey = True, sharex=True)\n",
    "\n",
    "for i, _zwarn in enumerate([0, 4, 36]):\n",
    " for j, lolim in enumerate(bins):\n",
    "  axes[i][j].plot(truez[(zwarn == _zwarn) & (bnd_ffux == j)], z[(zwarn == _zwarn) & (bnd_ffux == j)], 'ko', label='', markersize=1)\n",
    "\n",
    "  axes[i][j].set_xlim(0.0, 1.9)\n",
    "  axes[i][j].set_ylim(0.0, 1.9)\n",
    "    \n",
    "  axes[i][j].legend(loc=2, frameon=False, title='(%d, %.1lf)' % (_zwarn, bins[j]))\n",
    "    \n",
    "axes[0][0].set_ylabel(r'$\\hat z$')\n",
    "axes[1][0].set_ylabel(r'$\\hat z$')\n",
    "axes[2][0].set_ylabel(r'$\\hat z$')\n",
    "\n",
    "axes[2][0].set_xlabel(r'$z$')\n",
    "axes[2][1].set_xlabel(r'$z$')\n",
    "axes[2][2].set_xlabel(r'$z$')    \n",
    "axes[2][3].set_xlabel(r'$z$')    \n",
    "axes[2][4].set_xlabel(r'$z$')    \n",
    "\n",
    "fig.suptitle('Fiber flux')"
   ]
  },
  {
   "cell_type": "code",
   "execution_count": null,
   "metadata": {},
   "outputs": [],
   "source": [
    "# Print the table columns and their types.\n",
    "[(c.name, c.type) for c in ObsList.__table__.columns]"
   ]
  },
  {
   "cell_type": "code",
   "execution_count": null,
   "metadata": {},
   "outputs": [],
   "source": [
    "# Print the table columns and their types.\n",
    "[(c.name, c.type) for c in ZCat.__table__.columns]"
   ]
  },
  {
   "cell_type": "code",
   "execution_count": null,
   "metadata": {},
   "outputs": [],
   "source": [
    "# Print the table columns and their types.\n",
    "[(c.name, c.type) for c in Target.__table__.columns]"
   ]
  },
  {
   "cell_type": "code",
   "execution_count": null,
   "metadata": {},
   "outputs": [],
   "source": [
    "# Print the table columns and their types.\n",
    "[(c.name, c.type) for c in FiberAssign.__table__.columns]"
   ]
  },
  {
   "cell_type": "code",
   "execution_count": null,
   "metadata": {},
   "outputs": [],
   "source": [
    "#type(tt[0][0])"
   ]
  },
  {
   "cell_type": "code",
   "execution_count": null,
   "metadata": {},
   "outputs": [],
   "source": [
    "#dir(tt[0][0])"
   ]
  },
  {
   "cell_type": "code",
   "execution_count": null,
   "metadata": {},
   "outputs": [],
   "source": [
    "tt[0][0]"
   ]
  },
  {
   "cell_type": "code",
   "execution_count": null,
   "metadata": {},
   "outputs": [],
   "source": [
    "type(tt[0][1])"
   ]
  },
  {
   "cell_type": "code",
   "execution_count": null,
   "metadata": {},
   "outputs": [],
   "source": [
    "#dir(tt[0][1])"
   ]
  },
  {
   "cell_type": "code",
   "execution_count": null,
   "metadata": {},
   "outputs": [],
   "source": [
    "type(zz[0][0])"
   ]
  },
  {
   "cell_type": "code",
   "execution_count": null,
   "metadata": {},
   "outputs": [],
   "source": [
    "#dir(zz[0][0])"
   ]
  },
  {
   "cell_type": "code",
   "execution_count": null,
   "metadata": {},
   "outputs": [],
   "source": [
    "type(zz[0][1])"
   ]
  },
  {
   "cell_type": "code",
   "execution_count": null,
   "metadata": {},
   "outputs": [],
   "source": [
    "#dir(zz[0][1])"
   ]
  },
  {
   "cell_type": "code",
   "execution_count": null,
   "metadata": {},
   "outputs": [],
   "source": [
    "import numpy as np\n",
    "\n",
    "np.unique(zz[0][1].zwarn, return_counts=True)"
   ]
  },
  {
   "cell_type": "code",
   "execution_count": null,
   "metadata": {},
   "outputs": [],
   "source": [
    "type(ff[0][0])"
   ]
  },
  {
   "cell_type": "code",
   "execution_count": null,
   "metadata": {},
   "outputs": [],
   "source": [
    "#dir(ff[0][0])"
   ]
  },
  {
   "cell_type": "code",
   "execution_count": null,
   "metadata": {},
   "outputs": [],
   "source": [
    "type(ff[0][1])"
   ]
  },
  {
   "cell_type": "code",
   "execution_count": null,
   "metadata": {},
   "outputs": [],
   "source": [
    "#dir(ff[0][1])"
   ]
  },
  {
   "cell_type": "markdown",
   "metadata": {},
   "source": [
    "# QA"
   ]
  },
  {
   "cell_type": "markdown",
   "metadata": {},
   "source": [
    "## Initialize QA output directory"
   ]
  },
  {
   "cell_type": "code",
   "execution_count": null,
   "metadata": {},
   "outputs": [],
   "source": [
    "import desispec\n",
    "\n",
    "# New dir to define and make\n",
    "qaprod_dir = desispec.io.qaprod_root()\n",
    "os.makedirs(qaprod_dir, exist_ok=True)\n",
    "qaprod_dir"
   ]
  },
  {
   "cell_type": "code",
   "execution_count": null,
   "metadata": {},
   "outputs": [],
   "source": [
    "#- Helper function for timing QA commands\n",
    "def time_command(cmd, logfile):\n",
    "    t0 = time.time()\n",
    "    print('{} RUNNING {}'.format(time.asctime(), cmd))\n",
    "    err = subprocess.call(cmd.split(), stdout=logfile, stderr=logfile)\n",
    "    if err != 0:\n",
    "        print('FAILED: {}'.format(cmd))\n",
    "\n",
    "    dt = time.time() - t0\n",
    "    if dt < 60:\n",
    "        print('\"{}\" took {:.1f} seconds'.format(cmd, time.time()-t0))\n",
    "    else:\n",
    "        print('\"{}\" took {:.1f} minutes'.format(cmd, dt/60))\n",
    "    return err"
   ]
  },
  {
   "cell_type": "markdown",
   "metadata": {},
   "source": [
    "### QA with the Truth\n",
    "\n",
    "The following QA uses the input truth table.  "
   ]
  },
  {
   "cell_type": "code",
   "execution_count": null,
   "metadata": {},
   "outputs": [],
   "source": [
    "qat_logname = os.path.join(qaprod_dir, 'qa_truth.log')\n",
    "print('logging truth-based QA to {}'.format(qat_logname))"
   ]
  },
  {
   "cell_type": "code",
   "execution_count": null,
   "metadata": {},
   "outputs": [],
   "source": [
    "import time, glob, subprocess\n",
    "\n",
    "qa0_time = time.time()\n",
    "\n",
    "with open(qat_logname, 'w') as logfile:\n",
    "    if len(glob.glob(qaprod_dir+'/QA_s2n_*')) == 10:\n",
    "        print(\"S/N figures already exist\")\n",
    "        \n",
    "    else:\n",
    "        # S/N (~7min)\n",
    "        cmd = \"desi_qa_s2n --qaprod_dir={:s}\".format(qaprod_dir)\n",
    "        time_command(cmd, logfile)\n",
    "    \n",
    "    # zfind (~2min)\n",
    "    if (len(glob.glob(qaprod_dir+'/QA_zfind_*')) == 6) and os.path.exists(qaprod_dir+'/QA_dzsumm.png'):\n",
    "        print(\"zfind figures already exist\")\n",
    "\n",
    "    else:\n",
    "        cmd = \"desi_qa_zfind --yaml_file={:s}/dzsumm_stats.yaml --qaprod_dir={:s}\".format(qaprod_dir, qaprod_dir) \n",
    "        time_command(cmd, logfile)\n",
    "    \n",
    "# Time me\n",
    "print(\"Done with QA with truth at {}\".format(time.asctime()))\n",
    "\n",
    "qa_truth_time = time.time() - qa0_time\n",
    "\n",
    "print(\"That took {:.1f} minutes\".format(qa_truth_time/60))"
   ]
  },
  {
   "cell_type": "markdown",
   "metadata": {},
   "source": [
    "### Check"
   ]
  },
  {
   "cell_type": "code",
   "execution_count": null,
   "metadata": {},
   "outputs": [],
   "source": [
    "assert len(glob.glob(qaprod_dir+'/QA_s2n_*')) == 10\n",
    "assert len(glob.glob(qaprod_dir+'/QA_zfind_*')) == 6\n",
    "assert os.path.exists(qaprod_dir+'/QA_dzsumm.png')"
   ]
  },
  {
   "cell_type": "markdown",
   "metadata": {},
   "source": [
    "### Show"
   ]
  },
  {
   "cell_type": "code",
   "execution_count": null,
   "metadata": {},
   "outputs": [],
   "source": [
    "from IPython.display import Image, display\n",
    "\n",
    "#Image(filename=qaprod_dir+'/QA_dzsumm.png') "
   ]
  },
  {
   "cell_type": "code",
   "execution_count": null,
   "metadata": {},
   "outputs": [],
   "source": [
    "Image(filename=qaprod_dir+'/QA_zfind_ELG.png', width=500)"
   ]
  },
  {
   "cell_type": "code",
   "execution_count": null,
   "metadata": {},
   "outputs": [],
   "source": [
    "Image(filename=qaprod_dir+'/QA_zfind_LRG.png', width=500)"
   ]
  },
  {
   "cell_type": "code",
   "execution_count": null,
   "metadata": {},
   "outputs": [],
   "source": [
    "display(\n",
    "    Image(filename=qaprod_dir+'/QA_zfind_QSO_T.png', width=500),\n",
    "    Image(filename=qaprod_dir+'/QA_zfind_QSO_L.png', width=500),\n",
    ")"
   ]
  },
  {
   "cell_type": "code",
   "execution_count": null,
   "metadata": {},
   "outputs": [],
   "source": [
    "display(\n",
    "    Image(filename=qaprod_dir+'/QA_zfind_MWS.png', width=500),\n",
    "    Image(filename=qaprod_dir+'/QA_zfind_BGS.png', width=500),\n",
    ")"
   ]
  },
  {
   "cell_type": "code",
   "execution_count": null,
   "metadata": {},
   "outputs": [],
   "source": [
    "print(\"Timing checkpoint at {}\".format(time.asctime()))\n",
    "tmp_time = time.time() - notebook_start_time\n",
    "print(\"{:.1f} minutes so far\".format(tmp_time/60))"
   ]
  }
 ],
 "metadata": {
  "anaconda-cloud": {},
  "kernelspec": {
   "display_name": "DESI master",
   "language": "python",
   "name": "desi-master"
  },
  "language_info": {
   "codemirror_mode": {
    "name": "ipython",
    "version": 3
   },
   "file_extension": ".py",
   "mimetype": "text/x-python",
   "name": "python",
   "nbconvert_exporter": "python",
   "pygments_lexer": "ipython3",
   "version": "3.6.6"
  },
  "toc-autonumbering": false
 },
 "nbformat": 4,
 "nbformat_minor": 2
}
