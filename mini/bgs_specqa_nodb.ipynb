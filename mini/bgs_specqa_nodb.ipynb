{
 "cells": [
  {
   "cell_type": "markdown",
   "metadata": {},
   "source": [
    "# BGS SV:  Spectral QA\n",
    "\n",
    "Retrieve the spectral S/N in each arm (median, mean) for a given set of targets\n",
    "and launch the spectral viewer for validating redrock results with non-zero \n",
    "warning flags.\n",
    "\n",
    "Finally, retrieve the raw spectra to facilitate an alternative S/N definition. E.g.,\n",
    "in lieu of https://github.com/desihub/desispec/issues/781 being implemented. "
   ]
  },
  {
   "cell_type": "code",
   "execution_count": 1,
   "metadata": {},
   "outputs": [],
   "source": [
    "import os\n",
    "import importlib\n",
    "import numpy as np\n",
    "import astropy.io.fits            as fits\n",
    "import pylab                      as pl\n",
    "\n",
    "from   argparse                   import Namespace\n",
    "from   astropy.table              import Table, join, Column, vstack, hstack\n",
    "from   desitarget.targetmask      import (desi_mask, mws_mask, bgs_mask)\n",
    "from   desispec.io.meta           import findfile"
   ]
  },
  {
   "cell_type": "code",
   "execution_count": 3,
   "metadata": {},
   "outputs": [
    {
     "name": "stdout",
     "output_type": "stream",
     "text": [
      "/global/cscratch1/sd/mjwilson/minitest-19.2/spectro/redux\n",
      "/global/cscratch1/sd/mjwilson/minitest-19.2/spectro/sim\n",
      "/global/cscratch1/sd/mjwilson/minitest-19.2/spectro/sim/mini\n"
     ]
    }
   ],
   "source": [
    "##  Set up some base directories with appropriate output.\n",
    "##  E.g.  '/global/cscratch1/sd/mjwilson/minitest-19.2/spectro/redux/mini/exposures/20200317/00000018'\n",
    "\n",
    "basedir      = '/global/cscratch1/sd/mjwilson/minitest-19.2/'\n",
    "targetdir    = '/global/cscratch1/sd/mjwilson/minitest-19.2/targets/'\n",
    "reduxdir     = '/global/cscratch1/sd/mjwilson/minitest-19.2/spectro/redux/mini/'\n",
    "expfile      = '/global/cscratch1/sd/mjwilson/minitest-19.2/survey/exposures.fits'\n",
    "fibassigndir = '/global/cscratch1/sd/mjwilson/minitest-19.2/fiberassign/'\n",
    "\n",
    "##  Set spectro. output.\n",
    "os.environ['DESI_SPECTRO_REDUX'] = os.path.join(basedir, 'spectro', 'redux')\n",
    "os.environ['DESI_SPECTRO_SIM']   = os.path.join(basedir, 'spectro', 'sim')\n",
    "\n",
    "os.environ['PIXPROD']            = 'mini'\n",
    "os.environ['SPECPROD']           = 'mini'\n",
    "\n",
    "os.environ['DESI_SPECTRO_DATA']  = os.path.join(os.environ['DESI_SPECTRO_SIM'], os.environ['PIXPROD'])\n",
    "\n",
    "\n",
    "##  TO DO:  Set redrock template dir. etc ...\n",
    "\n",
    "##  Explicit.\n",
    "print(os.environ['DESI_SPECTRO_REDUX'])\n",
    "print(os.environ['DESI_SPECTRO_SIM'])\n",
    "print(os.environ['DESI_SPECTRO_DATA'])"
   ]
  },
  {
   "cell_type": "code",
   "execution_count": 4,
   "metadata": {},
   "outputs": [
    {
     "data": {
      "text/plain": [
       "XTENSION= 'BINTABLE'           / binary table extension                         \n",
       "BITPIX  =                    8 / array data type                                \n",
       "NAXIS   =                    2 / number of array dimensions                     \n",
       "NAXIS1  =                  103 / length of dimension 1                          \n",
       "NAXIS2  =                   45 / length of dimension 2                          \n",
       "PCOUNT  =                    0 / number of group parameters                     \n",
       "GCOUNT  =                    1 / number of groups                               \n",
       "TFIELDS =                   18 / number of table fields                         \n",
       "TTYPE1  = 'EXPID   '                                                            \n",
       "TFORM1  = 'J       '                                                            \n",
       "TNULL1  =               999999                                                  \n",
       "TTYPE2  = 'MJD     '                                                            \n",
       "TFORM2  = 'D       '                                                            \n",
       "TTYPE3  = 'EXPTIME '                                                            \n",
       "TFORM3  = 'E       '                                                            \n",
       "TTYPE4  = 'TILEID  '                                                            \n",
       "TFORM4  = 'J       '                                                            \n",
       "TNULL4  =               999999                                                  \n",
       "TTYPE5  = 'SNR2FRAC'                                                            \n",
       "TFORM5  = 'E       '                                                            \n",
       "TTYPE6  = 'AIRMASS '                                                            \n",
       "TFORM6  = 'E       '                                                            \n",
       "TTYPE7  = 'SEEING  '                                                            \n",
       "TFORM7  = 'E       '                                                            \n",
       "TTYPE8  = 'TRANSP  '                                                            \n",
       "TFORM8  = 'E       '                                                            \n",
       "TTYPE9  = 'SKY     '                                                            \n",
       "TFORM9  = 'E       '                                                            \n",
       "TTYPE10 = 'PROGRAM '                                                            \n",
       "TFORM10 = '6A      '                                                            \n",
       "TTYPE11 = 'NIGHT   '                                                            \n",
       "TFORM11 = '8A      '                                                            \n",
       "TTYPE12 = 'FLAVOR  '                                                            \n",
       "TFORM12 = '7A      '                                                            \n",
       "TTYPE13 = 'MOONFRAC'                                                            \n",
       "TFORM13 = 'D       '                                                            \n",
       "TTYPE14 = 'MOONALT '                                                            \n",
       "TFORM14 = 'D       '                                                            \n",
       "TTYPE15 = 'MOONSEP '                                                            \n",
       "TFORM15 = 'D       '                                                            \n",
       "TTYPE16 = 'RA      '                                                            \n",
       "TFORM16 = 'D       '                                                            \n",
       "TTYPE17 = 'DEC     '                                                            \n",
       "TFORM17 = 'D       '                                                            \n",
       "TTYPE18 = 'PASS    '                                                            \n",
       "TFORM18 = 'I       '                                                            \n",
       "TNULL18 =                16959                                                  \n",
       "EXTNAME = 'EXPOSURES'                                                           "
      ]
     },
     "execution_count": 4,
     "metadata": {},
     "output_type": "execute_result"
    }
   ],
   "source": [
    "##  Get the exposure list.\n",
    "exposures = fits.open(expfile)\n",
    "exposures[1].header"
   ]
  },
  {
   "cell_type": "code",
   "execution_count": 11,
   "metadata": {},
   "outputs": [
    {
     "data": {
      "text/plain": [
       "array([ 0,  1,  2,  3,  4,  5,  6,  7,  8,  9, 10, 11, 12, 13, 14, 15, 16,\n",
       "       17, 18, 19, 20, 21, 22, 23, 24, 25, 26, 27, 28, 29, 30, 31, 32, 33,\n",
       "       34, 35, 36, 37, 38, 39, 40, 41, 42, 43, 44], dtype=int32)"
      ]
     },
     "execution_count": 11,
     "metadata": {},
     "output_type": "execute_result"
    }
   ],
   "source": [
    "##  Exposure IDs.\n",
    "expids = exposures[1].data['EXPID']\n",
    "expids"
   ]
  },
  {
   "cell_type": "code",
   "execution_count": 9,
   "metadata": {},
   "outputs": [
    {
     "data": {
      "text/plain": [
       "chararray(['20200315', '20200315', '20200315', '20200315', '20200315',\n",
       "           '20200315', '20200315', '20200315', '20200315', '20200315',\n",
       "           '20200315', '20200315', '20200317', '20200317', '20200317',\n",
       "           '20200317', '20200317', '20200317', '20200317', '20200317',\n",
       "           '20200317', '20200317', '20200319', '20200319', '20200319',\n",
       "           '20200319', '20200319', '20200319', '20200319', '20200319',\n",
       "           '20200319', '20200319', '20200319', '20200411', '20200411',\n",
       "           '20200411', '20200411', '20200411', '20200411', '20200411',\n",
       "           '20200411', '20200411', '20200411', '20200411', '20200411'],\n",
       "          dtype='<U8')"
      ]
     },
     "execution_count": 9,
     "metadata": {},
     "output_type": "execute_result"
    }
   ],
   "source": [
    "##  Nights for which data was taken.\n",
    "nights = exposures[1].data['NIGHT']\n",
    "nights"
   ]
  },
  {
   "cell_type": "code",
   "execution_count": 10,
   "metadata": {},
   "outputs": [
    {
     "data": {
      "text/plain": [
       "array([   -1,    -1,    -1,    -1,    -1,    -1,  1165,  1165, 24227,\n",
       "       24227, 28408, 28408,    -1,    -1,    -1,    -1,    -1,    -1,\n",
       "       11108, 11108,  6927,  6927,    -1,    -1,    -1,    -1,    -1,\n",
       "          -1, 18465, 18465, 18465, 16870, 16870,    -1,    -1,    -1,\n",
       "          -1,    -1,    -1, 34170, 34170, 45704, 45704, 39942, 39942], dtype=int32)"
      ]
     },
     "execution_count": 10,
     "metadata": {},
     "output_type": "execute_result"
    }
   ],
   "source": [
    "# -1 are calibration tiles, e.g. arcs, flats, for which dome is closed.\n",
    "tileids = exposures[1].data['TILEID']\n",
    "tileids"
   ]
  },
  {
   "cell_type": "code",
   "execution_count": 13,
   "metadata": {},
   "outputs": [
    {
     "data": {
      "text/plain": [
       "array([   10.,    10.,    10.,    10.,    10.,    10.,  1080.,   520.,\n",
       "         590.,   790.,   620.,   940.,    10.,    10.,    10.,    10.,\n",
       "          10.,    10.,   880.,   650.,   670.,   540.,    10.,    10.,\n",
       "          10.,    10.,    10.,    10.,   480.,   810.,   760.,   670.,\n",
       "         980.,    10.,    10.,    10.,    10.,    10.,    10.,   360.,\n",
       "         260.,   380.,   280.,   300.,   410.], dtype=float32)"
      ]
     },
     "execution_count": 13,
     "metadata": {},
     "output_type": "execute_result"
    }
   ],
   "source": [
    "##  Each exposure length, seconds.\n",
    "exptimes = exposures[1].data['EXPTIME']\n",
    "exptimes"
   ]
  },
  {
   "cell_type": "code",
   "execution_count": 14,
   "metadata": {},
   "outputs": [
    {
     "data": {
      "text/plain": [
       "XTENSION= 'BINTABLE'           / binary table extension                         \n",
       "BITPIX  =                    8 / array data type                                \n",
       "NAXIS   =                    2 / number of array dimensions                     \n",
       "NAXIS1  =                  437 / length of dimension 1                          \n",
       "NAXIS2  =               239404 / length of dimension 2                          \n",
       "PCOUNT  =                    0 / number of group parameters                     \n",
       "GCOUNT  =                    1 / number of groups                               \n",
       "TFIELDS =                   95 / number of table fields                         \n",
       "TTYPE1  = 'RELEASE '                                                            \n",
       "TFORM1  = 'J       '                                                            \n",
       "TTYPE2  = 'BRICKID '                                                            \n",
       "TFORM2  = 'J       '                                                            \n",
       "TTYPE3  = 'BRICKNAME'                                                           \n",
       "TFORM3  = '8A      '                                                            \n",
       "TTYPE4  = 'BRICK_OBJID'                                                         \n",
       "TFORM4  = 'J       '                                                            \n",
       "TTYPE5  = 'MORPHTYPE'                                                           \n",
       "TFORM5  = '4A      '                                                            \n",
       "TTYPE6  = 'RA      '                                                            \n",
       "TFORM6  = 'D       '                                                            \n",
       "TTYPE7  = 'DEC     '                                                            \n",
       "TFORM7  = 'D       '                                                            \n",
       "TTYPE8  = 'RA_IVAR '                                                            \n",
       "TFORM8  = 'E       '                                                            \n",
       "TTYPE9  = 'DEC_IVAR'                                                            \n",
       "TFORM9  = 'E       '                                                            \n",
       "TTYPE10 = 'DCHISQ  '                                                            \n",
       "TFORM10 = '5E      '                                                            \n",
       "TTYPE11 = 'FLUX_G  '                                                            \n",
       "TFORM11 = 'E       '                                                            \n",
       "TTYPE12 = 'FLUX_R  '                                                            \n",
       "TFORM12 = 'E       '                                                            \n",
       "TTYPE13 = 'FLUX_Z  '                                                            \n",
       "TFORM13 = 'E       '                                                            \n",
       "TTYPE14 = 'FLUX_W1 '                                                            \n",
       "TFORM14 = 'E       '                                                            \n",
       "TTYPE15 = 'FLUX_W2 '                                                            \n",
       "TFORM15 = 'E       '                                                            \n",
       "TTYPE16 = 'FLUX_IVAR_G'                                                         \n",
       "TFORM16 = 'E       '                                                            \n",
       "TTYPE17 = 'FLUX_IVAR_R'                                                         \n",
       "TFORM17 = 'E       '                                                            \n",
       "TTYPE18 = 'FLUX_IVAR_Z'                                                         \n",
       "TFORM18 = 'E       '                                                            \n",
       "TTYPE19 = 'FLUX_IVAR_W1'                                                        \n",
       "TFORM19 = 'E       '                                                            \n",
       "TTYPE20 = 'FLUX_IVAR_W2'                                                        \n",
       "TFORM20 = 'E       '                                                            \n",
       "TTYPE21 = 'MW_TRANSMISSION_G'                                                   \n",
       "TFORM21 = 'E       '                                                            \n",
       "TTYPE22 = 'MW_TRANSMISSION_R'                                                   \n",
       "TFORM22 = 'E       '                                                            \n",
       "TTYPE23 = 'MW_TRANSMISSION_Z'                                                   \n",
       "TFORM23 = 'E       '                                                            \n",
       "TTYPE24 = 'MW_TRANSMISSION_W1'                                                  \n",
       "TFORM24 = 'E       '                                                            \n",
       "TTYPE25 = 'MW_TRANSMISSION_W2'                                                  \n",
       "TFORM25 = 'E       '                                                            \n",
       "TTYPE26 = 'NOBS_G  '                                                            \n",
       "TFORM26 = 'I       '                                                            \n",
       "TTYPE27 = 'NOBS_R  '                                                            \n",
       "TFORM27 = 'I       '                                                            \n",
       "TTYPE28 = 'NOBS_Z  '                                                            \n",
       "TFORM28 = 'I       '                                                            \n",
       "TTYPE29 = 'FRACFLUX_G'                                                          \n",
       "TFORM29 = 'E       '                                                            \n",
       "TTYPE30 = 'FRACFLUX_R'                                                          \n",
       "TFORM30 = 'E       '                                                            \n",
       "TTYPE31 = 'FRACFLUX_Z'                                                          \n",
       "TFORM31 = 'E       '                                                            \n",
       "TTYPE32 = 'FRACMASKED_G'                                                        \n",
       "TFORM32 = 'E       '                                                            \n",
       "TTYPE33 = 'FRACMASKED_R'                                                        \n",
       "TFORM33 = 'E       '                                                            \n",
       "TTYPE34 = 'FRACMASKED_Z'                                                        \n",
       "TFORM34 = 'E       '                                                            \n",
       "TTYPE35 = 'FRACIN_G'                                                            \n",
       "TFORM35 = 'E       '                                                            \n",
       "TTYPE36 = 'FRACIN_R'                                                            \n",
       "TFORM36 = 'E       '                                                            \n",
       "TTYPE37 = 'FRACIN_Z'                                                            \n",
       "TFORM37 = 'E       '                                                            \n",
       "TTYPE38 = 'ALLMASK_G'                                                           \n",
       "TFORM38 = 'E       '                                                            \n",
       "TTYPE39 = 'ALLMASK_R'                                                           \n",
       "TFORM39 = 'E       '                                                            \n",
       "TTYPE40 = 'ALLMASK_Z'                                                           \n",
       "TFORM40 = 'E       '                                                            \n",
       "TTYPE41 = 'PSFDEPTH_G'                                                          \n",
       "TFORM41 = 'E       '                                                            \n",
       "TTYPE42 = 'PSFDEPTH_R'                                                          \n",
       "TFORM42 = 'E       '                                                            \n",
       "TTYPE43 = 'PSFDEPTH_Z'                                                          \n",
       "TFORM43 = 'E       '                                                            \n",
       "TTYPE44 = 'GALDEPTH_G'                                                          \n",
       "TFORM44 = 'E       '                                                            \n",
       "TTYPE45 = 'GALDEPTH_R'                                                          \n",
       "TFORM45 = 'E       '                                                            \n",
       "TTYPE46 = 'GALDEPTH_Z'                                                          \n",
       "TFORM46 = 'E       '                                                            \n",
       "TTYPE47 = 'FRACDEV '                                                            \n",
       "TFORM47 = 'E       '                                                            \n",
       "TTYPE48 = 'FRACDEV_IVAR'                                                        \n",
       "TFORM48 = 'E       '                                                            \n",
       "TTYPE49 = 'SHAPEDEV_R'                                                          \n",
       "TFORM49 = 'E       '                                                            \n",
       "TTYPE50 = 'SHAPEDEV_R_IVAR'                                                     \n",
       "TFORM50 = 'E       '                                                            \n",
       "TTYPE51 = 'SHAPEDEV_E1'                                                         \n",
       "TFORM51 = 'E       '                                                            \n",
       "TTYPE52 = 'SHAPEDEV_E1_IVAR'                                                    \n",
       "TFORM52 = 'E       '                                                            \n",
       "TTYPE53 = 'SHAPEDEV_E2'                                                         \n",
       "TFORM53 = 'E       '                                                            \n",
       "TTYPE54 = 'SHAPEDEV_E2_IVAR'                                                    \n",
       "TFORM54 = 'E       '                                                            \n",
       "TTYPE55 = 'SHAPEEXP_R'                                                          \n",
       "TFORM55 = 'E       '                                                            \n",
       "TTYPE56 = 'SHAPEEXP_R_IVAR'                                                     \n",
       "TFORM56 = 'E       '                                                            \n",
       "TTYPE57 = 'SHAPEEXP_E1'                                                         \n",
       "TFORM57 = 'E       '                                                            \n",
       "TTYPE58 = 'SHAPEEXP_E1_IVAR'                                                    \n",
       "TFORM58 = 'E       '                                                            \n",
       "TTYPE59 = 'SHAPEEXP_E2'                                                         \n",
       "TFORM59 = 'E       '                                                            \n",
       "TTYPE60 = 'SHAPEEXP_E2_IVAR'                                                    \n",
       "TFORM60 = 'E       '                                                            \n",
       "TTYPE61 = 'FIBERFLUX_G'                                                         \n",
       "TFORM61 = 'E       '                                                            \n",
       "TTYPE62 = 'FIBERFLUX_R'                                                         \n",
       "TFORM62 = 'E       '                                                            \n",
       "TTYPE63 = 'FIBERFLUX_Z'                                                         \n",
       "TFORM63 = 'E       '                                                            \n",
       "TTYPE64 = 'FIBERTOTFLUX_G'                                                      \n",
       "TFORM64 = 'E       '                                                            \n",
       "TTYPE65 = 'FIBERTOTFLUX_R'                                                      \n",
       "TFORM65 = 'E       '                                                            \n",
       "TTYPE66 = 'FIBERTOTFLUX_Z'                                                      \n",
       "TFORM66 = 'E       '                                                            \n",
       "TTYPE67 = 'REF_ID  '                                                            \n",
       "TFORM67 = 'K       '                                                            \n",
       "TTYPE68 = 'GAIA_PHOT_G_MEAN_MAG'                                                \n",
       "TFORM68 = 'E       '                                                            \n",
       "TTYPE69 = 'GAIA_PHOT_G_MEAN_FLUX_OVER_ERROR'                                    \n",
       "TFORM69 = 'E       '                                                            \n",
       "TTYPE70 = 'GAIA_PHOT_BP_MEAN_MAG'                                               \n",
       "TFORM70 = 'E       '                                                            \n",
       "TTYPE71 = 'GAIA_PHOT_BP_MEAN_FLUX_OVER_ERROR'                                   \n",
       "TFORM71 = 'E       '                                                            \n",
       "TTYPE72 = 'GAIA_PHOT_RP_MEAN_MAG'                                               \n",
       "TFORM72 = 'E       '                                                            \n",
       "TTYPE73 = 'GAIA_PHOT_RP_MEAN_FLUX_OVER_ERROR'                                   \n",
       "TFORM73 = 'E       '                                                            \n",
       "TTYPE74 = 'GAIA_ASTROMETRIC_EXCESS_NOISE'                                       \n",
       "TFORM74 = 'E       '                                                            \n",
       "TTYPE75 = 'GAIA_DUPLICATED_SOURCE'                                              \n",
       "TFORM75 = 'L       '                                                            \n",
       "TTYPE76 = 'PARALLAX'                                                            \n",
       "TFORM76 = 'E       '                                                            \n",
       "TTYPE77 = 'PARALLAX_IVAR'                                                       \n",
       "TFORM77 = 'E       '                                                            \n",
       "TTYPE78 = 'PMRA    '                                                            \n",
       "TFORM78 = 'E       '                                                            \n",
       "TTYPE79 = 'PMRA_IVAR'                                                           \n",
       "TFORM79 = 'E       '                                                            \n",
       "TTYPE80 = 'PMDEC   '                                                            \n",
       "TFORM80 = 'E       '                                                            \n",
       "TTYPE81 = 'PMDEC_IVAR'                                                          \n",
       "TFORM81 = 'E       '                                                            \n",
       "TTYPE82 = 'BRIGHTSTARINBLOB'                                                    \n",
       "TFORM82 = 'L       '                                                            \n",
       "TTYPE83 = 'EBV     '                                                            \n",
       "TFORM83 = 'E       '                                                            \n",
       "TTYPE84 = 'PHOTSYS '                                                            \n",
       "TFORM84 = '1A      '                                                            \n",
       "TTYPE85 = 'TARGETID'                                                            \n",
       "TFORM85 = 'K       '                                                            \n",
       "TTYPE86 = 'DESI_TARGET'                                                         \n",
       "TFORM86 = 'K       '                                                            \n",
       "TTYPE87 = 'BGS_TARGET'                                                          \n",
       "TFORM87 = 'K       '                                                            \n",
       "TTYPE88 = 'MWS_TARGET'                                                          \n",
       "TFORM88 = 'K       '                                                            \n",
       "TTYPE89 = 'PRIORITY_INIT'                                                       \n",
       "TFORM89 = 'K       '                                                            \n",
       "TTYPE90 = 'SUBPRIORITY'                                                         \n",
       "TFORM90 = 'D       '                                                            \n",
       "TTYPE91 = 'NUMOBS_INIT'                                                         \n",
       "TFORM91 = 'K       '                                                            \n",
       "TTYPE92 = 'HPXPIXEL'                                                            \n",
       "TFORM92 = 'K       '                                                            \n",
       "TTYPE93 = 'NUMOBS_MORE'                                                         \n",
       "TFORM93 = 'K       '                                                            \n",
       "TTYPE94 = 'PRIORITY'                                                            \n",
       "TFORM94 = 'K       '                                                            \n",
       "TTYPE95 = 'OBSCONDITIONS'                                                       \n",
       "TFORM95 = 'J       '                                                            \n",
       "EXTNAME = 'MTL     '                                                            "
      ]
     },
     "execution_count": 14,
     "metadata": {},
     "output_type": "execute_result"
    }
   ],
   "source": [
    "##  Targets file.\n",
    "targets = fits.open(targetdir + '/mtl.fits')\n",
    "targets[1].header"
   ]
  },
  {
   "cell_type": "code",
   "execution_count": 15,
   "metadata": {},
   "outputs": [],
   "source": [
    "# Match target table to fiberassign table (tile id, fiber, etc..) by targetid.\n",
    "targets[1].data['TARGETID'] = targets[1].data['targetid']"
   ]
  },
  {
   "cell_type": "code",
   "execution_count": 16,
   "metadata": {},
   "outputs": [
    {
     "name": "stdout",
     "output_type": "stream",
     "text": [
      "1165 6 20200315 1080.0\n"
     ]
    }
   ],
   "source": [
    "# Find the attributes of the first non-calibration tile.\n",
    "is_nctile = tileids > -1\n",
    "\n",
    "nctile  = tileids[is_nctile][0]\n",
    "ncexp   = expids[is_nctile][0]\n",
    "ncnight = nights[is_nctile][0]\n",
    "nctime  = exptimes[is_nctile][0]\n",
    "\n",
    "print(nctile, ncexp, ncnight, nctime)"
   ]
  },
  {
   "cell_type": "code",
   "execution_count": 18,
   "metadata": {},
   "outputs": [],
   "source": [
    "##  Get the fiber assign output for this first non-calibration tile.\n",
    "tpath    = fibassigndir + 'tile-{:05d}.fits'.format(nctile)\n",
    "fao_tile = fits.open(tpath)\n",
    "\n",
    "fpath    = fibassigndir + 'fiberassign_{:05d}.fits'.format(nctile)\n",
    "fao_fib  = fits.open(fpath)"
   ]
  },
  {
   "cell_type": "code",
   "execution_count": 19,
   "metadata": {},
   "outputs": [],
   "source": [
    "# Get the fiber map for this exposure, i.e. the spectrograph id (0-9) for each fiber in the exposure.  \n",
    "# Note: the mapping is currently trivial % 500 of fiberid, but will not be in the future. \n",
    "fmap     = fits.open(findfile('fibermap', night=ncnight, expid=ncexp))\n",
    "specids  = Table(fmap[1].data)\n",
    "fmap.close()"
   ]
  },
  {
   "cell_type": "code",
   "execution_count": 20,
   "metadata": {},
   "outputs": [
    {
     "data": {
      "text/html": [
       "&lt;Table length=4594&gt;\n",
       "<table id=\"table46913704760936\" class=\"table-striped table-bordered table-condensed\">\n",
       "<thead><tr><th>FIBER</th><th>TARGETID</th><th>RA</th><th>DEC</th><th>HPXPIXEL</th><th>SPECTROID</th></tr></thead>\n",
       "<thead><tr><th>int32</th><th>int64</th><th>float64</th><th>float64</th><th>int64</th><th>int32</th></tr></thead>\n",
       "<tr><td>5</td><td>288230398410884638</td><td>150.617752075</td><td>33.1274032593</td><td>5307</td><td>0</td></tr>\n",
       "<tr><td>6</td><td>288230398410886139</td><td>150.625640869</td><td>33.0701293945</td><td>5307</td><td>0</td></tr>\n",
       "<tr><td>7</td><td>288230398410885140</td><td>150.800811768</td><td>33.2164077759</td><td>5307</td><td>0</td></tr>\n",
       "<tr><td>8</td><td>288230398402498265</td><td>150.860275269</td><td>33.1895866394</td><td>5305</td><td>0</td></tr>\n",
       "<tr><td>9</td><td>288230398410887968</td><td>150.571438113</td><td>33.0063968297</td><td>5307</td><td>0</td></tr>\n",
       "<tr><td>10</td><td>288230398410887574</td><td>150.616134644</td><td>33.0336380005</td><td>5307</td><td>0</td></tr>\n",
       "<tr><td>11</td><td>288230398410886069</td><td>150.676391602</td><td>33.1563529968</td><td>5307</td><td>0</td></tr>\n",
       "<tr><td>14</td><td>288230398410887758</td><td>150.743151976</td><td>33.1681794366</td><td>5307</td><td>0</td></tr>\n",
       "<tr><td>16</td><td>288230398402499431</td><td>150.822753906</td><td>33.0338134766</td><td>5305</td><td>0</td></tr>\n",
       "<tr><td>17</td><td>288230398410886105</td><td>150.623626709</td><td>33.0048561096</td><td>5307</td><td>0</td></tr>\n",
       "<tr><td>...</td><td>...</td><td>...</td><td>...</td><td>...</td><td>...</td></tr>\n",
       "<tr><td>4990</td><td>288230398415078753</td><td>151.643539429</td><td>33.0456047058</td><td>5308</td><td>9</td></tr>\n",
       "<tr><td>4991</td><td>288230398415080465</td><td>151.794509888</td><td>33.1160163879</td><td>5308</td><td>9</td></tr>\n",
       "<tr><td>4992</td><td>288230398402498001</td><td>151.464859009</td><td>32.664516449</td><td>5305</td><td>9</td></tr>\n",
       "<tr><td>4993</td><td>288230398402496744</td><td>151.605117798</td><td>33.0545082092</td><td>5305</td><td>9</td></tr>\n",
       "<tr><td>4994</td><td>288230398415078953</td><td>151.651901245</td><td>33.1824684143</td><td>5308</td><td>9</td></tr>\n",
       "<tr><td>4995</td><td>288230398402499551</td><td>151.491279055</td><td>32.4524148465</td><td>5305</td><td>9</td></tr>\n",
       "<tr><td>4996</td><td>288230398402499570</td><td>151.580632711</td><td>32.5042674535</td><td>5305</td><td>9</td></tr>\n",
       "<tr><td>4997</td><td>288230398415080991</td><td>151.687976843</td><td>33.0884661925</td><td>5308</td><td>9</td></tr>\n",
       "<tr><td>4998</td><td>288230398415081932</td><td>151.728591919</td><td>33.024723053</td><td>5308</td><td>9</td></tr>\n",
       "<tr><td>4999</td><td>288230398402497847</td><td>151.360336304</td><td>32.5463867188</td><td>5305</td><td>9</td></tr>\n",
       "</table>"
      ],
      "text/plain": [
       "<Table length=4594>\n",
       "FIBER      TARGETID            RA           DEC      HPXPIXEL SPECTROID\n",
       "int32       int64           float64       float64     int64     int32  \n",
       "----- ------------------ ------------- ------------- -------- ---------\n",
       "    5 288230398410884638 150.617752075 33.1274032593     5307         0\n",
       "    6 288230398410886139 150.625640869 33.0701293945     5307         0\n",
       "    7 288230398410885140 150.800811768 33.2164077759     5307         0\n",
       "    8 288230398402498265 150.860275269 33.1895866394     5305         0\n",
       "    9 288230398410887968 150.571438113 33.0063968297     5307         0\n",
       "   10 288230398410887574 150.616134644 33.0336380005     5307         0\n",
       "   11 288230398410886069 150.676391602 33.1563529968     5307         0\n",
       "   14 288230398410887758 150.743151976 33.1681794366     5307         0\n",
       "   16 288230398402499431 150.822753906 33.0338134766     5305         0\n",
       "   17 288230398410886105 150.623626709 33.0048561096     5307         0\n",
       "  ...                ...           ...           ...      ...       ...\n",
       " 4990 288230398415078753 151.643539429 33.0456047058     5308         9\n",
       " 4991 288230398415080465 151.794509888 33.1160163879     5308         9\n",
       " 4992 288230398402498001 151.464859009  32.664516449     5305         9\n",
       " 4993 288230398402496744 151.605117798 33.0545082092     5305         9\n",
       " 4994 288230398415078953 151.651901245 33.1824684143     5308         9\n",
       " 4995 288230398402499551 151.491279055 32.4524148465     5305         9\n",
       " 4996 288230398402499570 151.580632711 32.5042674535     5305         9\n",
       " 4997 288230398415080991 151.687976843 33.0884661925     5308         9\n",
       " 4998 288230398415081932 151.728591919  33.024723053     5308         9\n",
       " 4999 288230398402497847 151.360336304 32.5463867188     5305         9"
      ]
     },
     "execution_count": 20,
     "metadata": {},
     "output_type": "execute_result"
    }
   ],
   "source": [
    "# Construct the necessary joint table and sort by fiberid. \n",
    "ntable   = join(Table(fao_fib['FASSIGN'].data)['FIBER', 'TARGETID'], Table(targets[1].data)['RA', 'DEC', 'TARGETID', 'HPXPIXEL'], keys='TARGETID')\n",
    "ntable   = join(ntable, specids['TARGETID', 'SPECTROID'], keys='TARGETID')\n",
    "ntable.sort('FIBER')\n",
    "ntable"
   ]
  },
  {
   "cell_type": "markdown",
   "metadata": {},
   "source": [
    "#### Ok, we have enough info. now (night, exposure id, nside, camera - e.g. r9) to retrieve the (calibrated) spectra for each target and corresponding S/N scores."
   ]
  },
  {
   "cell_type": "code",
   "execution_count": 21,
   "metadata": {},
   "outputs": [],
   "source": [
    "##  https://github.com/desihub/desispec/blob/master/py/desispec/specscore.py\n",
    "scores = Table()\n",
    "\n",
    "for i in range(0, 10, 1):\n",
    "  _scores = Table()\n",
    "    \n",
    "  for camera in ['b', 'r', 'z']:\n",
    "    cframe_path = findfile('cframe', night=ncnight, expid=ncexp, nside=64, camera='{}{}'.format(camera, i))\n",
    "    dat         = fits.open(cframe_path)\n",
    "\n",
    "    _scores     = hstack([_scores, Table(dat['SCORES'].data)], join_type='outer')\n",
    "    \n",
    "    \n",
    "  _scores.add_column(Column(dat['FIBERMAP'].data['TARGETID'], name='TARGETID'), index=0)\n",
    "\n",
    "  scores      = vstack([scores, _scores])"
   ]
  },
  {
   "cell_type": "code",
   "execution_count": 22,
   "metadata": {},
   "outputs": [],
   "source": [
    "scores.sort('TARGETID')"
   ]
  },
  {
   "cell_type": "code",
   "execution_count": 23,
   "metadata": {},
   "outputs": [
    {
     "data": {
      "text/html": [
       "&lt;Table masked=True length=5000&gt;\n",
       "<table id=\"table46913706610360\" class=\"table-striped table-bordered table-condensed\">\n",
       "<thead><tr><th>TARGETID</th><th>SUM_RAW_COUNT_B</th><th>MEDIAN_RAW_COUNT_B</th><th>MEDIAN_RAW_SNR_B</th><th>SUM_FFLAT_COUNT_B</th><th>MEDIAN_FFLAT_COUNT_B</th><th>MEDIAN_FFLAT_SNR_B</th><th>SUM_SKYSUB_COUNT_B</th><th>MEDIAN_SKYSUB_COUNT_B</th><th>MEDIAN_SKYSUB_SNR_B</th><th>SUM_CALIB_COUNT_B</th><th>MEDIAN_CALIB_COUNT_B</th><th>MEDIAN_CALIB_SNR_B</th><th>SUM_RAW_COUNT_R</th><th>MEDIAN_RAW_COUNT_R</th><th>MEDIAN_RAW_SNR_R</th><th>SUM_FFLAT_COUNT_R</th><th>MEDIAN_FFLAT_COUNT_R</th><th>MEDIAN_FFLAT_SNR_R</th><th>SUM_SKYSUB_COUNT_R</th><th>MEDIAN_SKYSUB_COUNT_R</th><th>MEDIAN_SKYSUB_SNR_R</th><th>SUM_CALIB_COUNT_R</th><th>MEDIAN_CALIB_COUNT_R</th><th>MEDIAN_CALIB_SNR_R</th><th>SUM_RAW_COUNT_Z</th><th>MEDIAN_RAW_COUNT_Z</th><th>MEDIAN_RAW_SNR_Z</th><th>SUM_FFLAT_COUNT_Z</th><th>MEDIAN_FFLAT_COUNT_Z</th><th>MEDIAN_FFLAT_SNR_Z</th><th>SUM_SKYSUB_COUNT_Z</th><th>MEDIAN_SKYSUB_COUNT_Z</th><th>MEDIAN_SKYSUB_SNR_Z</th><th>SUM_CALIB_COUNT_Z</th><th>MEDIAN_CALIB_COUNT_Z</th><th>MEDIAN_CALIB_SNR_Z</th></tr></thead>\n",
       "<thead><tr><th>int64</th><th>float64</th><th>float64</th><th>float64</th><th>float64</th><th>float64</th><th>float64</th><th>float64</th><th>float64</th><th>float64</th><th>float64</th><th>float64</th><th>float64</th><th>float64</th><th>float64</th><th>float64</th><th>float64</th><th>float64</th><th>float64</th><th>float64</th><th>float64</th><th>float64</th><th>float64</th><th>float64</th><th>float64</th><th>float64</th><th>float64</th><th>float64</th><th>float64</th><th>float64</th><th>float64</th><th>float64</th><th>float64</th><th>float64</th><th>float64</th><th>float64</th><th>float64</th></tr></thead>\n",
       "<tr><td>-5848754</td><td>472049.204826</td><td>227.443342209</td><td>11.4703771065</td><td>463885.100441</td><td>223.481405909</td><td>11.4613815383</td><td>-671.512367348</td><td>-1.23116727526</td><td>-0.0626845047375</td><td>-23.4157475831</td><td>-0.0373042745167</td><td>-0.0626845045898</td><td>797102.384178</td><td>305.613155365</td><td>14.4611385589</td><td>783525.623589</td><td>300.452870655</td><td>14.4187505601</td><td>-78.3429447919</td><td>-0.947729780511</td><td>-0.0421630506252</td><td>-2.59721677494</td><td>-0.0152628287989</td><td>-0.042163050624</td><td>2412342.95306</td><td>346.288738251</td><td>15.6130923162</td><td>2369742.46694</td><td>340.386776199</td><td>15.5893153732</td><td>344.169630074</td><td>0.934711105761</td><td>0.040046445703</td><td>1.44313359897</td><td>0.0130845859165</td><td>0.0400464457025</td></tr>\n",
       "<tr><td>-5848304</td><td>484440.085083</td><td>236.78689003</td><td>11.7109127649</td><td>464247.045879</td><td>226.361877341</td><td>11.7001323788</td><td>-309.566929289</td><td>0.13031924463</td><td>0.00727404623062</td><td>-19.6195361597</td><td>0.00538197569178</td><td>0.0072740462305</td><td>817633.335443</td><td>313.919382095</td><td>14.7121911629</td><td>783132.202557</td><td>300.636204034</td><td>14.6681275864</td><td>-471.763976661</td><td>-0.146597774714</td><td>-0.00756249195206</td><td>-5.36501282503</td><td>-0.00273388742515</td><td>-0.00756249195202</td><td>2473525.33554</td><td>359.010028839</td><td>15.8944520101</td><td>2370100.31949</td><td>344.096282717</td><td>15.8657852985</td><td>702.022182877</td><td>-0.724003000442</td><td>-0.0341378215808</td><td>13.6322558865</td><td>-0.0102832004914</td><td>-0.0341378215805</td></tr>\n",
       "<tr><td>-5848303</td><td>489488.297096</td><td>237.792005539</td><td>11.7911455375</td><td>464191.520334</td><td>225.682453858</td><td>11.7808892236</td><td>-365.092473755</td><td>-0.256571484256</td><td>-0.0124501653842</td><td>-15.2730983633</td><td>-0.00944422294221</td><td>-0.0124501653841</td><td>826535.01432</td><td>317.34667778</td><td>14.7767568684</td><td>783652.821159</td><td>301.03078953</td><td>14.7351717473</td><td>48.8546251698</td><td>-1.2167885804</td><td>-0.0537696082259</td><td>-7.06472159426</td><td>-0.0201043853187</td><td>-0.0537696082235</td><td>2498846.39028</td><td>362.539310455</td><td>15.9568225402</td><td>2368890.70985</td><td>344.098511173</td><td>15.9265148056</td><td>-507.587452051</td><td>-0.587862821056</td><td>-0.0254876518771</td><td>-10.7935146254</td><td>-0.0085103893789</td><td>-0.0254876518741</td></tr>\n",
       "<tr><td>-5848302</td><td>484692.03035</td><td>234.255752563</td><td>11.6502592506</td><td>464148.319033</td><td>224.256286893</td><td>11.6414194367</td><td>-408.293775035</td><td>-0.410970506938</td><td>-0.0202191608269</td><td>-5.14014426738</td><td>-0.0118239161768</td><td>-0.0202191608265</td><td>818896.256424</td><td>315.643854141</td><td>14.705821387</td><td>784314.112782</td><td>302.024385397</td><td>14.6600864675</td><td>710.146248741</td><td>0.106887436101</td><td>0.00624805684761</td><td>9.39516834568</td><td>0.00186202160227</td><td>0.00624805684754</td><td>2470793.29071</td><td>358.1864357</td><td>15.9000542832</td><td>2366315.67394</td><td>342.805091665</td><td>15.8692394316</td><td>-3082.62336627</td><td>-1.02895367714</td><td>-0.0411918224345</td><td>-36.2012659056</td><td>-0.0130868296587</td><td>-0.0411918224337</td></tr>\n",
       "<tr><td>-5848301</td><td>492225.775486</td><td>237.325391769</td><td>11.7735524358</td><td>464534.685865</td><td>224.155715152</td><td>11.7639994338</td><td>-21.9269430553</td><td>-1.19967421996</td><td>-0.0617226714026</td><td>3.2361855351</td><td>-0.0336684985374</td><td>-0.0617226713938</td><td>828920.063812</td><td>317.048921585</td><td>14.7446276748</td><td>782343.827738</td><td>299.486579824</td><td>14.6970552186</td><td>-1260.13879557</td><td>-0.768988972209</td><td>-0.0336916691171</td><td>-22.7881048963</td><td>-0.0131349023747</td><td>-0.0336916691165</td><td>2507372.47768</td><td>361.377811432</td><td>15.9594138264</td><td>2366615.39246</td><td>340.742424273</td><td>15.9359658213</td><td>-2782.90484639</td><td>-1.32572821238</td><td>-0.0571743892123</td><td>-27.1009052847</td><td>-0.0184453287304</td><td>-0.0571743892081</td></tr>\n",
       "<tr><td>-5848300</td><td>489319.737923</td><td>235.803899765</td><td>11.7078911603</td><td>464044.073222</td><td>223.602757998</td><td>11.6976290028</td><td>-512.5395867</td><td>-0.0647574131083</td><td>-0.00338235084253</td><td>-10.1853731165</td><td>-0.0014925808969</td><td>-0.00338235084252</td><td>825221.236763</td><td>316.992273331</td><td>14.7515584195</td><td>782532.604632</td><td>300.440005472</td><td>14.7042790111</td><td>-1071.36190121</td><td>-0.553121753985</td><td>-0.0252977902974</td><td>-24.4377327549</td><td>-0.0103363162016</td><td>-0.0252977902971</td><td>2497374.61136</td><td>359.787349701</td><td>15.8476313185</td><td>2367628.60831</td><td>341.261144425</td><td>15.8184285398</td><td>-1769.6889995</td><td>-1.13392331335</td><td>-0.0433987973577</td><td>-19.084319392</td><td>-0.0137077083035</td><td>-0.0433987973568</td></tr>\n",
       "<tr><td>288230398377331740</td><td>445652.869778</td><td>218.41711998</td><td>11.1483115476</td><td>478360.002078</td><td>234.425677895</td><td>11.1394356828</td><td>13678.3270977</td><td>7.95698034028</td><td>0.382596252029</td><td>422.942395854</td><td>0.240972287952</td><td>0.382596248304</td><td>743362.890842</td><td>289.364719391</td><td>14.0053084285</td><td>797757.751559</td><td>310.397739716</td><td>13.958746411</td><td>13760.5977464</td><td>7.82973609165</td><td>0.333957415432</td><td>241.584321476</td><td>0.133530846837</td><td>0.333957415147</td><td>2227260.5119</td><td>329.723548889</td><td>15.1852635588</td><td>2390268.58164</td><td>353.432572833</td><td>15.1553853173</td><td>20968.8886157</td><td>8.83547458968</td><td>0.341006304568</td><td>262.819062511</td><td>0.112158664757</td><td>0.341006304068</td></tr>\n",
       "<tr><td>288230398377331783</td><td>451796.027996</td><td>221.264104843</td><td>11.2112757528</td><td>486197.702326</td><td>238.22101123</td><td>11.2008234621</td><td>21516.0273454</td><td>11.4296097357</td><td>0.53219866732</td><td>663.2883126</td><td>0.346759591083</td><td>0.532198664522</td><td>756058.155525</td><td>295.235681534</td><td>14.0994769873</td><td>813514.843398</td><td>317.523974275</td><td>14.0517944811</td><td>29517.6895858</td><td>15.7449258765</td><td>0.669640240964</td><td>511.61862003</td><td>0.276707707975</td><td>0.669640238646</td><td>2239864.38868</td><td>340.945072174</td><td>15.4252261928</td><td>2409436.24086</td><td>367.161149501</td><td>15.3922846416</td><td>40136.5478387</td><td>19.2245348077</td><td>0.745037738231</td><td>501.538853709</td><td>0.247007673381</td><td>0.74503772153</td></tr>\n",
       "<tr><td>288230398377331895</td><td>448243.420094</td><td>220.047340393</td><td>11.176328303</td><td>482051.064242</td><td>236.513492256</td><td>11.1661441864</td><td>17369.389262</td><td>9.16765665683</td><td>0.422944646495</td><td>522.761468463</td><td>0.257251715114</td><td>0.422944645365</td><td>749730.702005</td><td>291.969547272</td><td>14.108451934</td><td>806452.715894</td><td>313.38815926</td><td>14.0710461308</td><td>22455.562082</td><td>11.8734542949</td><td>0.507999133698</td><td>394.499674921</td><td>0.201645064908</td><td>0.507999132906</td><td>2241090.59829</td><td>336.736907959</td><td>15.3368090312</td><td>2410323.13491</td><td>361.720445753</td><td>15.3068456035</td><td>41023.4418865</td><td>18.3482141923</td><td>0.681787293081</td><td>522.847191254</td><td>0.233940328025</td><td>0.681787288789</td></tr>\n",
       "<tr><td>288230398377331901</td><td>446654.703991</td><td>217.775011063</td><td>11.1005626162</td><td>474136.852762</td><td>231.322622882</td><td>11.0912162821</td><td>9455.1777823</td><td>4.9681299971</td><td>0.237693011937</td><td>296.771306684</td><td>0.146528419469</td><td>0.237693011654</td><td>748535.567554</td><td>289.118814468</td><td>13.8955197769</td><td>794749.729631</td><td>306.969941702</td><td>13.8508093292</td><td>10752.5758186</td><td>5.57719367618</td><td>0.232640705219</td><td>193.79138384</td><td>0.0982422967993</td><td>0.232640704695</td><td>2252186.16261</td><td>334.715900421</td><td>15.2760864426</td><td>2391577.14668</td><td>355.072478881</td><td>15.2520121433</td><td>22277.4536589</td><td>9.11379285247</td><td>0.352177616431</td><td>289.372609585</td><td>0.116587921329</td><td>0.352177616037</td></tr>\n",
       "<tr><td>...</td><td>...</td><td>...</td><td>...</td><td>...</td><td>...</td><td>...</td><td>...</td><td>...</td><td>...</td><td>...</td><td>...</td><td>...</td><td>...</td><td>...</td><td>...</td><td>...</td><td>...</td><td>...</td><td>...</td><td>...</td><td>...</td><td>...</td><td>...</td><td>...</td><td>...</td><td>...</td><td>...</td><td>...</td><td>...</td><td>...</td><td>...</td><td>...</td><td>...</td><td>...</td><td>...</td><td>...</td></tr>\n",
       "<tr><td>288230399866311399</td><td>756313.400352</td><td>413.548793793</td><td>16.3993489415</td><td>794893.194024</td><td>433.840558705</td><td>16.3655727248</td><td>330297.063394</td><td>181.994089528</td><td>6.7907137479</td><td>8938.46458704</td><td>4.96217566813</td><td>6.79070824919</td><td>1592874.33287</td><td>768.607139587</td><td>23.9740721074</td><td>1674757.92059</td><td>807.392071697</td><td>23.7563569714</td><td>891320.087788</td><td>484.048086497</td><td>13.9631519461</td><td>15214.4327319</td><td>8.26931813721</td><td>13.9631350818</td><td>4054559.18747</td><td>1227.32307434</td><td>30.703185793</td><td>4261437.10132</td><td>1290.10556173</td><td>30.4598139182</td><td>1892965.60053</td><td>910.483530639</td><td>20.4496130722</td><td>23865.549069</td><td>10.9075826635</td><td>20.4495692982</td></tr>\n",
       "<tr><td>288230399866311400</td><td>453907.805332</td><td>225.088863373</td><td>11.3602214694</td><td>481318.492351</td><td>238.547423701</td><td>11.3494682245</td><td>16722.3617204</td><td>8.79826848139</td><td>0.428994562615</td><td>452.676893834</td><td>0.26722102434</td><td>0.42899456015</td><td>783418.970694</td><td>305.508565903</td><td>14.4179850416</td><td>830583.555916</td><td>324.620295048</td><td>14.3838867877</td><td>47145.7231142</td><td>24.9030868401</td><td>1.05830250408</td><td>804.905406358</td><td>0.428862625175</td><td>1.05830249307</td><td>2327041.56561</td><td>369.20665741</td><td>16.1316839483</td><td>2467688.34506</td><td>392.02226092</td><td>16.0986583228</td><td>99216.8442747</td><td>44.4205976067</td><td>1.64966706026</td><td>1237.85914494</td><td>0.563792814158</td><td>1.6496670336</td></tr>\n",
       "<tr><td>288230399866311402</td><td>460833.880402</td><td>226.769104004</td><td>11.3995836437</td><td>490303.206572</td><td>241.291389884</td><td>11.3891050715</td><td>25707.0759411</td><td>13.6263851169</td><td>0.644063457535</td><td>705.044838211</td><td>0.392912296999</td><td>0.644063452374</td><td>772465.516748</td><td>305.611209869</td><td>14.4141690583</td><td>821971.907229</td><td>325.305947925</td><td>14.3666819301</td><td>38534.0744267</td><td>21.8499949935</td><td>0.920224364257</td><td>658.749622107</td><td>0.384031543256</td><td>0.920224360183</td><td>2271521.712</td><td>342.852401733</td><td>15.5207414465</td><td>2416467.1391</td><td>364.773426495</td><td>15.4893456924</td><td>47995.6383118</td><td>20.921167174</td><td>0.790609452594</td><td>613.701393381</td><td>0.259210350508</td><td>0.790609450106</td></tr>\n",
       "<tr><td>288230399866311405</td><td>1549973.41875</td><td>856.435470582</td><td>24.9112366455</td><td>1603139.61326</td><td>885.545088109</td><td>24.7834137515</td><td>1138543.48263</td><td>629.65429902</td><td>17.4658675777</td><td>30875.0546308</td><td>17.0119504452</td><td>17.4657776608</td><td>3775031.00412</td><td>1964.54444885</td><td>39.1446368922</td><td>3904579.06035</td><td>2030.51174413</td><td>38.2194090312</td><td>3121141.22755</td><td>1695.40588605</td><td>31.6194883912</td><td>53168.6406382</td><td>28.8119933632</td><td>31.6183765169</td><td>8537770.72403</td><td>3469.08248901</td><td>52.2606417806</td><td>8830528.29485</td><td>3590.66694649</td><td>51.1822674412</td><td>6462056.79406</td><td>3130.02312825</td><td>43.516970561</td><td>81519.4975977</td><td>37.2846173011</td><td>43.5165213589</td></tr>\n",
       "<tr><td>288230399866311484</td><td>471162.140759</td><td>231.742019653</td><td>11.611804163</td><td>504426.004869</td><td>248.156914256</td><td>11.6010380486</td><td>39829.8742384</td><td>22.1143919679</td><td>1.01505121705</td><td>1196.10110488</td><td>0.643647846639</td><td>1.01505108809</td><td>778715.145502</td><td>308.592710495</td><td>14.5022249711</td><td>833567.860345</td><td>330.25670033</td><td>14.457048072</td><td>50130.027543</td><td>26.8961254727</td><td>1.12673142738</td><td>859.983252798</td><td>0.465312988999</td><td>1.12673141889</td><td>2302920.43041</td><td>363.31829071</td><td>16.0503449639</td><td>2466142.10107</td><td>389.223122168</td><td>16.0206841853</td><td>97670.6002858</td><td>42.923598112</td><td>1.59508929898</td><td>1209.11505498</td><td>0.547874072323</td><td>1.5950892849</td></tr>\n",
       "<tr><td>288230399866311621</td><td>603677.67141</td><td>313.841609955</td><td>13.9311243183</td><td>644822.615442</td><td>335.591197012</td><td>13.915153584</td><td>180226.484811</td><td>100.540325446</td><td>4.15269319876</td><td>5239.83808972</td><td>2.85287601157</td><td>4.15269112485</td><td>1106380.36957</td><td>502.093753815</td><td>18.9820536601</td><td>1181885.12692</td><td>535.636502848</td><td>18.8884769454</td><td>398447.294114</td><td>224.400582363</td><td>7.54386776219</td><td>6755.34830653</td><td>3.72214611512</td><td>7.54386335055</td><td>2803948.61763</td><td>611.499309539</td><td>21.315801055</td><td>2995011.81726</td><td>653.343282654</td><td>21.2316685815</td><td>626540.316473</td><td>296.066590176</td><td>8.94092263359</td><td>7872.8719613</td><td>3.60122581505</td><td>8.94091935125</td></tr>\n",
       "<tr><td>288230399866311671</td><td>431484.123215</td><td>209.492292404</td><td>10.8540129053</td><td>466238.903487</td><td>226.333572903</td><td>10.8457299122</td><td>1642.77285667</td><td>0.524197824406</td><td>0.0230964147528</td><td>64.8885311077</td><td>0.0141898143065</td><td>0.0230964147526</td><td>726365.991547</td><td>278.830270767</td><td>13.6986062302</td><td>784615.800643</td><td>301.218668721</td><td>13.6524065595</td><td>1177.96784116</td><td>0.28593288529</td><td>0.011968367471</td><td>24.0682551759</td><td>0.0047657792589</td><td>0.011968367471</td><td>2195463.60478</td><td>317.654361725</td><td>14.8575049284</td><td>2371722.33749</td><td>342.979555532</td><td>14.8327599523</td><td>3250.83670508</td><td>0.514537043621</td><td>0.0245319268633</td><td>54.4191731799</td><td>0.00629467348911</td><td>0.0245319268628</td></tr>\n",
       "<tr><td>288230399866311679</td><td>440232.343987</td><td>214.561672211</td><td>11.0378196186</td><td>464173.872086</td><td>226.309094903</td><td>11.0272200079</td><td>-422.258544826</td><td>0.427924526922</td><td>0.0218726791452</td><td>-14.9134939328</td><td>0.0137099050415</td><td>0.021872679145</td><td>743227.524933</td><td>286.693658829</td><td>13.9227955421</td><td>783860.105655</td><td>301.812818137</td><td>13.8882907846</td><td>422.27285343</td><td>0.180159632522</td><td>0.00659282898081</td><td>3.52774364279</td><td>0.003085002092</td><td>0.00659282898081</td><td>2246728.82642</td><td>326.42621994</td><td>15.1053590605</td><td>2368984.22057</td><td>343.890183085</td><td>15.0718528548</td><td>512.719788468</td><td>0.37766972711</td><td>0.0131188411203</td><td>-9.51279803147</td><td>0.00475414202431</td><td>0.0131188411203</td></tr>\n",
       "<tr><td>288230399866311684</td><td>432824.133747</td><td>212.107257843</td><td>10.9323213734</td><td>464664.541176</td><td>227.62082933</td><td>10.9226388647</td><td>68.4105450611</td><td>0.789350659225</td><td>0.0360046303264</td><td>3.19166698736</td><td>0.0235249857416</td><td>0.0360046303201</td><td>731289.30673</td><td>281.253318787</td><td>13.7273817162</td><td>784976.753473</td><td>301.572411634</td><td>13.6991877551</td><td>1538.9206712</td><td>0.0982199964774</td><td>0.00406809478799</td><td>39.2662905016</td><td>0.00157119636928</td><td>0.00406809478799</td><td>2208909.14295</td><td>321.827125549</td><td>14.878168987</td><td>2371613.64035</td><td>345.5923895</td><td>14.8499188967</td><td>3142.13956701</td><td>0.162461929532</td><td>0.00536342821015</td><td>43.1113858191</td><td>0.00196792229623</td><td>0.00536342821015</td></tr>\n",
       "<tr><td>288230399866311721</td><td>439990.852833</td><td>213.986854553</td><td>10.9929532412</td><td>464860.289528</td><td>225.995093126</td><td>10.9843692373</td><td>264.158897768</td><td>0.623368002406</td><td>0.0324869531119</td><td>-5.69171648003</td><td>0.019501985893</td><td>0.0324869531076</td><td>741098.443119</td><td>285.406246185</td><td>13.822273539</td><td>783072.857238</td><td>301.616077146</td><td>13.7782694143</td><td>-364.975563325</td><td>0.426574064182</td><td>0.0195597083775</td><td>-4.8308795616</td><td>0.00729702410432</td><td>0.0195597083774</td><td>2240723.53335</td><td>325.985717773</td><td>15.0314677159</td><td>2367617.47041</td><td>344.509661933</td><td>15.0075623247</td><td>-854.03037152</td><td>-0.243968817411</td><td>-0.0129360859396</td><td>-15.2661248804</td><td>-0.0034255057073</td><td>-0.0129360859396</td></tr>\n",
       "</table>"
      ],
      "text/plain": [
       "<Table masked=True length=5000>\n",
       "     TARGETID      SUM_RAW_COUNT_B ... MEDIAN_CALIB_COUNT_Z MEDIAN_CALIB_SNR_Z\n",
       "      int64            float64     ...       float64             float64      \n",
       "------------------ --------------- ... -------------------- ------------------\n",
       "          -5848754   472049.204826 ...      0.0130845859165    0.0400464457025\n",
       "          -5848304   484440.085083 ...     -0.0102832004914   -0.0341378215805\n",
       "          -5848303   489488.297096 ...     -0.0085103893789   -0.0254876518741\n",
       "          -5848302    484692.03035 ...     -0.0130868296587   -0.0411918224337\n",
       "          -5848301   492225.775486 ...     -0.0184453287304   -0.0571743892081\n",
       "          -5848300   489319.737923 ...     -0.0137077083035   -0.0433987973568\n",
       "288230398377331740   445652.869778 ...       0.112158664757     0.341006304068\n",
       "288230398377331783   451796.027996 ...       0.247007673381      0.74503772153\n",
       "288230398377331895   448243.420094 ...       0.233940328025     0.681787288789\n",
       "288230398377331901   446654.703991 ...       0.116587921329     0.352177616037\n",
       "               ...             ... ...                  ...                ...\n",
       "288230399866311399   756313.400352 ...        10.9075826635      20.4495692982\n",
       "288230399866311400   453907.805332 ...       0.563792814158       1.6496670336\n",
       "288230399866311402   460833.880402 ...       0.259210350508     0.790609450106\n",
       "288230399866311405   1549973.41875 ...        37.2846173011      43.5165213589\n",
       "288230399866311484   471162.140759 ...       0.547874072323       1.5950892849\n",
       "288230399866311621    603677.67141 ...        3.60122581505      8.94091935125\n",
       "288230399866311671   431484.123215 ...     0.00629467348911    0.0245319268628\n",
       "288230399866311679   440232.343987 ...     0.00475414202431    0.0131188411203\n",
       "288230399866311684   432824.133747 ...     0.00196792229623   0.00536342821015\n",
       "288230399866311721   439990.852833 ...     -0.0034255057073   -0.0129360859396"
      ]
     },
     "execution_count": 23,
     "metadata": {},
     "output_type": "execute_result"
    }
   ],
   "source": [
    "scores"
   ]
  },
  {
   "cell_type": "code",
   "execution_count": 24,
   "metadata": {},
   "outputs": [],
   "source": [
    "#  Join to the results table\n",
    "ntable = join(ntable, scores, keys='TARGETID')"
   ]
  },
  {
   "cell_type": "code",
   "execution_count": 25,
   "metadata": {},
   "outputs": [],
   "source": [
    "ntable.sort('FIBER')"
   ]
  },
  {
   "cell_type": "code",
   "execution_count": 27,
   "metadata": {},
   "outputs": [
    {
     "data": {
      "text/html": [
       "&lt;Table masked=True length=4594&gt;\n",
       "<table id=\"table46913704762280\" class=\"table-striped table-bordered table-condensed\">\n",
       "<thead><tr><th>FIBER</th><th>TARGETID</th><th>RA</th><th>DEC</th><th>HPXPIXEL</th><th>SPECTROID</th><th>SUM_RAW_COUNT_B</th><th>MEDIAN_RAW_COUNT_B</th><th>MEDIAN_RAW_SNR_B</th><th>SUM_FFLAT_COUNT_B</th><th>MEDIAN_FFLAT_COUNT_B</th><th>MEDIAN_FFLAT_SNR_B</th><th>SUM_SKYSUB_COUNT_B</th><th>MEDIAN_SKYSUB_COUNT_B</th><th>MEDIAN_SKYSUB_SNR_B</th><th>SUM_CALIB_COUNT_B</th><th>MEDIAN_CALIB_COUNT_B</th><th>MEDIAN_CALIB_SNR_B</th><th>SUM_RAW_COUNT_R</th><th>MEDIAN_RAW_COUNT_R</th><th>MEDIAN_RAW_SNR_R</th><th>SUM_FFLAT_COUNT_R</th><th>MEDIAN_FFLAT_COUNT_R</th><th>MEDIAN_FFLAT_SNR_R</th><th>SUM_SKYSUB_COUNT_R</th><th>MEDIAN_SKYSUB_COUNT_R</th><th>MEDIAN_SKYSUB_SNR_R</th><th>SUM_CALIB_COUNT_R</th><th>MEDIAN_CALIB_COUNT_R</th><th>MEDIAN_CALIB_SNR_R</th><th>SUM_RAW_COUNT_Z</th><th>MEDIAN_RAW_COUNT_Z</th><th>MEDIAN_RAW_SNR_Z</th><th>SUM_FFLAT_COUNT_Z</th><th>MEDIAN_FFLAT_COUNT_Z</th><th>MEDIAN_FFLAT_SNR_Z</th><th>SUM_SKYSUB_COUNT_Z</th><th>MEDIAN_SKYSUB_COUNT_Z</th><th>MEDIAN_SKYSUB_SNR_Z</th><th>SUM_CALIB_COUNT_Z</th><th>MEDIAN_CALIB_COUNT_Z</th><th>MEDIAN_CALIB_SNR_Z</th></tr></thead>\n",
       "<thead><tr><th>int32</th><th>int64</th><th>float64</th><th>float64</th><th>int64</th><th>int32</th><th>float64</th><th>float64</th><th>float64</th><th>float64</th><th>float64</th><th>float64</th><th>float64</th><th>float64</th><th>float64</th><th>float64</th><th>float64</th><th>float64</th><th>float64</th><th>float64</th><th>float64</th><th>float64</th><th>float64</th><th>float64</th><th>float64</th><th>float64</th><th>float64</th><th>float64</th><th>float64</th><th>float64</th><th>float64</th><th>float64</th><th>float64</th><th>float64</th><th>float64</th><th>float64</th><th>float64</th><th>float64</th><th>float64</th><th>float64</th><th>float64</th><th>float64</th></tr></thead>\n",
       "<tr><td>5</td><td>288230398410884638</td><td>150.617752075</td><td>33.1274032593</td><td>5307</td><td>0</td><td>497508.217766</td><td>240.494356155</td><td>11.8492093006</td><td>472863.206281</td><td>228.923263937</td><td>11.8382171372</td><td>8306.59347314</td><td>4.65654174534</td><td>0.228687888517</td><td>247.701541448</td><td>0.128120032624</td><td>0.228687887943</td><td>835726.654739</td><td>322.22202301</td><td>14.8598594662</td><td>794263.40002</td><td>306.264659432</td><td>14.8178841152</td><td>10659.4334862</td><td>5.17346630306</td><td>0.235144905137</td><td>189.112250468</td><td>0.0895856219973</td><td>0.235144904267</td><td>2516396.18094</td><td>373.045425415</td><td>16.2482977432</td><td>2391756.17029</td><td>354.305689766</td><td>16.2193517862</td><td>22357.8729857</td><td>10.686323877</td><td>0.436470866105</td><td>286.866248708</td><td>0.13417988364</td><td>0.436470864747</td></tr>\n",
       "<tr><td>6</td><td>288230398410886139</td><td>150.625640869</td><td>33.0701293945</td><td>5307</td><td>0</td><td>533677.293854</td><td>271.224679947</td><td>12.7566826248</td><td>509140.698081</td><td>258.748263313</td><td>12.7426576567</td><td>44584.0852728</td><td>24.2387016903</td><td>1.19553754933</td><td>1193.85344396</td><td>0.70213066076</td><td>1.19553748925</td><td>1054020.31219</td><td>457.55027771</td><td>18.0324337921</td><td>1005834.51455</td><td>436.627447846</td><td>17.9484206935</td><td>222230.54802</td><td>125.252727928</td><td>4.86142019963</td><td>3696.32563432</td><td>2.13114647546</td><td>4.86141826577</td><td>2980489.55358</td><td>603.882217407</td><td>21.1600504498</td><td>2843974.08809</td><td>575.609780506</td><td>21.1004248245</td><td>474575.790781</td><td>220.36864829</td><td>7.45933052984</td><td>5852.52825062</td><td>2.66134816498</td><td>7.45932698211</td></tr>\n",
       "<tr><td>7</td><td>288230398410885140</td><td>150.800811768</td><td>33.2164077759</td><td>5307</td><td>0</td><td>507423.68277</td><td>249.00683403</td><td>12.0987227747</td><td>477314.916178</td><td>234.503134065</td><td>12.0879378085</td><td>12758.3033695</td><td>7.48306370671</td><td>0.377413506386</td><td>378.400606847</td><td>0.215018475912</td><td>0.377413504145</td><td>853463.794899</td><td>332.605113983</td><td>15.132044373</td><td>803139.70149</td><td>312.972459894</td><td>15.0846404255</td><td>19535.7349564</td><td>9.45902284651</td><td>0.422118484324</td><td>331.120250409</td><td>0.164458439869</td><td>0.422118481615</td><td>2546899.59472</td><td>382.005825043</td><td>16.4937687656</td><td>2396953.94524</td><td>360.283833979</td><td>16.4603092216</td><td>27555.6479361</td><td>12.8691293745</td><td>0.527947068786</td><td>336.222579553</td><td>0.16177562031</td><td>0.527947066414</td></tr>\n",
       "<tr><td>8</td><td>288230398402498265</td><td>150.860275269</td><td>33.1895866394</td><td>5305</td><td>0</td><td>583463.198219</td><td>296.410350799</td><td>13.3896055609</td><td>551856.980546</td><td>280.511103715</td><td>13.3753808301</td><td>87300.3677377</td><td>40.2574957533</td><td>1.96490534897</td><td>2455.114374</td><td>1.21584292591</td><td>1.96490493233</td><td>948926.734167</td><td>383.516788483</td><td>16.4417020363</td><td>897864.997645</td><td>362.608186293</td><td>16.3805609488</td><td>114261.031112</td><td>61.3367701709</td><td>2.63148377672</td><td>1953.63410903</td><td>1.04235181213</td><td>2.63148350062</td><td>2629902.10196</td><td>427.423992157</td><td>17.5676924175</td><td>2487924.00594</td><td>404.318028253</td><td>17.5346536237</td><td>118525.708636</td><td>53.1456677548</td><td>2.07974064891</td><td>1473.68883022</td><td>0.663163925483</td><td>2.07974056486</td></tr>\n",
       "<tr><td>9</td><td>288230398410887968</td><td>150.571438113</td><td>33.0063968297</td><td>5307</td><td>0</td><td>496409.604321</td><td>244.698543549</td><td>11.9938333735</td><td>476954.418227</td><td>235.243690735</td><td>11.9822498982</td><td>12397.8054187</td><td>7.63435653678</td><td>0.382449748519</td><td>359.003732485</td><td>0.225077960818</td><td>0.382449744576</td><td>849321.668964</td><td>331.244163513</td><td>15.1110220974</td><td>816183.647023</td><td>317.981270985</td><td>15.0672726455</td><td>32579.6804898</td><td>16.0948245152</td><td>0.737250733908</td><td>541.768278631</td><td>0.287937660637</td><td>0.737250729047</td><td>2531321.75236</td><td>388.682498932</td><td>16.6089164995</td><td>2432489.78777</td><td>373.793644038</td><td>16.5770818557</td><td>63091.490461</td><td>28.5027449799</td><td>1.12407674201</td><td>782.954280119</td><td>0.358504633648</td><td>1.12407668311</td></tr>\n",
       "<tr><td>10</td><td>288230398410887574</td><td>150.616134644</td><td>33.0336380005</td><td>5307</td><td>0</td><td>562895.653809</td><td>282.666606903</td><td>13.1084241177</td><td>538953.324299</td><td>270.603876099</td><td>13.0947843792</td><td>74396.7114905</td><td>39.4515451399</td><td>1.90714703974</td><td>2167.7567384</td><td>1.17787123477</td><td>1.90714674637</td><td>899672.914534</td><td>360.205421448</td><td>15.8680378922</td><td>861402.697155</td><td>345.091282138</td><td>15.8069375938</td><td>77798.7306216</td><td>42.2087247093</td><td>1.84127129869</td><td>1346.3237375</td><td>0.721827416516</td><td>1.84127117962</td><td>2569194.05909</td><td>404.99130249</td><td>17.0037042578</td><td>2460206.06114</td><td>387.577064457</td><td>16.9724341426</td><td>90807.7638355</td><td>39.941269753</td><td>1.54657101944</td><td>1128.82478037</td><td>0.494918861334</td><td>1.54657097228</td></tr>\n",
       "<tr><td>11</td><td>288230398410886069</td><td>150.676391602</td><td>33.1563529968</td><td>5307</td><td>0</td><td>513497.448696</td><td>256.163682938</td><td>12.3212426187</td><td>486426.246252</td><td>242.743378145</td><td>12.3100250144</td><td>21869.6334434</td><td>10.7808882079</td><td>0.545403366684</td><td>554.740505349</td><td>0.315483407285</td><td>0.545403354187</td><td>933015.7187</td><td>378.44707489</td><td>16.2164927714</td><td>883919.159396</td><td>358.518983293</td><td>16.1551676323</td><td>100315.192862</td><td>56.0101658002</td><td>2.39923707784</td><td>1683.45475188</td><td>0.961273258105</td><td>2.39923688926</td><td>2776631.51405</td><td>500.083827973</td><td>19.0543605915</td><td>2630406.31475</td><td>473.211973432</td><td>19.0066928199</td><td>261008.017449</td><td>120.454612105</td><td>4.41970793036</td><td>3235.45626109</td><td>1.45757376847</td><td>4.41970731512</td></tr>\n",
       "<tr><td>14</td><td>288230398410887758</td><td>150.743151976</td><td>33.1681794366</td><td>5307</td><td>0</td><td>582673.682571</td><td>294.168720245</td><td>13.4349874665</td><td>550996.987646</td><td>278.032585364</td><td>13.4203822675</td><td>86440.3748374</td><td>47.6500169733</td><td>2.28126598977</td><td>2574.98929631</td><td>1.39557848252</td><td>2.28126554867</td><td>929652.732986</td><td>378.207740784</td><td>16.2193203718</td><td>879141.373125</td><td>357.542047955</td><td>16.1620489393</td><td>95537.4065912</td><td>52.9845210102</td><td>2.27424179218</td><td>1655.127826</td><td>0.889626137648</td><td>2.27424162986</td><td>2607409.49997</td><td>414.709339142</td><td>17.237010398</td><td>2466827.82333</td><td>393.095753528</td><td>17.1988503099</td><td>97429.5260281</td><td>43.5287406856</td><td>1.681322865</td><td>1207.5026017</td><td>0.536342492582</td><td>1.6813228254</td></tr>\n",
       "<tr><td>16</td><td>288230398402499431</td><td>150.822753906</td><td>33.0338134766</td><td>5305</td><td>0</td><td>763898.075806</td><td>412.817802429</td><td>16.3951416407</td><td>732198.422461</td><td>395.328565978</td><td>16.3709840169</td><td>267641.809653</td><td>150.935521877</td><td>6.21542213838</td><td>8072.30999202</td><td>4.33578290097</td><td>6.21541585818</td><td>1182210.60163</td><td>528.148345947</td><td>19.5903410341</td><td>1132948.16757</td><td>506.792516228</td><td>19.4806940452</td><td>349344.201035</td><td>193.409275974</td><td>7.26868307932</td><td>6131.04374124</td><td>3.19710791649</td><td>7.26867796684</td><td>2856611.07214</td><td>552.242469788</td><td>20.2179118234</td><td>2737852.82553</td><td>529.049243197</td><td>20.1554319399</td><td>368454.528223</td><td>172.352959734</td><td>6.06775789569</td><td>4552.83429938</td><td>2.07582147864</td><td>6.06775617348</td></tr>\n",
       "<tr><td>17</td><td>288230398410886105</td><td>150.623626709</td><td>33.0048561096</td><td>5307</td><td>0</td><td>508561.17342</td><td>252.432327271</td><td>12.166982214</td><td>489015.743402</td><td>242.604435443</td><td>12.1572870482</td><td>24459.1305937</td><td>12.6805882185</td><td>0.646887004733</td><td>644.466900348</td><td>0.377157543619</td><td>0.646886968461</td><td>927873.671757</td><td>380.314540863</td><td>16.3435577817</td><td>892034.434614</td><td>365.423503618</td><td>16.2801179178</td><td>108430.46808</td><td>58.2239480695</td><td>2.43451757267</td><td>1803.78921038</td><td>1.00505039147</td><td>2.4345172943</td><td>2784265.17546</td><td>514.619617462</td><td>19.4520077857</td><td>2676910.34452</td><td>494.645251144</td><td>19.408265138</td><td>307512.047214</td><td>142.238843984</td><td>5.10818814388</td><td>3791.68226281</td><td>1.72555299663</td><td>5.10818670358</td></tr>\n",
       "<tr><td>...</td><td>...</td><td>...</td><td>...</td><td>...</td><td>...</td><td>...</td><td>...</td><td>...</td><td>...</td><td>...</td><td>...</td><td>...</td><td>...</td><td>...</td><td>...</td><td>...</td><td>...</td><td>...</td><td>...</td><td>...</td><td>...</td><td>...</td><td>...</td><td>...</td><td>...</td><td>...</td><td>...</td><td>...</td><td>...</td><td>...</td><td>...</td><td>...</td><td>...</td><td>...</td><td>...</td><td>...</td><td>...</td><td>...</td><td>...</td><td>...</td><td>...</td></tr>\n",
       "<tr><td>4990</td><td>288230398415078753</td><td>151.643539429</td><td>33.0456047058</td><td>5308</td><td>9</td><td>498080.323761</td><td>243.329267502</td><td>11.9779810337</td><td>496870.750429</td><td>242.684573533</td><td>11.9666810856</td><td>32189.075449</td><td>17.622410175</td><td>0.846164174711</td><td>1002.44078589</td><td>0.523296279332</td><td>0.846164165505</td><td>822473.653664</td><td>324.182338715</td><td>14.9283182797</td><td>820768.779631</td><td>323.664774422</td><td>14.8790939368</td><td>36771.6258183</td><td>18.6691488381</td><td>0.819069772039</td><td>635.215031489</td><td>0.325873790915</td><td>0.819069768351</td><td>2428244.23481</td><td>367.438774109</td><td>16.0570933568</td><td>2422416.29654</td><td>366.415761464</td><td>16.0265636205</td><td>53116.6035105</td><td>22.9605632426</td><td>0.900800632042</td><td>654.587612279</td><td>0.2957382755</td><td>0.90080061562</td></tr>\n",
       "<tr><td>4991</td><td>288230398415080465</td><td>151.794509888</td><td>33.1160163879</td><td>5308</td><td>9</td><td>510758.769669</td><td>257.0794487</td><td>12.369461544</td><td>513294.667363</td><td>258.444319778</td><td>12.3575701255</td><td>48612.9923826</td><td>26.6574477284</td><td>1.26373040612</td><td>1424.68935729</td><td>0.795506092347</td><td>1.2637303426</td><td>917301.865723</td><td>378.669147492</td><td>16.3025237629</td><td>921766.873454</td><td>380.49095752</td><td>16.2438738177</td><td>137769.719642</td><td>74.9531098232</td><td>3.02609085861</td><td>2370.93297711</td><td>1.27587889033</td><td>3.02609067792</td><td>2844417.18172</td><td>585.491046905</td><td>20.8123968177</td><td>2858657.01893</td><td>587.976275037</td><td>20.7431721131</td><td>489357.325901</td><td>229.559754467</td><td>7.46368627348</td><td>6105.33246355</td><td>2.81484463224</td><td>7.46368037114</td></tr>\n",
       "<tr><td>4992</td><td>288230398402498001</td><td>151.464859009</td><td>32.664516449</td><td>5305</td><td>9</td><td>488819.338764</td><td>242.782583237</td><td>11.9337661847</td><td>507182.620507</td><td>251.900949583</td><td>11.9210803605</td><td>42500.9455267</td><td>22.5995754788</td><td>1.06203013128</td><td>1281.12478749</td><td>0.674562805511</td><td>1.06203011558</td><td>835562.625164</td><td>337.744998932</td><td>15.2358314008</td><td>866809.089552</td><td>350.770428328</td><td>15.1943612189</td><td>82811.9357398</td><td>44.4415379926</td><td>1.8462772524</td><td>1415.22815106</td><td>0.781616161213</td><td>1.84627721421</td><td>2511240.89555</td><td>439.159832001</td><td>17.8408039497</td><td>2604507.40794</td><td>455.399064177</td><td>17.7950379875</td><td>235207.714918</td><td>107.742048755</td><td>3.78825036955</td><td>2941.00342339</td><td>1.3352329322</td><td>3.7882501689</td></tr>\n",
       "<tr><td>4993</td><td>288230398402496744</td><td>151.605117798</td><td>33.0545082092</td><td>5305</td><td>9</td><td>488470.185486</td><td>240.951738357</td><td>11.8772943154</td><td>486196.824134</td><td>239.885182245</td><td>11.8658595337</td><td>21515.1491541</td><td>11.0959533751</td><td>0.54387542605</td><td>635.407976276</td><td>0.336730367714</td><td>0.543875423807</td><td>809339.090057</td><td>317.177467346</td><td>14.73484934</td><td>805604.555515</td><td>316.01337432</td><td>14.6964121283</td><td>21607.401703</td><td>11.5143430065</td><td>0.509403278969</td><td>372.829162045</td><td>0.198420845156</td><td>0.509403278223</td><td>2422282.629</td><td>366.437625885</td><td>16.1207856637</td><td>2411079.29731</td><td>364.892647135</td><td>16.0851137465</td><td>41779.6042833</td><td>18.2188884726</td><td>0.728875826077</td><td>517.406150009</td><td>0.234301361024</td><td>0.728875805303</td></tr>\n",
       "<tr><td>4994</td><td>288230398415078953</td><td>151.651901245</td><td>33.1824684143</td><td>5308</td><td>9</td><td>483454.027988</td><td>234.713068008</td><td>11.7294997941</td><td>477189.022446</td><td>231.855111837</td><td>11.7190177777</td><td>12507.3474657</td><td>6.99546655037</td><td>0.357320941088</td><td>375.74962216</td><td>0.203717119701</td><td>0.357320940525</td><td>808642.938723</td><td>314.450616837</td><td>14.7071217235</td><td>798335.873485</td><td>309.990687329</td><td>14.6594490219</td><td>14338.719673</td><td>7.87609610511</td><td>0.355531488672</td><td>248.205915917</td><td>0.141053761518</td><td>0.355531488409</td><td>2424131.11559</td><td>357.749347687</td><td>15.8949068711</td><td>2393202.56281</td><td>352.886303358</td><td>15.8651332269</td><td>23902.8697862</td><td>10.7697732259</td><td>0.440802970333</td><td>300.333294268</td><td>0.140198560883</td><td>0.440802970032</td></tr>\n",
       "<tr><td>4995</td><td>288230398402499551</td><td>151.491279055</td><td>32.4524148465</td><td>5305</td><td>9</td><td>676297.227692</td><td>367.818660736</td><td>15.2987501993</td><td>729116.159868</td><td>396.514595842</td><td>15.2715292829</td><td>264434.484888</td><td>155.333577003</td><td>5.87425987473</td><td>7416.36077349</td><td>4.25742029173</td><td>5.87425083055</td><td>1167617.77257</td><td>537.073879242</td><td>19.707479918</td><td>1259280.35711</td><td>578.783899694</td><td>19.5780426791</td><td>475283.203294</td><td>270.106745946</td><td>8.81029725717</td><td>8225.78691467</td><td>4.54058159389</td><td>8.81029187681</td><td>2770655.3343</td><td>608.139781952</td><td>21.1997024691</td><td>2987123.7898</td><td>656.085200018</td><td>21.1220202096</td><td>617824.096773</td><td>292.424810429</td><td>8.75384358641</td><td>7760.43326817</td><td>3.51028144215</td><td>8.753841185</td></tr>\n",
       "<tr><td>4996</td><td>288230398402499570</td><td>151.580632711</td><td>32.5042674535</td><td>5305</td><td>9</td><td>509651.21423</td><td>260.307645798</td><td>12.4237668192</td><td>546136.807823</td><td>278.812900199</td><td>12.4104218426</td><td>81455.1328424</td><td>44.5495375386</td><td>1.98067873712</td><td>2307.24388637</td><td>1.29075181334</td><td>1.98067862612</td><td>864584.933641</td><td>357.512302399</td><td>15.7606242402</td><td>926197.77506</td><td>382.913738554</td><td>15.6972885608</td><td>142200.621247</td><td>78.8968788898</td><td>3.12654614162</td><td>2460.19314816</td><td>1.35823025075</td><td>3.12654583822</td><td>2388916.88916</td><td>409.178066254</td><td>17.1418452618</td><td>2559512.03613</td><td>438.421457157</td><td>17.0966112105</td><td>190212.343102</td><td>87.1823244193</td><td>3.12391053926</td><td>2378.4584456</td><td>1.0809112413</td><td>3.12391024814</td></tr>\n",
       "<tr><td>4997</td><td>288230398415080991</td><td>151.687976843</td><td>33.0884661925</td><td>5308</td><td>9</td><td>4282424.06451</td><td>2628.88946533</td><td>44.8540774215</td><td>4281438.74345</td><td>2628.46698645</td><td>44.3189892894</td><td>3816757.06847</td><td>2368.08154688</td><td>39.8593032331</td><td>111603.519355</td><td>62.1783412871</td><td>39.8581824316</td><td>5536772.84875</td><td>3113.74832153</td><td>49.3480846728</td><td>5534935.56959</td><td>3109.23547796</td><td>47.677042195</td><td>4750938.41577</td><td>2786.01328149</td><td>42.3012888923</td><td>82859.836272</td><td>45.2644511486</td><td>42.3006710418</td><td>7449450.30887</td><td>2973.24188232</td><td>48.2367012467</td><td>7448506.68043</td><td>2971.2313512</td><td>47.402879294</td><td>5079206.9874</td><td>2544.97881079</td><td>38.8872818175</td><td>63714.7901917</td><td>28.4479448279</td><td>38.8869857581</td></tr>\n",
       "<tr><td>4998</td><td>288230398415081932</td><td>151.728591919</td><td>33.024723053</td><td>5308</td><td>9</td><td>710074.258751</td><td>364.160556793</td><td>15.2524210719</td><td>716988.08603</td><td>367.881173736</td><td>15.2288148129</td><td>252306.41105</td><td>138.908787063</td><td>5.70035168844</td><td>7741.85241864</td><td>4.06257853921</td><td>5.70034606554</td><td>1085629.16189</td><td>484.436740875</td><td>18.6568741342</td><td>1095797.36419</td><td>489.110300937</td><td>18.5640795565</td><td>311800.210375</td><td>173.044473566</td><td>6.38847003906</td><td>5395.18682633</td><td>2.95434663526</td><td>6.38846779409</td><td>2648248.67057</td><td>500.351142883</td><td>19.0740489764</td><td>2673541.30653</td><td>505.752751807</td><td>19.0209593877</td><td>304241.613501</td><td>142.362491478</td><td>4.93329584195</td><td>3810.77333279</td><td>1.73995334308</td><td>4.93329534709</td></tr>\n",
       "<tr><td>4999</td><td>288230398402497847</td><td>151.360336304</td><td>32.5463867188</td><td>5305</td><td>9</td><td>473352.845997</td><td>233.155403137</td><td>11.6244997582</td><td>497100.403281</td><td>244.775479346</td><td>11.6137128705</td><td>32418.7283012</td><td>16.9087765116</td><td>0.795455677252</td><td>912.862487442</td><td>0.493782657091</td><td>0.79545566555</td><td>827176.468216</td><td>332.779083252</td><td>15.1281099051</td><td>868235.678269</td><td>349.154902323</td><td>15.0741240594</td><td>84238.5244561</td><td>46.4037127273</td><td>1.89827139647</td><td>1427.67437867</td><td>0.798138822404</td><td>1.89827131828</td><td>2523678.78275</td><td>455.247592926</td><td>18.1746196162</td><td>2649603.73588</td><td>478.53037495</td><td>18.1232161701</td><td>280304.042851</td><td>130.673823555</td><td>4.38162910239</td><td>3507.63626272</td><td>1.63586069372</td><td>4.3816268246</td></tr>\n",
       "</table>"
      ],
      "text/plain": [
       "<Table masked=True length=4594>\n",
       "FIBER      TARGETID      ... MEDIAN_CALIB_COUNT_Z MEDIAN_CALIB_SNR_Z\n",
       "int32       int64        ...       float64             float64      \n",
       "----- ------------------ ... -------------------- ------------------\n",
       "    5 288230398410884638 ...        0.13417988364     0.436470864747\n",
       "    6 288230398410886139 ...        2.66134816498      7.45932698211\n",
       "    7 288230398410885140 ...        0.16177562031     0.527947066414\n",
       "    8 288230398402498265 ...       0.663163925483      2.07974056486\n",
       "    9 288230398410887968 ...       0.358504633648      1.12407668311\n",
       "   10 288230398410887574 ...       0.494918861334      1.54657097228\n",
       "   11 288230398410886069 ...        1.45757376847      4.41970731512\n",
       "   14 288230398410887758 ...       0.536342492582       1.6813228254\n",
       "   16 288230398402499431 ...        2.07582147864      6.06775617348\n",
       "   17 288230398410886105 ...        1.72555299663      5.10818670358\n",
       "  ...                ... ...                  ...                ...\n",
       " 4990 288230398415078753 ...         0.2957382755      0.90080061562\n",
       " 4991 288230398415080465 ...        2.81484463224      7.46368037114\n",
       " 4992 288230398402498001 ...         1.3352329322       3.7882501689\n",
       " 4993 288230398402496744 ...       0.234301361024     0.728875805303\n",
       " 4994 288230398415078953 ...       0.140198560883     0.440802970032\n",
       " 4995 288230398402499551 ...        3.51028144215        8.753841185\n",
       " 4996 288230398402499570 ...         1.0809112413      3.12391024814\n",
       " 4997 288230398415080991 ...        28.4479448279      38.8869857581\n",
       " 4998 288230398415081932 ...        1.73995334308      4.93329534709\n",
       " 4999 288230398402497847 ...        1.63586069372       4.3816268246"
      ]
     },
     "execution_count": 27,
     "metadata": {},
     "output_type": "execute_result"
    }
   ],
   "source": [
    "#  First non-calibration exposure:  fiberid, corresponding target id and S/N values, e.g. MEDIAN_CALIB_SNR_R.\n",
    "ntable"
   ]
  },
  {
   "cell_type": "markdown",
   "metadata": {},
   "source": [
    "#### Now, we want to contrast these S/N measures with the redrock output. \n",
    "E.g. is there a correlation of raw S/N with zwarn.  For this, we'll append \n",
    "the redrock output based, again, on targetid. "
   ]
  },
  {
   "cell_type": "code",
   "execution_count": 28,
   "metadata": {},
   "outputs": [
    {
     "data": {
      "text/html": [
       "&lt;Table length=45378&gt;\n",
       "<table id=\"table46913707517880\" class=\"table-striped table-bordered table-condensed\">\n",
       "<thead><tr><th>TARGETID</th><th>CHI2</th><th>COEFF [10]</th><th>Z</th><th>ZERR</th><th>ZWARN</th><th>NPIXELS</th><th>SPECTYPE</th><th>SUBTYPE</th><th>NCOEFF</th><th>DELTACHI2</th><th>NUMEXP</th><th>NUMTILE</th><th>RELEASE</th><th>BRICKID</th><th>BRICKNAME</th><th>BRICK_OBJID</th><th>MORPHTYPE</th><th>RA</th><th>DEC</th><th>RA_IVAR</th><th>DEC_IVAR</th><th>FLUX_G</th><th>FLUX_R</th><th>FLUX_Z</th><th>FLUX_W1</th><th>FLUX_W2</th><th>FLUX_IVAR_G</th><th>FLUX_IVAR_R</th><th>FLUX_IVAR_Z</th><th>FLUX_IVAR_W1</th><th>FLUX_IVAR_W2</th><th>MW_TRANSMISSION_G</th><th>MW_TRANSMISSION_R</th><th>MW_TRANSMISSION_Z</th><th>MW_TRANSMISSION_W1</th><th>MW_TRANSMISSION_W2</th><th>NOBS_G</th><th>NOBS_R</th><th>NOBS_Z</th><th>FRACFLUX_G</th><th>FRACFLUX_R</th><th>FRACFLUX_Z</th><th>FRACMASKED_G</th><th>FRACMASKED_R</th><th>FRACMASKED_Z</th><th>FRACIN_G</th><th>FRACIN_R</th><th>FRACIN_Z</th><th>ALLMASK_G</th><th>ALLMASK_R</th><th>ALLMASK_Z</th><th>PSFDEPTH_G</th><th>PSFDEPTH_R</th><th>PSFDEPTH_Z</th><th>GALDEPTH_G</th><th>GALDEPTH_R</th><th>GALDEPTH_Z</th><th>FRACDEV</th><th>FRACDEV_IVAR</th><th>SHAPEDEV_R</th><th>SHAPEDEV_R_IVAR</th><th>SHAPEDEV_E1</th><th>SHAPEDEV_E1_IVAR</th><th>SHAPEDEV_E2</th><th>SHAPEDEV_E2_IVAR</th><th>SHAPEEXP_R</th><th>SHAPEEXP_R_IVAR</th><th>SHAPEEXP_E1</th><th>SHAPEEXP_E1_IVAR</th><th>SHAPEEXP_E2</th><th>SHAPEEXP_E2_IVAR</th><th>FIBERFLUX_G</th><th>FIBERFLUX_R</th><th>FIBERFLUX_Z</th><th>FIBERTOTFLUX_G</th><th>FIBERTOTFLUX_R</th><th>FIBERTOTFLUX_Z</th><th>REF_ID</th><th>GAIA_PHOT_G_MEAN_MAG</th><th>GAIA_PHOT_G_MEAN_FLUX_OVER_ERROR</th><th>GAIA_PHOT_BP_MEAN_MAG</th><th>GAIA_PHOT_BP_MEAN_FLUX_OVER_ERROR</th><th>GAIA_PHOT_RP_MEAN_MAG</th><th>GAIA_PHOT_RP_MEAN_FLUX_OVER_ERROR</th><th>GAIA_ASTROMETRIC_EXCESS_NOISE</th><th>GAIA_DUPLICATED_SOURCE</th><th>PARALLAX</th><th>PARALLAX_IVAR</th><th>PMRA</th><th>PMRA_IVAR</th><th>PMDEC</th><th>PMDEC_IVAR</th><th>BRIGHTSTARINBLOB</th><th>EBV</th><th>PHOTSYS</th><th>DESI_TARGET</th><th>BGS_TARGET</th><th>MWS_TARGET</th><th>PRIORITY_INIT</th><th>SUBPRIORITY</th><th>NUMOBS_INIT</th><th>HPXPIXEL</th></tr></thead>\n",
       "<thead><tr><th>int64</th><th>float64</th><th>float64</th><th>float64</th><th>float64</th><th>int64</th><th>int64</th><th>str6</th><th>str20</th><th>int64</th><th>float64</th><th>int32</th><th>int32</th><th>int32</th><th>int32</th><th>str8</th><th>int32</th><th>str4</th><th>float64</th><th>float64</th><th>float32</th><th>float32</th><th>float32</th><th>float32</th><th>float32</th><th>float32</th><th>float32</th><th>float32</th><th>float32</th><th>float32</th><th>float32</th><th>float32</th><th>float32</th><th>float32</th><th>float32</th><th>float32</th><th>float32</th><th>int16</th><th>int16</th><th>int16</th><th>float32</th><th>float32</th><th>float32</th><th>float32</th><th>float32</th><th>float32</th><th>float32</th><th>float32</th><th>float32</th><th>float32</th><th>float32</th><th>float32</th><th>float32</th><th>float32</th><th>float32</th><th>float32</th><th>float32</th><th>float32</th><th>float32</th><th>float32</th><th>float32</th><th>float32</th><th>float32</th><th>float32</th><th>float32</th><th>float32</th><th>float32</th><th>float32</th><th>float32</th><th>float32</th><th>float32</th><th>float32</th><th>float32</th><th>float32</th><th>float32</th><th>float32</th><th>float32</th><th>float32</th><th>int64</th><th>float32</th><th>float32</th><th>float32</th><th>float32</th><th>float32</th><th>float32</th><th>float32</th><th>bool</th><th>float32</th><th>float32</th><th>float32</th><th>float32</th><th>float32</th><th>float32</th><th>bool</th><th>float32</th><th>str1</th><th>int64</th><th>int64</th><th>int64</th><th>int64</th><th>float64</th><th>int64</th><th>int64</th></tr></thead>\n",
       "<tr><td>288230398217946081</td><td>8841.62489197</td><td>348.150234539 .. 2.08758365674</td><td>0.0810812838573</td><td>2.68658980895e-05</td><td>0</td><td>8591</td><td>GALAXY</td><td></td><td>10</td><td>191.914015526</td><td>2</td><td>1</td><td>9999</td><td>492449</td><td>1526p292</td><td>993</td><td>REX</td><td>152.603149414</td><td>29.2433719635</td><td>1e+08</td><td>1e+08</td><td>12.5931</td><td>21.0427</td><td>29.7519</td><td>22.0967</td><td>14.529</td><td>1438.6</td><td>329.564</td><td>62.7972</td><td>0.757669</td><td>0.300346</td><td>0.936643</td><td>0.956868</td><td>0.975441</td><td>0.99626</td><td>0.997701</td><td>2</td><td>2</td><td>2</td><td>0.0</td><td>0.0</td><td>0.0</td><td>0.0</td><td>0.0</td><td>0.0</td><td>1.0</td><td>1.0</td><td>1.0</td><td>0.0</td><td>0.0</td><td>0.0</td><td>52.4807</td><td>7.72681</td><td>1.87068</td><td>57.544</td><td>13.1826</td><td>2.51189</td><td>0.0</td><td>0.0</td><td>0.0</td><td>0.0</td><td>0.0</td><td>0.0</td><td>0.0</td><td>0.0</td><td>1.31708</td><td>41351.8</td><td>0.0</td><td>0.0</td><td>0.0</td><td>0.0</td><td>2.25125</td><td>3.86936</td><td>5.65025</td><td>2.25125</td><td>3.86936</td><td>5.65025</td><td>-1</td><td>0.0</td><td>0.0</td><td>0.0</td><td>0.0</td><td>0.0</td><td>0.0</td><td>0.0</td><td>False</td><td>0.0</td><td>1.0</td><td>0.0</td><td>1.0</td><td>0.0</td><td>1.0</td><td>False</td><td>0.0221111</td><td>S</td><td>1152921504606846976</td><td>2</td><td>0</td><td>2100</td><td>0.954556089846</td><td>1</td><td>5261</td></tr>\n",
       "<tr><td>288230398217946094</td><td>8197.99244484</td><td>189.19509711 .. -5.43589751597</td><td>0.37152230544</td><td>0.000416991905706</td><td>0</td><td>8591</td><td>GALAXY</td><td></td><td>10</td><td>41.7378459547</td><td>2</td><td>1</td><td>9999</td><td>491188</td><td>1524p290</td><td>1006</td><td>REX</td><td>152.578598022</td><td>29.0948295593</td><td>1e+08</td><td>1e+08</td><td>3.57246</td><td>16.1324</td><td>37.329</td><td>56.3802</td><td>39.6329</td><td>1438.6</td><td>329.564</td><td>62.7972</td><td>0.757102</td><td>0.300128</td><td>0.940531</td><td>0.959542</td><td>0.976977</td><td>0.996496</td><td>0.997847</td><td>2</td><td>2</td><td>2</td><td>0.0</td><td>0.0</td><td>0.0</td><td>0.0</td><td>0.0</td><td>0.0</td><td>1.0</td><td>1.0</td><td>1.0</td><td>0.0</td><td>0.0</td><td>0.0</td><td>52.4807</td><td>7.72681</td><td>1.87068</td><td>57.544</td><td>13.1826</td><td>2.51189</td><td>0.0</td><td>0.0</td><td>0.0</td><td>0.0</td><td>0.0</td><td>0.0</td><td>0.0</td><td>0.0</td><td>1.24729</td><td>26104.1</td><td>0.0</td><td>0.0</td><td>0.0</td><td>0.0</td><td>0.681806</td><td>3.1702</td><td>7.58481</td><td>0.681806</td><td>3.1702</td><td>7.58481</td><td>-1</td><td>0.0</td><td>0.0</td><td>0.0</td><td>0.0</td><td>0.0</td><td>0.0</td><td>0.0</td><td>False</td><td>0.0</td><td>1.0</td><td>0.0</td><td>1.0</td><td>0.0</td><td>1.0</td><td>False</td><td>0.0207115</td><td>S</td><td>1152921504606846976</td><td>2</td><td>0</td><td>2100</td><td>0.493593198558</td><td>1</td><td>5261</td></tr>\n",
       "<tr><td>288230398217946095</td><td>8490.32520854</td><td>237.433445186 .. 7.11818250805</td><td>0.156976855827</td><td>0.000472996296241</td><td>0</td><td>8591</td><td>GALAXY</td><td></td><td>10</td><td>32.5371312671</td><td>2</td><td>1</td><td>9999</td><td>492449</td><td>1526p292</td><td>1007</td><td>DEV</td><td>152.62361145</td><td>29.167842865</td><td>1e+08</td><td>1e+08</td><td>7.12094</td><td>18.9062</td><td>35.4696</td><td>40.1526</td><td>31.8595</td><td>1438.6</td><td>329.564</td><td>62.7972</td><td>0.757421</td><td>0.300251</td><td>0.93786</td><td>0.957705</td><td>0.975922</td><td>0.996334</td><td>0.997747</td><td>2</td><td>2</td><td>2</td><td>0.0</td><td>0.0</td><td>0.0</td><td>0.0</td><td>0.0</td><td>0.0</td><td>1.0</td><td>1.0</td><td>1.0</td><td>0.0</td><td>0.0</td><td>0.0</td><td>52.4807</td><td>7.72681</td><td>1.87068</td><td>57.544</td><td>13.1826</td><td>2.51189</td><td>1.0</td><td>0.0</td><td>0.989599</td><td>100664.0</td><td>0.277077</td><td>2.84404e+16</td><td>0.0926993</td><td>78465.5</td><td>0.0</td><td>0.0</td><td>0.0</td><td>0.0</td><td>0.0</td><td>0.0</td><td>1.91392</td><td>5.31222</td><td>10.4768</td><td>1.91392</td><td>5.31222</td><td>10.4768</td><td>-1</td><td>0.0</td><td>0.0</td><td>0.0</td><td>0.0</td><td>0.0</td><td>0.0</td><td>0.0</td><td>False</td><td>0.0</td><td>1.0</td><td>0.0</td><td>1.0</td><td>0.0</td><td>1.0</td><td>False</td><td>0.0216723</td><td>S</td><td>1152921504606846976</td><td>2</td><td>0</td><td>2100</td><td>0.486732036245</td><td>1</td><td>5261</td></tr>\n",
       "<tr><td>288230398217946132</td><td>8542.03141703</td><td>209.959573682 .. 2.05066038799</td><td>0.399375553464</td><td>5.94111443236e-05</td><td>0</td><td>8591</td><td>GALAXY</td><td></td><td>10</td><td>35.3593717515</td><td>2</td><td>1</td><td>9999</td><td>492449</td><td>1526p292</td><td>1044</td><td>REX</td><td>152.554138184</td><td>29.2606258392</td><td>1e+08</td><td>1e+08</td><td>3.42279</td><td>16.0623</td><td>38.6482</td><td>59.0711</td><td>40.1921</td><td>1438.6</td><td>329.564</td><td>62.7972</td><td>0.75767</td><td>0.300347</td><td>0.936884</td><td>0.957034</td><td>0.975536</td><td>0.996275</td><td>0.99771</td><td>2</td><td>2</td><td>2</td><td>0.0</td><td>0.0</td><td>0.0</td><td>0.0</td><td>0.0</td><td>0.0</td><td>1.0</td><td>1.0</td><td>1.0</td><td>0.0</td><td>0.0</td><td>0.0</td><td>52.4807</td><td>7.72681</td><td>1.87068</td><td>57.544</td><td>13.1826</td><td>2.51189</td><td>0.0</td><td>0.0</td><td>0.0</td><td>0.0</td><td>0.0</td><td>0.0</td><td>0.0</td><td>0.0</td><td>0.34393</td><td>108417.0</td><td>0.0</td><td>0.0</td><td>0.0</td><td>0.0</td><td>1.75338</td><td>8.65882</td><td>22.0568</td><td>1.75338</td><td>8.65882</td><td>22.0568</td><td>-1</td><td>0.0</td><td>0.0</td><td>0.0</td><td>0.0</td><td>0.0</td><td>0.0</td><td>0.0</td><td>False</td><td>0.0</td><td>1.0</td><td>0.0</td><td>1.0</td><td>0.0</td><td>1.0</td><td>False</td><td>0.022024</td><td>S</td><td>1152921504606846976</td><td>2</td><td>0</td><td>2100</td><td>0.331267427113</td><td>1</td><td>5261</td></tr>\n",
       "<tr><td>288230398217946135</td><td>8798.84521631</td><td>2288.65493653 .. 71.631951248</td><td>0.0725412583472</td><td>1.51002299932e-05</td><td>0</td><td>8591</td><td>GALAXY</td><td></td><td>10</td><td>2782.67935836</td><td>2</td><td>1</td><td>9999</td><td>492449</td><td>1526p292</td><td>1047</td><td>DEV</td><td>152.574951172</td><td>29.1345863342</td><td>1e+08</td><td>1e+08</td><td>83.226</td><td>183.873</td><td>321.56</td><td>315.99</td><td>206.234</td><td>1438.6</td><td>329.564</td><td>62.7972</td><td>0.757241</td><td>0.300181</td><td>0.939478</td><td>0.958817</td><td>0.976561</td><td>0.996432</td><td>0.997807</td><td>2</td><td>2</td><td>2</td><td>0.0</td><td>0.0</td><td>0.0</td><td>0.0</td><td>0.0</td><td>0.0</td><td>1.0</td><td>1.0</td><td>1.0</td><td>0.0</td><td>0.0</td><td>0.0</td><td>52.4807</td><td>7.72681</td><td>1.87068</td><td>57.544</td><td>13.1826</td><td>2.51189</td><td>1.0</td><td>0.0</td><td>4.82133</td><td>39929.0</td><td>0.306073</td><td>6.30132e+19</td><td>0.221427</td><td>1.16892e+06</td><td>0.0</td><td>0.0</td><td>0.0</td><td>0.0</td><td>0.0</td><td>0.0</td><td>4.1613</td><td>9.19367</td><td>16.078</td><td>4.1613</td><td>9.19367</td><td>16.078</td><td>-1</td><td>0.0</td><td>0.0</td><td>0.0</td><td>0.0</td><td>0.0</td><td>0.0</td><td>0.0</td><td>False</td><td>0.0</td><td>1.0</td><td>0.0</td><td>1.0</td><td>0.0</td><td>1.0</td><td>False</td><td>0.0210902</td><td>S</td><td>1152921504606846976</td><td>2</td><td>0</td><td>2100</td><td>0.153814940398</td><td>1</td><td>5261</td></tr>\n",
       "<tr><td>288230398217946140</td><td>8597.94697137</td><td>131.613799286 .. 2.81066428091</td><td>0.197670025686</td><td>2.96605440659e-05</td><td>0</td><td>8591</td><td>GALAXY</td><td></td><td>10</td><td>184.159989148</td><td>2</td><td>1</td><td>9999</td><td>491187</td><td>1521p290</td><td>1052</td><td>EXP</td><td>152.300460815</td><td>28.9591007233</td><td>1e+08</td><td>1e+08</td><td>7.85461</td><td>16.0964</td><td>28.1996</td><td>48.0174</td><td>42.282</td><td>1438.6</td><td>329.564</td><td>62.7972</td><td>0.756275</td><td>0.299809</td><td>0.942159</td><td>0.96066</td><td>0.977619</td><td>0.996595</td><td>0.997907</td><td>2</td><td>2</td><td>2</td><td>0.0</td><td>0.0</td><td>0.0</td><td>0.0</td><td>0.0</td><td>0.0</td><td>1.0</td><td>1.0</td><td>1.0</td><td>0.0</td><td>0.0</td><td>0.0</td><td>52.4807</td><td>7.72681</td><td>1.87068</td><td>57.544</td><td>13.1826</td><td>2.51189</td><td>0.0</td><td>0.0</td><td>0.0</td><td>0.0</td><td>0.0</td><td>0.0</td><td>0.0</td><td>0.0</td><td>1.64375</td><td>15209.1</td><td>0.393132</td><td>7.99302e+14</td><td>0.201207</td><td>42796.8</td><td>1.06152</td><td>2.2288</td><td>4.01514</td><td>1.06152</td><td>2.2288</td><td>4.01514</td><td>-1</td><td>0.0</td><td>0.0</td><td>0.0</td><td>0.0</td><td>0.0</td><td>0.0</td><td>0.0</td><td>False</td><td>0.0</td><td>1.0</td><td>0.0</td><td>1.0</td><td>0.0</td><td>1.0</td><td>False</td><td>0.0201273</td><td>S</td><td>1152921504606846976</td><td>2</td><td>0</td><td>2100</td><td>0.349635846882</td><td>1</td><td>5261</td></tr>\n",
       "<tr><td>288230398217946147</td><td>8552.51041076</td><td>213.263694785 .. -6.90495688112</td><td>0.342553516935</td><td>0.000143904724046</td><td>0</td><td>8591</td><td>GALAXY</td><td></td><td>10</td><td>57.3524828842</td><td>2</td><td>1</td><td>9999</td><td>491189</td><td>1527p290</td><td>1059</td><td>REX</td><td>152.714187622</td><td>29.1154918671</td><td>1e+08</td><td>1e+08</td><td>4.44991</td><td>20.321</td><td>45.883</td><td>75.3575</td><td>54.0456</td><td>1438.6</td><td>329.564</td><td>62.7972</td><td>0.757346</td><td>0.300222</td><td>0.944208</td><td>0.962067</td><td>0.978427</td><td>0.996719</td><td>0.997984</td><td>2</td><td>2</td><td>2</td><td>0.0</td><td>0.0</td><td>0.0</td><td>0.0</td><td>0.0</td><td>0.0</td><td>1.0</td><td>1.0</td><td>1.0</td><td>0.0</td><td>0.0</td><td>0.0</td><td>52.4807</td><td>7.72681</td><td>1.87068</td><td>57.544</td><td>13.1826</td><td>2.51189</td><td>0.0</td><td>0.0</td><td>0.0</td><td>0.0</td><td>0.0</td><td>0.0</td><td>0.0</td><td>0.0</td><td>0.647584</td><td>173908.0</td><td>0.0</td><td>0.0</td><td>0.0</td><td>0.0</td><td>1.6027</td><td>7.63026</td><td>18.0577</td><td>1.6027</td><td>7.63026</td><td>18.0577</td><td>-1</td><td>0.0</td><td>0.0</td><td>0.0</td><td>0.0</td><td>0.0</td><td>0.0</td><td>0.0</td><td>False</td><td>0.0</td><td>1.0</td><td>0.0</td><td>1.0</td><td>0.0</td><td>1.0</td><td>False</td><td>0.0193934</td><td>S</td><td>1152921504606846976</td><td>2</td><td>0</td><td>2100</td><td>0.379855565203</td><td>1</td><td>5261</td></tr>\n",
       "<tr><td>288230398217946153</td><td>8500.39708763</td><td>122.164346427 .. -9.1667159068</td><td>0.367425739037</td><td>0.000155262529347</td><td>0</td><td>8591</td><td>GALAXY</td><td></td><td>10</td><td>30.1391841546</td><td>2</td><td>1</td><td>9999</td><td>492448</td><td>1523p292</td><td>1065</td><td>REX</td><td>152.519485474</td><td>29.2167053223</td><td>1e+08</td><td>1e+08</td><td>2.68374</td><td>12.292</td><td>28.7399</td><td>45.0956</td><td>33.1015</td><td>1438.6</td><td>329.564</td><td>62.7972</td><td>0.757468</td><td>0.300269</td><td>0.936918</td><td>0.957057</td><td>0.97555</td><td>0.996277</td><td>0.997712</td><td>2</td><td>2</td><td>2</td><td>0.0</td><td>0.0</td><td>0.0</td><td>0.0</td><td>0.0</td><td>0.0</td><td>1.0</td><td>1.0</td><td>1.0</td><td>0.0</td><td>0.0</td><td>0.0</td><td>52.4807</td><td>7.72681</td><td>1.87068</td><td>57.544</td><td>13.1826</td><td>2.51189</td><td>0.0</td><td>0.0</td><td>0.0</td><td>0.0</td><td>0.0</td><td>0.0</td><td>0.0</td><td>0.0</td><td>10.1164</td><td>14.3995</td><td>0.0</td><td>0.0</td><td>0.0</td><td>0.0</td><td>0.134187</td><td>0.614601</td><td>1.43699</td><td>0.134187</td><td>0.614601</td><td>1.43699</td><td>-1</td><td>0.0</td><td>0.0</td><td>0.0</td><td>0.0</td><td>0.0</td><td>0.0</td><td>0.0</td><td>False</td><td>0.0</td><td>1.0</td><td>0.0</td><td>1.0</td><td>0.0</td><td>1.0</td><td>False</td><td>0.0220118</td><td>S</td><td>1152921504606846976</td><td>1</td><td>0</td><td>2000</td><td>0.744702212119</td><td>1</td><td>5261</td></tr>\n",
       "<tr><td>288230398217946185</td><td>9410.03014904</td><td>4082.70854187 .. 100.869754011</td><td>0.0986481682386</td><td>1.90699401557e-05</td><td>0</td><td>8591</td><td>GALAXY</td><td></td><td>10</td><td>5721.0289096</td><td>2</td><td>1</td><td>9999</td><td>492449</td><td>1526p292</td><td>1097</td><td>DEV</td><td>152.726882935</td><td>29.1381206512</td><td>1e+08</td><td>1e+08</td><td>132.156</td><td>339.916</td><td>623.445</td><td>618.747</td><td>406.568</td><td>1438.6</td><td>329.564</td><td>62.7972</td><td>0.757443</td><td>0.300259</td><td>0.942314</td><td>0.960766</td><td>0.977681</td><td>0.996604</td><td>0.997913</td><td>2</td><td>2</td><td>2</td><td>0.0</td><td>0.0</td><td>0.0</td><td>0.0</td><td>0.0</td><td>0.0</td><td>1.0</td><td>1.0</td><td>1.0</td><td>0.0</td><td>0.0</td><td>0.0</td><td>52.4807</td><td>7.72681</td><td>1.87068</td><td>57.544</td><td>13.1826</td><td>2.51189</td><td>1.0</td><td>0.0</td><td>2.65831</td><td>440145.0</td><td>0.0222249</td><td>4.1517e+21</td><td>0.0097221</td><td>1.02348e+06</td><td>0.0</td><td>0.0</td><td>0.0</td><td>0.0</td><td>0.0</td><td>0.0</td><td>16.3642</td><td>43.6733</td><td>83.5275</td><td>16.3642</td><td>43.6733</td><td>83.5275</td><td>-1</td><td>0.0</td><td>0.0</td><td>0.0</td><td>0.0</td><td>0.0</td><td>0.0</td><td>0.0</td><td>False</td><td>0.0</td><td>1.0</td><td>0.0</td><td>1.0</td><td>0.0</td><td>1.0</td><td>False</td><td>0.0200718</td><td>S</td><td>1152921504606846976</td><td>2</td><td>0</td><td>2100</td><td>0.536850416907</td><td>1</td><td>5261</td></tr>\n",
       "<tr><td>288230398217946201</td><td>8667.21565056</td><td>717.226006696 .. 20.2875590256</td><td>0.340006617236</td><td>1.41354541504e-05</td><td>0</td><td>8591</td><td>GALAXY</td><td></td><td>10</td><td>1929.9639461</td><td>2</td><td>1</td><td>9999</td><td>492449</td><td>1526p292</td><td>1113</td><td>REX</td><td>152.638534546</td><td>29.1306533813</td><td>1e+08</td><td>1e+08</td><td>15.3404</td><td>44.6127</td><td>85.7081</td><td>111.276</td><td>85.0809</td><td>1438.6</td><td>329.564</td><td>62.7972</td><td>0.757306</td><td>0.300206</td><td>0.941621</td><td>0.96029</td><td>0.977407</td><td>0.996562</td><td>0.997887</td><td>2</td><td>2</td><td>2</td><td>0.0</td><td>0.0</td><td>0.0</td><td>0.0</td><td>0.0</td><td>0.0</td><td>1.0</td><td>1.0</td><td>1.0</td><td>0.0</td><td>0.0</td><td>0.0</td><td>52.4807</td><td>7.72681</td><td>1.87068</td><td>57.544</td><td>13.1826</td><td>2.51189</td><td>0.0</td><td>0.0</td><td>0.0</td><td>0.0</td><td>0.0</td><td>0.0</td><td>0.0</td><td>0.0</td><td>1.28638</td><td>342352.0</td><td>0.0</td><td>0.0</td><td>0.0</td><td>0.0</td><td>2.82067</td><td>8.44127</td><td>16.7569</td><td>2.82067</td><td>8.44127</td><td>16.7569</td><td>-1</td><td>0.0</td><td>0.0</td><td>0.0</td><td>0.0</td><td>0.0</td><td>0.0</td><td>0.0</td><td>False</td><td>0.0</td><td>1.0</td><td>0.0</td><td>1.0</td><td>0.0</td><td>1.0</td><td>False</td><td>0.0203204</td><td>S</td><td>1152921504606846976</td><td>2</td><td>0</td><td>2100</td><td>0.0864195197415</td><td>1</td><td>5261</td></tr>\n",
       "<tr><td>...</td><td>...</td><td>...</td><td>...</td><td>...</td><td>...</td><td>...</td><td>...</td><td>...</td><td>...</td><td>...</td><td>...</td><td>...</td><td>...</td><td>...</td><td>...</td><td>...</td><td>...</td><td>...</td><td>...</td><td>...</td><td>...</td><td>...</td><td>...</td><td>...</td><td>...</td><td>...</td><td>...</td><td>...</td><td>...</td><td>...</td><td>...</td><td>...</td><td>...</td><td>...</td><td>...</td><td>...</td><td>...</td><td>...</td><td>...</td><td>...</td><td>...</td><td>...</td><td>...</td><td>...</td><td>...</td><td>...</td><td>...</td><td>...</td><td>...</td><td>...</td><td>...</td><td>...</td><td>...</td><td>...</td><td>...</td><td>...</td><td>...</td><td>...</td><td>...</td><td>...</td><td>...</td><td>...</td><td>...</td><td>...</td><td>...</td><td>...</td><td>...</td><td>...</td><td>...</td><td>...</td><td>...</td><td>...</td><td>...</td><td>...</td><td>...</td><td>...</td><td>...</td><td>...</td><td>...</td><td>...</td><td>...</td><td>...</td><td>...</td><td>...</td><td>...</td><td>...</td><td>...</td><td>...</td><td>...</td><td>...</td><td>...</td><td>...</td><td>...</td><td>...</td><td>...</td><td>...</td><td>...</td><td>...</td><td>...</td><td>...</td><td>...</td><td>...</td></tr>\n",
       "<tr><td>288230399866311399</td><td>10490.9328296</td><td>1797.92185864 .. 0.0</td><td>-8.56204409241e-05</td><td>3.22084893412e-06</td><td>0</td><td>8591</td><td>STAR</td><td>K</td><td>5</td><td>28920.0355979</td><td>2</td><td>1</td><td>9999</td><td>520543</td><td>1496p350</td><td>4839</td><td>PSF</td><td>149.835004782</td><td>35.0944368097</td><td>1e+08</td><td>1e+08</td><td>8.24009</td><td>23.4713</td><td>63.4314</td><td>511.236</td><td>533.495</td><td>1312.02</td><td>193.17</td><td>46.7671</td><td>0.778415</td><td>0.30834</td><td>0.968711</td><td>0.978814</td><td>0.987996</td><td>0.998182</td><td>0.998883</td><td>2</td><td>2</td><td>2</td><td>0.0</td><td>0.0</td><td>0.0</td><td>0.0</td><td>0.0</td><td>0.0</td><td>1.0</td><td>1.0</td><td>1.0</td><td>0.0</td><td>0.0</td><td>0.0</td><td>52.4807</td><td>7.72681</td><td>1.87068</td><td>57.544</td><td>13.1826</td><td>2.51189</td><td>0.0</td><td>0.0</td><td>0.0</td><td>0.0</td><td>0.0</td><td>0.0</td><td>0.0</td><td>0.0</td><td>0.0</td><td>0.0</td><td>0.0</td><td>0.0</td><td>0.0</td><td>0.0</td><td>5.28471</td><td>15.9679</td><td>46.0284</td><td>5.28471</td><td>15.9679</td><td>46.0284</td><td>288230376520826304</td><td>19.2022</td><td>0.0</td><td>0.0</td><td>0.0</td><td>0.0</td><td>0.0</td><td>0.0</td><td>False</td><td>0.765191</td><td>6.9482</td><td>-7.05217</td><td>22.2783</td><td>-6.75002</td><td>0.173795</td><td>False</td><td>0.0107386</td><td>N</td><td>4</td><td>0</td><td>0</td><td>3400</td><td>0.212030509071</td><td>4</td><td>5654</td></tr>\n",
       "<tr><td>288230399866311400</td><td>8375.99585606</td><td>94.5093472397 .. 0.0</td><td>0.000192820954106</td><td>5.75222992521e-05</td><td>0</td><td>8591</td><td>STAR</td><td>K</td><td>5</td><td>105.317216405</td><td>2</td><td>1</td><td>9999</td><td>520543</td><td>1496p350</td><td>4840</td><td>PSF</td><td>149.682488997</td><td>35.0936527948</td><td>1e+08</td><td>1e+08</td><td>0.384518</td><td>1.30452</td><td>3.44192</td><td>27.177</td><td>27.3252</td><td>1312.02</td><td>193.17</td><td>46.7671</td><td>0.778172</td><td>0.308246</td><td>0.971306</td><td>0.98058</td><td>0.989001</td><td>0.998335</td><td>0.998977</td><td>2</td><td>2</td><td>2</td><td>0.0</td><td>0.0</td><td>0.0</td><td>0.0</td><td>0.0</td><td>0.0</td><td>1.0</td><td>1.0</td><td>1.0</td><td>0.0</td><td>0.0</td><td>0.0</td><td>52.4807</td><td>7.72681</td><td>1.87068</td><td>57.544</td><td>13.1826</td><td>2.51189</td><td>0.0</td><td>0.0</td><td>0.0</td><td>0.0</td><td>0.0</td><td>0.0</td><td>0.0</td><td>0.0</td><td>0.0</td><td>0.0</td><td>0.0</td><td>0.0</td><td>0.0</td><td>0.0</td><td>0.246607</td><td>0.887487</td><td>2.4976</td><td>0.246607</td><td>0.887487</td><td>2.4976</td><td>-1</td><td>0.0</td><td>0.0</td><td>0.0</td><td>0.0</td><td>0.0</td><td>0.0</td><td>0.0</td><td>False</td><td>0.0</td><td>1.0</td><td>0.0</td><td>1.0</td><td>0.0</td><td>1.0</td><td>False</td><td>0.00983505</td><td>N</td><td>4</td><td>0</td><td>0</td><td>3400</td><td>0.929944121356</td><td>4</td><td>5654</td></tr>\n",
       "<tr><td>288230399866311402</td><td>8896.34155009</td><td>132.352454935 .. -9.17960350819</td><td>0.0019175292661</td><td>4.72444618275e-05</td><td>4</td><td>8591</td><td>GALAXY</td><td></td><td>10</td><td>8.91248856431</td><td>2</td><td>1</td><td>9999</td><td>521724</td><td>1498p352</td><td>4842</td><td>PSF</td><td>149.878772416</td><td>35.2094993804</td><td>1e+08</td><td>1e+08</td><td>0.617548</td><td>1.22605</td><td>1.41123</td><td>5.0532</td><td>6.8757</td><td>1312.02</td><td>193.17</td><td>46.7671</td><td>0.779041</td><td>0.308581</td><td>0.968967</td><td>0.978988</td><td>0.988095</td><td>0.998197</td><td>0.998892</td><td>2</td><td>2</td><td>2</td><td>0.0</td><td>0.0</td><td>0.0</td><td>0.0</td><td>0.0</td><td>0.0</td><td>1.0</td><td>1.0</td><td>1.0</td><td>0.0</td><td>0.0</td><td>0.0</td><td>52.4807</td><td>7.72681</td><td>1.87068</td><td>57.544</td><td>13.1826</td><td>2.51189</td><td>0.0</td><td>0.0</td><td>0.0</td><td>0.0</td><td>0.0</td><td>0.0</td><td>0.0</td><td>0.0</td><td>0.0</td><td>0.0</td><td>0.0</td><td>0.0</td><td>0.0</td><td>0.0</td><td>0.396059</td><td>0.834102</td><td>1.02404</td><td>0.396059</td><td>0.834102</td><td>1.02404</td><td>-1</td><td>0.0</td><td>0.0</td><td>0.0</td><td>0.0</td><td>0.0</td><td>0.0</td><td>0.0</td><td>False</td><td>0.0</td><td>1.0</td><td>0.0</td><td>1.0</td><td>0.0</td><td>1.0</td><td>False</td><td>0.0106496</td><td>N</td><td>4</td><td>0</td><td>0</td><td>3400</td><td>0.637981289691</td><td>4</td><td>5654</td></tr>\n",
       "<tr><td>288230399866311405</td><td>21098.1462749</td><td>6192.98093002 .. 0.0</td><td>-0.000150506436033</td><td>1.40869523045e-06</td><td>0</td><td>8591</td><td>STAR</td><td>K</td><td>5</td><td>159108.049201</td><td>2</td><td>1</td><td>9999</td><td>520543</td><td>1496p350</td><td>4845</td><td>PSF</td><td>149.759755239</td><td>34.9758234305</td><td>1e+08</td><td>1e+08</td><td>28.0912</td><td>79.6182</td><td>215.319</td><td>1740.26</td><td>1809.74</td><td>1312.02</td><td>193.17</td><td>46.7671</td><td>0.777727</td><td>0.308075</td><td>0.969953</td><td>0.979659</td><td>0.988477</td><td>0.998255</td><td>0.998928</td><td>2</td><td>2</td><td>2</td><td>0.0</td><td>0.0</td><td>0.0</td><td>0.0</td><td>0.0</td><td>0.0</td><td>1.0</td><td>1.0</td><td>1.0</td><td>0.0</td><td>0.0</td><td>0.0</td><td>52.4807</td><td>7.72681</td><td>1.87068</td><td>57.544</td><td>13.1826</td><td>2.51189</td><td>0.0</td><td>0.0</td><td>0.0</td><td>0.0</td><td>0.0</td><td>0.0</td><td>0.0</td><td>0.0</td><td>0.0</td><td>0.0</td><td>0.0</td><td>0.0</td><td>0.0</td><td>0.0</td><td>18.0161</td><td>54.1654</td><td>156.244</td><td>18.0161</td><td>54.1654</td><td>156.244</td><td>288230376520833664</td><td>17.8467</td><td>0.0</td><td>0.0</td><td>0.0</td><td>0.0</td><td>0.0</td><td>0.0</td><td>False</td><td>2.6219</td><td>48.0724</td><td>12.8186</td><td>154.136</td><td>-24.2717</td><td>0.0660734</td><td>False</td><td>0.0103059</td><td>N</td><td>4</td><td>0</td><td>0</td><td>3400</td><td>0.283733213874</td><td>4</td><td>5654</td></tr>\n",
       "<tr><td>288230399866311484</td><td>8611.30530822</td><td>114.568167329 .. 1.23177153144</td><td>1.11683641637</td><td>3.68239886275e-05</td><td>0</td><td>8591</td><td>GALAXY</td><td></td><td>10</td><td>404.188256234</td><td>2</td><td>1</td><td>9999</td><td>521724</td><td>1498p352</td><td>4924</td><td>DEV</td><td>149.874176821</td><td>35.2359590747</td><td>1e+08</td><td>1e+08</td><td>1.42824</td><td>1.81609</td><td>4.55827</td><td>6.24024</td><td>5.01404</td><td>1438.6</td><td>329.564</td><td>62.7972</td><td>0.779163</td><td>0.308628</td><td>0.969448</td><td>0.979316</td><td>0.988281</td><td>0.998225</td><td>0.99891</td><td>2</td><td>2</td><td>2</td><td>0.0</td><td>0.0</td><td>0.0</td><td>0.0</td><td>0.0</td><td>0.0</td><td>1.0</td><td>1.0</td><td>1.0</td><td>0.0</td><td>0.0</td><td>0.0</td><td>52.4807</td><td>7.72681</td><td>1.87068</td><td>57.544</td><td>13.1826</td><td>2.51189</td><td>1.0</td><td>0.0</td><td>0.545239</td><td>899.422</td><td>0.272047</td><td>2.39132e+08</td><td>0.261394</td><td>257.851</td><td>0.0</td><td>0.0</td><td>0.0</td><td>0.0</td><td>0.0</td><td>0.0</td><td>0.522572</td><td>0.698479</td><td>1.85239</td><td>0.522572</td><td>0.698479</td><td>1.85239</td><td>-1</td><td>0.0</td><td>0.0</td><td>0.0</td><td>0.0</td><td>0.0</td><td>0.0</td><td>0.0</td><td>False</td><td>0.0</td><td>1.0</td><td>0.0</td><td>1.0</td><td>0.0</td><td>1.0</td><td>False</td><td>0.0104819</td><td>N</td><td>2</td><td>0</td><td>0</td><td>3000</td><td>0.867688134667</td><td>1</td><td>5654</td></tr>\n",
       "<tr><td>288230399866311621</td><td>8636.29491043</td><td>889.094896087 .. -1.44420518855</td><td>0.493634683464</td><td>5.61616694141e-06</td><td>0</td><td>8591</td><td>GALAXY</td><td></td><td>10</td><td>6819.34746981</td><td>2</td><td>1</td><td>9999</td><td>520543</td><td>1496p350</td><td>5061</td><td>PSF</td><td>149.628841824</td><td>35.1188634269</td><td>1e+08</td><td>1e+08</td><td>4.67744</td><td>10.8876</td><td>20.6013</td><td>37.6803</td><td>27.7058</td><td>1312.02</td><td>193.17</td><td>46.7671</td><td>0.77821</td><td>0.308261</td><td>0.970744</td><td>0.980197</td><td>0.988783</td><td>0.998302</td><td>0.998957</td><td>2</td><td>2</td><td>2</td><td>0.0</td><td>0.0</td><td>0.0</td><td>0.0</td><td>0.0</td><td>0.0</td><td>1.0</td><td>1.0</td><td>1.0</td><td>0.0</td><td>0.0</td><td>0.0</td><td>52.4807</td><td>7.72681</td><td>1.87068</td><td>57.544</td><td>13.1826</td><td>2.51189</td><td>0.0</td><td>0.0</td><td>0.0</td><td>0.0</td><td>0.0</td><td>0.0</td><td>0.0</td><td>0.0</td><td>0.0</td><td>0.0</td><td>0.0</td><td>0.0</td><td>0.0</td><td>0.0</td><td>2.99983</td><td>7.40697</td><td>14.9492</td><td>2.99983</td><td>7.40697</td><td>14.9492</td><td>-1</td><td>0.0</td><td>0.0</td><td>0.0</td><td>0.0</td><td>0.0</td><td>0.0</td><td>0.0</td><td>False</td><td>0.0</td><td>1.0</td><td>0.0</td><td>1.0</td><td>0.0</td><td>1.0</td><td>False</td><td>0.0100306</td><td>N</td><td>4</td><td>0</td><td>0</td><td>3400</td><td>0.446322744234</td><td>4</td><td>5654</td></tr>\n",
       "<tr><td>288230399866311671</td><td>8232.34445599</td><td>2.75499181466 .. -0.910858565049</td><td>0.839956717647</td><td>0.000146160298463</td><td>4</td><td>8591</td><td>GALAXY</td><td></td><td>10</td><td>2.49244671315</td><td>2</td><td>1</td><td>0</td><td>0</td><td>0.0</td><td>0</td><td>0.0</td><td>0.0</td><td>0.0</td><td>0.0</td><td>0.0</td><td>0.0</td><td>0.0</td><td>0.0</td><td>0.0</td><td>0.0</td><td>0.0</td><td>0.0</td><td>0.0</td><td>0.0</td><td>0.0</td><td>0.0</td><td>0.0</td><td>0.0</td><td>0.0</td><td>0.0</td><td>0</td><td>0</td><td>0</td><td>0.0</td><td>0.0</td><td>0.0</td><td>0.0</td><td>0.0</td><td>0.0</td><td>0.0</td><td>0.0</td><td>0.0</td><td>0.0</td><td>0.0</td><td>0.0</td><td>0.0</td><td>0.0</td><td>0.0</td><td>0.0</td><td>0.0</td><td>0.0</td><td>0.0</td><td>0.0</td><td>0.0</td><td>0.0</td><td>0.0</td><td>0.0</td><td>0.0</td><td>0.0</td><td>0.0</td><td>0.0</td><td>0.0</td><td>0.0</td><td>0.0</td><td>0.0</td><td>0.0</td><td>0.0</td><td>0.0</td><td>0.0</td><td>0.0</td><td>0.0</td><td>0</td><td>0.0</td><td>0.0</td><td>0.0</td><td>0.0</td><td>0.0</td><td>0.0</td><td>0.0</td><td>False</td><td>0.0</td><td>0.0</td><td>0.0</td><td>0.0</td><td>0.0</td><td>0.0</td><td>False</td><td>0.0</td><td>0</td><td>0</td><td>0</td><td>0</td><td>0</td><td>0.0</td><td>0</td><td>0</td></tr>\n",
       "<tr><td>288230399866311679</td><td>8045.1155919</td><td>49.3873032004 .. -0.268191104078</td><td>0.0609469483524</td><td>5.70480487095e-05</td><td>4</td><td>8591</td><td>GALAXY</td><td></td><td>10</td><td>0.221661365824</td><td>2</td><td>1</td><td>0</td><td>0</td><td>0.0</td><td>0</td><td>0.0</td><td>0.0</td><td>0.0</td><td>0.0</td><td>0.0</td><td>0.0</td><td>0.0</td><td>0.0</td><td>0.0</td><td>0.0</td><td>0.0</td><td>0.0</td><td>0.0</td><td>0.0</td><td>0.0</td><td>0.0</td><td>0.0</td><td>0.0</td><td>0.0</td><td>0.0</td><td>0</td><td>0</td><td>0</td><td>0.0</td><td>0.0</td><td>0.0</td><td>0.0</td><td>0.0</td><td>0.0</td><td>0.0</td><td>0.0</td><td>0.0</td><td>0.0</td><td>0.0</td><td>0.0</td><td>0.0</td><td>0.0</td><td>0.0</td><td>0.0</td><td>0.0</td><td>0.0</td><td>0.0</td><td>0.0</td><td>0.0</td><td>0.0</td><td>0.0</td><td>0.0</td><td>0.0</td><td>0.0</td><td>0.0</td><td>0.0</td><td>0.0</td><td>0.0</td><td>0.0</td><td>0.0</td><td>0.0</td><td>0.0</td><td>0.0</td><td>0.0</td><td>0.0</td><td>0.0</td><td>0</td><td>0.0</td><td>0.0</td><td>0.0</td><td>0.0</td><td>0.0</td><td>0.0</td><td>0.0</td><td>False</td><td>0.0</td><td>0.0</td><td>0.0</td><td>0.0</td><td>0.0</td><td>0.0</td><td>False</td><td>0.0</td><td>0</td><td>0</td><td>0</td><td>0</td><td>0</td><td>0.0</td><td>0</td><td>0</td></tr>\n",
       "<tr><td>288230399866311684</td><td>7868.39711786</td><td>74.4442131905 .. 6.35115637521</td><td>0.322995236693</td><td>5.73208546979e-05</td><td>4</td><td>8591</td><td>GALAXY</td><td></td><td>10</td><td>3.40375427529</td><td>2</td><td>1</td><td>0</td><td>0</td><td>0.0</td><td>0</td><td>0.0</td><td>0.0</td><td>0.0</td><td>0.0</td><td>0.0</td><td>0.0</td><td>0.0</td><td>0.0</td><td>0.0</td><td>0.0</td><td>0.0</td><td>0.0</td><td>0.0</td><td>0.0</td><td>0.0</td><td>0.0</td><td>0.0</td><td>0.0</td><td>0.0</td><td>0.0</td><td>0</td><td>0</td><td>0</td><td>0.0</td><td>0.0</td><td>0.0</td><td>0.0</td><td>0.0</td><td>0.0</td><td>0.0</td><td>0.0</td><td>0.0</td><td>0.0</td><td>0.0</td><td>0.0</td><td>0.0</td><td>0.0</td><td>0.0</td><td>0.0</td><td>0.0</td><td>0.0</td><td>0.0</td><td>0.0</td><td>0.0</td><td>0.0</td><td>0.0</td><td>0.0</td><td>0.0</td><td>0.0</td><td>0.0</td><td>0.0</td><td>0.0</td><td>0.0</td><td>0.0</td><td>0.0</td><td>0.0</td><td>0.0</td><td>0.0</td><td>0.0</td><td>0.0</td><td>0.0</td><td>0</td><td>0.0</td><td>0.0</td><td>0.0</td><td>0.0</td><td>0.0</td><td>0.0</td><td>0.0</td><td>False</td><td>0.0</td><td>0.0</td><td>0.0</td><td>0.0</td><td>0.0</td><td>0.0</td><td>False</td><td>0.0</td><td>0</td><td>0</td><td>0</td><td>0</td><td>0</td><td>0.0</td><td>0</td><td>0</td></tr>\n",
       "<tr><td>288230399866311721</td><td>8090.72974861</td><td>207.652243136 .. 29.9723537227</td><td>1.69226534543</td><td>0.000114701103218</td><td>4</td><td>8591</td><td>GALAXY</td><td></td><td>10</td><td>1.28956136107</td><td>2</td><td>1</td><td>0</td><td>0</td><td>0.0</td><td>0</td><td>0.0</td><td>0.0</td><td>0.0</td><td>0.0</td><td>0.0</td><td>0.0</td><td>0.0</td><td>0.0</td><td>0.0</td><td>0.0</td><td>0.0</td><td>0.0</td><td>0.0</td><td>0.0</td><td>0.0</td><td>0.0</td><td>0.0</td><td>0.0</td><td>0.0</td><td>0.0</td><td>0</td><td>0</td><td>0</td><td>0.0</td><td>0.0</td><td>0.0</td><td>0.0</td><td>0.0</td><td>0.0</td><td>0.0</td><td>0.0</td><td>0.0</td><td>0.0</td><td>0.0</td><td>0.0</td><td>0.0</td><td>0.0</td><td>0.0</td><td>0.0</td><td>0.0</td><td>0.0</td><td>0.0</td><td>0.0</td><td>0.0</td><td>0.0</td><td>0.0</td><td>0.0</td><td>0.0</td><td>0.0</td><td>0.0</td><td>0.0</td><td>0.0</td><td>0.0</td><td>0.0</td><td>0.0</td><td>0.0</td><td>0.0</td><td>0.0</td><td>0.0</td><td>0.0</td><td>0.0</td><td>0</td><td>0.0</td><td>0.0</td><td>0.0</td><td>0.0</td><td>0.0</td><td>0.0</td><td>0.0</td><td>False</td><td>0.0</td><td>0.0</td><td>0.0</td><td>0.0</td><td>0.0</td><td>0.0</td><td>False</td><td>0.0</td><td>0</td><td>0</td><td>0</td><td>0</td><td>0</td><td>0.0</td><td>0</td><td>0</td></tr>\n",
       "</table>"
      ],
      "text/plain": [
       "<Table length=45378>\n",
       "     TARGETID           CHI2     ... NUMOBS_INIT HPXPIXEL\n",
       "      int64           float64    ...    int64     int64  \n",
       "------------------ ------------- ... ----------- --------\n",
       "288230398217946081 8841.62489197 ...           1     5261\n",
       "288230398217946094 8197.99244484 ...           1     5261\n",
       "288230398217946095 8490.32520854 ...           1     5261\n",
       "288230398217946132 8542.03141703 ...           1     5261\n",
       "288230398217946135 8798.84521631 ...           1     5261\n",
       "288230398217946140 8597.94697137 ...           1     5261\n",
       "288230398217946147 8552.51041076 ...           1     5261\n",
       "288230398217946153 8500.39708763 ...           1     5261\n",
       "288230398217946185 9410.03014904 ...           1     5261\n",
       "288230398217946201 8667.21565056 ...           1     5261\n",
       "               ...           ... ...         ...      ...\n",
       "288230399866311399 10490.9328296 ...           4     5654\n",
       "288230399866311400 8375.99585606 ...           4     5654\n",
       "288230399866311402 8896.34155009 ...           4     5654\n",
       "288230399866311405 21098.1462749 ...           4     5654\n",
       "288230399866311484 8611.30530822 ...           1     5654\n",
       "288230399866311621 8636.29491043 ...           4     5654\n",
       "288230399866311671 8232.34445599 ...           0        0\n",
       "288230399866311679  8045.1155919 ...           0        0\n",
       "288230399866311684 7868.39711786 ...           0        0\n",
       "288230399866311721 8090.72974861 ...           0        0"
      ]
     },
     "execution_count": 28,
     "metadata": {},
     "output_type": "execute_result"
    }
   ],
   "source": [
    "zcatalog = Table(fits.open(findfile('zcatalog'))[1].data)\n",
    "zcatalog"
   ]
  },
  {
   "cell_type": "code",
   "execution_count": 29,
   "metadata": {},
   "outputs": [],
   "source": [
    "ntable = join(ntable, zcatalog['TARGETID', 'Z', 'ZERR', 'ZWARN', 'CHI2', 'NUMEXP'], keys='TARGETID')"
   ]
  },
  {
   "cell_type": "code",
   "execution_count": 30,
   "metadata": {},
   "outputs": [],
   "source": [
    "ntable.sort('FIBER')"
   ]
  },
  {
   "cell_type": "code",
   "execution_count": 32,
   "metadata": {},
   "outputs": [
    {
     "data": {
      "text/html": [
       "&lt;Table masked=True length=4594&gt;\n",
       "<table id=\"table46913708297184\" class=\"table-striped table-bordered table-condensed\">\n",
       "<thead><tr><th>FIBER</th><th>TARGETID</th><th>RA</th><th>DEC</th><th>HPXPIXEL</th><th>SPECTROID</th><th>SUM_RAW_COUNT_B</th><th>MEDIAN_RAW_COUNT_B</th><th>MEDIAN_RAW_SNR_B</th><th>SUM_FFLAT_COUNT_B</th><th>MEDIAN_FFLAT_COUNT_B</th><th>MEDIAN_FFLAT_SNR_B</th><th>SUM_SKYSUB_COUNT_B</th><th>MEDIAN_SKYSUB_COUNT_B</th><th>MEDIAN_SKYSUB_SNR_B</th><th>SUM_CALIB_COUNT_B</th><th>MEDIAN_CALIB_COUNT_B</th><th>MEDIAN_CALIB_SNR_B</th><th>SUM_RAW_COUNT_R</th><th>MEDIAN_RAW_COUNT_R</th><th>MEDIAN_RAW_SNR_R</th><th>SUM_FFLAT_COUNT_R</th><th>MEDIAN_FFLAT_COUNT_R</th><th>MEDIAN_FFLAT_SNR_R</th><th>SUM_SKYSUB_COUNT_R</th><th>MEDIAN_SKYSUB_COUNT_R</th><th>MEDIAN_SKYSUB_SNR_R</th><th>SUM_CALIB_COUNT_R</th><th>MEDIAN_CALIB_COUNT_R</th><th>MEDIAN_CALIB_SNR_R</th><th>SUM_RAW_COUNT_Z</th><th>MEDIAN_RAW_COUNT_Z</th><th>MEDIAN_RAW_SNR_Z</th><th>SUM_FFLAT_COUNT_Z</th><th>MEDIAN_FFLAT_COUNT_Z</th><th>MEDIAN_FFLAT_SNR_Z</th><th>SUM_SKYSUB_COUNT_Z</th><th>MEDIAN_SKYSUB_COUNT_Z</th><th>MEDIAN_SKYSUB_SNR_Z</th><th>SUM_CALIB_COUNT_Z</th><th>MEDIAN_CALIB_COUNT_Z</th><th>MEDIAN_CALIB_SNR_Z</th><th>Z</th><th>ZERR</th><th>ZWARN</th><th>CHI2</th><th>NUMEXP</th></tr></thead>\n",
       "<thead><tr><th>int32</th><th>int64</th><th>float64</th><th>float64</th><th>int64</th><th>int32</th><th>float64</th><th>float64</th><th>float64</th><th>float64</th><th>float64</th><th>float64</th><th>float64</th><th>float64</th><th>float64</th><th>float64</th><th>float64</th><th>float64</th><th>float64</th><th>float64</th><th>float64</th><th>float64</th><th>float64</th><th>float64</th><th>float64</th><th>float64</th><th>float64</th><th>float64</th><th>float64</th><th>float64</th><th>float64</th><th>float64</th><th>float64</th><th>float64</th><th>float64</th><th>float64</th><th>float64</th><th>float64</th><th>float64</th><th>float64</th><th>float64</th><th>float64</th><th>float64</th><th>float64</th><th>int64</th><th>float64</th><th>int32</th></tr></thead>\n",
       "<tr><td>5</td><td>288230398410884638</td><td>150.617752075</td><td>33.1274032593</td><td>5307</td><td>0</td><td>497508.217766</td><td>240.494356155</td><td>11.8492093006</td><td>472863.206281</td><td>228.923263937</td><td>11.8382171372</td><td>8306.59347314</td><td>4.65654174534</td><td>0.228687888517</td><td>247.701541448</td><td>0.128120032624</td><td>0.228687887943</td><td>835726.654739</td><td>322.22202301</td><td>14.8598594662</td><td>794263.40002</td><td>306.264659432</td><td>14.8178841152</td><td>10659.4334862</td><td>5.17346630306</td><td>0.235144905137</td><td>189.112250468</td><td>0.0895856219973</td><td>0.235144904267</td><td>2516396.18094</td><td>373.045425415</td><td>16.2482977432</td><td>2391756.17029</td><td>354.305689766</td><td>16.2193517862</td><td>22357.8729857</td><td>10.686323877</td><td>0.436470866105</td><td>286.866248708</td><td>0.13417988364</td><td>0.436470864747</td><td>0.976617163699</td><td>8.55888428143e-05</td><td>4</td><td>8446.23696402</td><td>2</td></tr>\n",
       "<tr><td>6</td><td>288230398410886139</td><td>150.625640869</td><td>33.0701293945</td><td>5307</td><td>0</td><td>533677.293854</td><td>271.224679947</td><td>12.7566826248</td><td>509140.698081</td><td>258.748263313</td><td>12.7426576567</td><td>44584.0852728</td><td>24.2387016903</td><td>1.19553754933</td><td>1193.85344396</td><td>0.70213066076</td><td>1.19553748925</td><td>1054020.31219</td><td>457.55027771</td><td>18.0324337921</td><td>1005834.51455</td><td>436.627447846</td><td>17.9484206935</td><td>222230.54802</td><td>125.252727928</td><td>4.86142019963</td><td>3696.32563432</td><td>2.13114647546</td><td>4.86141826577</td><td>2980489.55358</td><td>603.882217407</td><td>21.1600504498</td><td>2843974.08809</td><td>575.609780506</td><td>21.1004248245</td><td>474575.790781</td><td>220.36864829</td><td>7.45933052984</td><td>5852.52825062</td><td>2.66134816498</td><td>7.45932698211</td><td>0.54962435128</td><td>7.30783341864e-05</td><td>0</td><td>8546.92518596</td><td>2</td></tr>\n",
       "<tr><td>7</td><td>288230398410885140</td><td>150.800811768</td><td>33.2164077759</td><td>5307</td><td>0</td><td>507423.68277</td><td>249.00683403</td><td>12.0987227747</td><td>477314.916178</td><td>234.503134065</td><td>12.0879378085</td><td>12758.3033695</td><td>7.48306370671</td><td>0.377413506386</td><td>378.400606847</td><td>0.215018475912</td><td>0.377413504145</td><td>853463.794899</td><td>332.605113983</td><td>15.132044373</td><td>803139.70149</td><td>312.972459894</td><td>15.0846404255</td><td>19535.7349564</td><td>9.45902284651</td><td>0.422118484324</td><td>331.120250409</td><td>0.164458439869</td><td>0.422118481615</td><td>2546899.59472</td><td>382.005825043</td><td>16.4937687656</td><td>2396953.94524</td><td>360.283833979</td><td>16.4603092216</td><td>27555.6479361</td><td>12.8691293745</td><td>0.527947068786</td><td>336.222579553</td><td>0.16177562031</td><td>0.527947066414</td><td>1.35072736172</td><td>0.000196725096012</td><td>0</td><td>8456.877041</td><td>2</td></tr>\n",
       "<tr><td>8</td><td>288230398402498265</td><td>150.860275269</td><td>33.1895866394</td><td>5305</td><td>0</td><td>583463.198219</td><td>296.410350799</td><td>13.3896055609</td><td>551856.980546</td><td>280.511103715</td><td>13.3753808301</td><td>87300.3677377</td><td>40.2574957533</td><td>1.96490534897</td><td>2455.114374</td><td>1.21584292591</td><td>1.96490493233</td><td>948926.734167</td><td>383.516788483</td><td>16.4417020363</td><td>897864.997645</td><td>362.608186293</td><td>16.3805609488</td><td>114261.031112</td><td>61.3367701709</td><td>2.63148377672</td><td>1953.63410903</td><td>1.04235181213</td><td>2.63148350062</td><td>2629902.10196</td><td>427.423992157</td><td>17.5676924175</td><td>2487924.00594</td><td>404.318028253</td><td>17.5346536237</td><td>118525.708636</td><td>53.1456677548</td><td>2.07974064891</td><td>1473.68883022</td><td>0.663163925483</td><td>2.07974056486</td><td>3.27193927442</td><td>0.000121043174946</td><td>0</td><td>14551.1674962</td><td>7</td></tr>\n",
       "<tr><td>9</td><td>288230398410887968</td><td>150.571438113</td><td>33.0063968297</td><td>5307</td><td>0</td><td>496409.604321</td><td>244.698543549</td><td>11.9938333735</td><td>476954.418227</td><td>235.243690735</td><td>11.9822498982</td><td>12397.8054187</td><td>7.63435653678</td><td>0.382449748519</td><td>359.003732485</td><td>0.225077960818</td><td>0.382449744576</td><td>849321.668964</td><td>331.244163513</td><td>15.1110220974</td><td>816183.647023</td><td>317.981270985</td><td>15.0672726455</td><td>32579.6804898</td><td>16.0948245152</td><td>0.737250733908</td><td>541.768278631</td><td>0.287937660637</td><td>0.737250729047</td><td>2531321.75236</td><td>388.682498932</td><td>16.6089164995</td><td>2432489.78777</td><td>373.793644038</td><td>16.5770818557</td><td>63091.490461</td><td>28.5027449799</td><td>1.12407674201</td><td>782.954280119</td><td>0.358504633648</td><td>1.12407668311</td><td>0.697342147428</td><td>5.96513427928e-05</td><td>0</td><td>8507.95844316</td><td>5</td></tr>\n",
       "<tr><td>10</td><td>288230398410887574</td><td>150.616134644</td><td>33.0336380005</td><td>5307</td><td>0</td><td>562895.653809</td><td>282.666606903</td><td>13.1084241177</td><td>538953.324299</td><td>270.603876099</td><td>13.0947843792</td><td>74396.7114905</td><td>39.4515451399</td><td>1.90714703974</td><td>2167.7567384</td><td>1.17787123477</td><td>1.90714674637</td><td>899672.914534</td><td>360.205421448</td><td>15.8680378922</td><td>861402.697155</td><td>345.091282138</td><td>15.8069375938</td><td>77798.7306216</td><td>42.2087247093</td><td>1.84127129869</td><td>1346.3237375</td><td>0.721827416516</td><td>1.84127117962</td><td>2569194.05909</td><td>404.99130249</td><td>17.0037042578</td><td>2460206.06114</td><td>387.577064457</td><td>16.9724341426</td><td>90807.7638355</td><td>39.941269753</td><td>1.54657101944</td><td>1128.82478037</td><td>0.494918861334</td><td>1.54657097228</td><td>1.00083351874</td><td>0.00022343558662</td><td>0</td><td>9133.69843022</td><td>7</td></tr>\n",
       "<tr><td>11</td><td>288230398410886069</td><td>150.676391602</td><td>33.1563529968</td><td>5307</td><td>0</td><td>513497.448696</td><td>256.163682938</td><td>12.3212426187</td><td>486426.246252</td><td>242.743378145</td><td>12.3100250144</td><td>21869.6334434</td><td>10.7808882079</td><td>0.545403366684</td><td>554.740505349</td><td>0.315483407285</td><td>0.545403354187</td><td>933015.7187</td><td>378.44707489</td><td>16.2164927714</td><td>883919.159396</td><td>358.518983293</td><td>16.1551676323</td><td>100315.192862</td><td>56.0101658002</td><td>2.39923707784</td><td>1683.45475188</td><td>0.961273258105</td><td>2.39923688926</td><td>2776631.51405</td><td>500.083827973</td><td>19.0543605915</td><td>2630406.31475</td><td>473.211973432</td><td>19.0066928199</td><td>261008.017449</td><td>120.454612105</td><td>4.41970793036</td><td>3235.45626109</td><td>1.45757376847</td><td>4.41970731512</td><td>0.676702970099</td><td>9.50235665499e-05</td><td>0</td><td>8769.46192831</td><td>2</td></tr>\n",
       "<tr><td>14</td><td>288230398410887758</td><td>150.743151976</td><td>33.1681794366</td><td>5307</td><td>0</td><td>582673.682571</td><td>294.168720245</td><td>13.4349874665</td><td>550996.987646</td><td>278.032585364</td><td>13.4203822675</td><td>86440.3748374</td><td>47.6500169733</td><td>2.28126598977</td><td>2574.98929631</td><td>1.39557848252</td><td>2.28126554867</td><td>929652.732986</td><td>378.207740784</td><td>16.2193203718</td><td>879141.373125</td><td>357.542047955</td><td>16.1620489393</td><td>95537.4065912</td><td>52.9845210102</td><td>2.27424179218</td><td>1655.127826</td><td>0.889626137648</td><td>2.27424162986</td><td>2607409.49997</td><td>414.709339142</td><td>17.237010398</td><td>2466827.82333</td><td>393.095753528</td><td>17.1988503099</td><td>97429.5260281</td><td>43.5287406856</td><td>1.681322865</td><td>1207.5026017</td><td>0.536342492582</td><td>1.6813228254</td><td>-0.000418189067545</td><td>7.36703034171e-05</td><td>0</td><td>8543.1041363</td><td>4</td></tr>\n",
       "<tr><td>16</td><td>288230398402499431</td><td>150.822753906</td><td>33.0338134766</td><td>5305</td><td>0</td><td>763898.075806</td><td>412.817802429</td><td>16.3951416407</td><td>732198.422461</td><td>395.328565978</td><td>16.3709840169</td><td>267641.809653</td><td>150.935521877</td><td>6.21542213838</td><td>8072.30999202</td><td>4.33578290097</td><td>6.21541585818</td><td>1182210.60163</td><td>528.148345947</td><td>19.5903410341</td><td>1132948.16757</td><td>506.792516228</td><td>19.4806940452</td><td>349344.201035</td><td>193.409275974</td><td>7.26868307932</td><td>6131.04374124</td><td>3.19710791649</td><td>7.26867796684</td><td>2856611.07214</td><td>552.242469788</td><td>20.2179118234</td><td>2737852.82553</td><td>529.049243197</td><td>20.1554319399</td><td>368454.528223</td><td>172.352959734</td><td>6.06775789569</td><td>4552.83429938</td><td>2.07582147864</td><td>6.06775617348</td><td>1.12599849952</td><td>0.000129937129596</td><td>0</td><td>12759.0753573</td><td>7</td></tr>\n",
       "<tr><td>17</td><td>288230398410886105</td><td>150.623626709</td><td>33.0048561096</td><td>5307</td><td>0</td><td>508561.17342</td><td>252.432327271</td><td>12.166982214</td><td>489015.743402</td><td>242.604435443</td><td>12.1572870482</td><td>24459.1305937</td><td>12.6805882185</td><td>0.646887004733</td><td>644.466900348</td><td>0.377157543619</td><td>0.646886968461</td><td>927873.671757</td><td>380.314540863</td><td>16.3435577817</td><td>892034.434614</td><td>365.423503618</td><td>16.2801179178</td><td>108430.46808</td><td>58.2239480695</td><td>2.43451757267</td><td>1803.78921038</td><td>1.00505039147</td><td>2.4345172943</td><td>2784265.17546</td><td>514.619617462</td><td>19.4520077857</td><td>2676910.34452</td><td>494.645251144</td><td>19.408265138</td><td>307512.047214</td><td>142.238843984</td><td>5.10818814388</td><td>3791.68226281</td><td>1.72555299663</td><td>5.10818670358</td><td>0.756476247948</td><td>0.000122740011541</td><td>0</td><td>8617.82431614</td><td>2</td></tr>\n",
       "<tr><td>...</td><td>...</td><td>...</td><td>...</td><td>...</td><td>...</td><td>...</td><td>...</td><td>...</td><td>...</td><td>...</td><td>...</td><td>...</td><td>...</td><td>...</td><td>...</td><td>...</td><td>...</td><td>...</td><td>...</td><td>...</td><td>...</td><td>...</td><td>...</td><td>...</td><td>...</td><td>...</td><td>...</td><td>...</td><td>...</td><td>...</td><td>...</td><td>...</td><td>...</td><td>...</td><td>...</td><td>...</td><td>...</td><td>...</td><td>...</td><td>...</td><td>...</td><td>...</td><td>...</td><td>...</td><td>...</td><td>...</td></tr>\n",
       "<tr><td>4990</td><td>288230398415078753</td><td>151.643539429</td><td>33.0456047058</td><td>5308</td><td>9</td><td>498080.323761</td><td>243.329267502</td><td>11.9779810337</td><td>496870.750429</td><td>242.684573533</td><td>11.9666810856</td><td>32189.075449</td><td>17.622410175</td><td>0.846164174711</td><td>1002.44078589</td><td>0.523296279332</td><td>0.846164165505</td><td>822473.653664</td><td>324.182338715</td><td>14.9283182797</td><td>820768.779631</td><td>323.664774422</td><td>14.8790939368</td><td>36771.6258183</td><td>18.6691488381</td><td>0.819069772039</td><td>635.215031489</td><td>0.325873790915</td><td>0.819069768351</td><td>2428244.23481</td><td>367.438774109</td><td>16.0570933568</td><td>2422416.29654</td><td>366.415761464</td><td>16.0265636205</td><td>53116.6035105</td><td>22.9605632426</td><td>0.900800632042</td><td>654.587612279</td><td>0.2957382755</td><td>0.90080061562</td><td>0.83006583075</td><td>9.48264431663e-06</td><td>0</td><td>8524.96556282</td><td>2</td></tr>\n",
       "<tr><td>4991</td><td>288230398415080465</td><td>151.794509888</td><td>33.1160163879</td><td>5308</td><td>9</td><td>510758.769669</td><td>257.0794487</td><td>12.369461544</td><td>513294.667363</td><td>258.444319778</td><td>12.3575701255</td><td>48612.9923826</td><td>26.6574477284</td><td>1.26373040612</td><td>1424.68935729</td><td>0.795506092347</td><td>1.2637303426</td><td>917301.865723</td><td>378.669147492</td><td>16.3025237629</td><td>921766.873454</td><td>380.49095752</td><td>16.2438738177</td><td>137769.719642</td><td>74.9531098232</td><td>3.02609085861</td><td>2370.93297711</td><td>1.27587889033</td><td>3.02609067792</td><td>2844417.18172</td><td>585.491046905</td><td>20.8123968177</td><td>2858657.01893</td><td>587.976275037</td><td>20.7431721131</td><td>489357.325901</td><td>229.559754467</td><td>7.46368627348</td><td>6105.33246355</td><td>2.81484463224</td><td>7.46368037114</td><td>0.956171638889</td><td>6.04744410265e-05</td><td>0</td><td>8832.04224145</td><td>2</td></tr>\n",
       "<tr><td>4992</td><td>288230398402498001</td><td>151.464859009</td><td>32.664516449</td><td>5305</td><td>9</td><td>488819.338764</td><td>242.782583237</td><td>11.9337661847</td><td>507182.620507</td><td>251.900949583</td><td>11.9210803605</td><td>42500.9455267</td><td>22.5995754788</td><td>1.06203013128</td><td>1281.12478749</td><td>0.674562805511</td><td>1.06203011558</td><td>835562.625164</td><td>337.744998932</td><td>15.2358314008</td><td>866809.089552</td><td>350.770428328</td><td>15.1943612189</td><td>82811.9357398</td><td>44.4415379926</td><td>1.8462772524</td><td>1415.22815106</td><td>0.781616161213</td><td>1.84627721421</td><td>2511240.89555</td><td>439.159832001</td><td>17.8408039497</td><td>2604507.40794</td><td>455.399064177</td><td>17.7950379875</td><td>235207.714918</td><td>107.742048755</td><td>3.78825036955</td><td>2941.00342339</td><td>1.3352329322</td><td>3.7882501689</td><td>0.908846175385</td><td>0.000119822315714</td><td>0</td><td>8375.44222204</td><td>2</td></tr>\n",
       "<tr><td>4993</td><td>288230398402496744</td><td>151.605117798</td><td>33.0545082092</td><td>5305</td><td>9</td><td>488470.185486</td><td>240.951738357</td><td>11.8772943154</td><td>486196.824134</td><td>239.885182245</td><td>11.8658595337</td><td>21515.1491541</td><td>11.0959533751</td><td>0.54387542605</td><td>635.407976276</td><td>0.336730367714</td><td>0.543875423807</td><td>809339.090057</td><td>317.177467346</td><td>14.73484934</td><td>805604.555515</td><td>316.01337432</td><td>14.6964121283</td><td>21607.401703</td><td>11.5143430065</td><td>0.509403278969</td><td>372.829162045</td><td>0.198420845156</td><td>0.509403278223</td><td>2422282.629</td><td>366.437625885</td><td>16.1207856637</td><td>2411079.29731</td><td>364.892647135</td><td>16.0851137465</td><td>41779.6042833</td><td>18.2188884726</td><td>0.728875826077</td><td>517.406150009</td><td>0.234301361024</td><td>0.728875805303</td><td>0.990778365669</td><td>7.48865062324e-05</td><td>0</td><td>8549.98861977</td><td>2</td></tr>\n",
       "<tr><td>4994</td><td>288230398415078953</td><td>151.651901245</td><td>33.1824684143</td><td>5308</td><td>9</td><td>483454.027988</td><td>234.713068008</td><td>11.7294997941</td><td>477189.022446</td><td>231.855111837</td><td>11.7190177777</td><td>12507.3474657</td><td>6.99546655037</td><td>0.357320941088</td><td>375.74962216</td><td>0.203717119701</td><td>0.357320940525</td><td>808642.938723</td><td>314.450616837</td><td>14.7071217235</td><td>798335.873485</td><td>309.990687329</td><td>14.6594490219</td><td>14338.719673</td><td>7.87609610511</td><td>0.355531488672</td><td>248.205915917</td><td>0.141053761518</td><td>0.355531488409</td><td>2424131.11559</td><td>357.749347687</td><td>15.8949068711</td><td>2393202.56281</td><td>352.886303358</td><td>15.8651332269</td><td>23902.8697862</td><td>10.7697732259</td><td>0.440802970333</td><td>300.333294268</td><td>0.140198560883</td><td>0.440802970032</td><td>1.2159970022</td><td>0.000166297266056</td><td>0</td><td>8363.07097572</td><td>2</td></tr>\n",
       "<tr><td>4995</td><td>288230398402499551</td><td>151.491279055</td><td>32.4524148465</td><td>5305</td><td>9</td><td>676297.227692</td><td>367.818660736</td><td>15.2987501993</td><td>729116.159868</td><td>396.514595842</td><td>15.2715292829</td><td>264434.484888</td><td>155.333577003</td><td>5.87425987473</td><td>7416.36077349</td><td>4.25742029173</td><td>5.87425083055</td><td>1167617.77257</td><td>537.073879242</td><td>19.707479918</td><td>1259280.35711</td><td>578.783899694</td><td>19.5780426791</td><td>475283.203294</td><td>270.106745946</td><td>8.81029725717</td><td>8225.78691467</td><td>4.54058159389</td><td>8.81029187681</td><td>2770655.3343</td><td>608.139781952</td><td>21.1997024691</td><td>2987123.7898</td><td>656.085200018</td><td>21.1220202096</td><td>617824.096773</td><td>292.424810429</td><td>8.75384358641</td><td>7760.43326817</td><td>3.51028144215</td><td>8.753841185</td><td>-0.000203205684957</td><td>4.14388124047e-06</td><td>0</td><td>8637.57027193</td><td>4</td></tr>\n",
       "<tr><td>4996</td><td>288230398402499570</td><td>151.580632711</td><td>32.5042674535</td><td>5305</td><td>9</td><td>509651.21423</td><td>260.307645798</td><td>12.4237668192</td><td>546136.807823</td><td>278.812900199</td><td>12.4104218426</td><td>81455.1328424</td><td>44.5495375386</td><td>1.98067873712</td><td>2307.24388637</td><td>1.29075181334</td><td>1.98067862612</td><td>864584.933641</td><td>357.512302399</td><td>15.7606242402</td><td>926197.77506</td><td>382.913738554</td><td>15.6972885608</td><td>142200.621247</td><td>78.8968788898</td><td>3.12654614162</td><td>2460.19314816</td><td>1.35823025075</td><td>3.12654583822</td><td>2388916.88916</td><td>409.178066254</td><td>17.1418452618</td><td>2559512.03613</td><td>438.421457157</td><td>17.0966112105</td><td>190212.343102</td><td>87.1823244193</td><td>3.12391053926</td><td>2378.4584456</td><td>1.0809112413</td><td>3.12391024814</td><td>-0.000428701451416</td><td>2.24006631658e-05</td><td>0</td><td>8511.8592342</td><td>7</td></tr>\n",
       "<tr><td>4997</td><td>288230398415080991</td><td>151.687976843</td><td>33.0884661925</td><td>5308</td><td>9</td><td>4282424.06451</td><td>2628.88946533</td><td>44.8540774215</td><td>4281438.74345</td><td>2628.46698645</td><td>44.3189892894</td><td>3816757.06847</td><td>2368.08154688</td><td>39.8593032331</td><td>111603.519355</td><td>62.1783412871</td><td>39.8581824316</td><td>5536772.84875</td><td>3113.74832153</td><td>49.3480846728</td><td>5534935.56959</td><td>3109.23547796</td><td>47.677042195</td><td>4750938.41577</td><td>2786.01328149</td><td>42.3012888923</td><td>82859.836272</td><td>45.2644511486</td><td>42.3006710418</td><td>7449450.30887</td><td>2973.24188232</td><td>48.2367012467</td><td>7448506.68043</td><td>2971.2313512</td><td>47.402879294</td><td>5079206.9874</td><td>2544.97881079</td><td>38.8872818175</td><td>63714.7901917</td><td>28.4479448279</td><td>38.8869857581</td><td>-0.000137057461441</td><td>2.0948738914e-06</td><td>0</td><td>8912.89907663</td><td>2</td></tr>\n",
       "<tr><td>4998</td><td>288230398415081932</td><td>151.728591919</td><td>33.024723053</td><td>5308</td><td>9</td><td>710074.258751</td><td>364.160556793</td><td>15.2524210719</td><td>716988.08603</td><td>367.881173736</td><td>15.2288148129</td><td>252306.41105</td><td>138.908787063</td><td>5.70035168844</td><td>7741.85241864</td><td>4.06257853921</td><td>5.70034606554</td><td>1085629.16189</td><td>484.436740875</td><td>18.6568741342</td><td>1095797.36419</td><td>489.110300937</td><td>18.5640795565</td><td>311800.210375</td><td>173.044473566</td><td>6.38847003906</td><td>5395.18682633</td><td>2.95434663526</td><td>6.38846779409</td><td>2648248.67057</td><td>500.351142883</td><td>19.0740489764</td><td>2673541.30653</td><td>505.752751807</td><td>19.0209593877</td><td>304241.613501</td><td>142.362491478</td><td>4.93329584195</td><td>3810.77333279</td><td>1.73995334308</td><td>4.93329534709</td><td>1.48670441644</td><td>0.000137837000081</td><td>0</td><td>11001.3557857</td><td>5</td></tr>\n",
       "<tr><td>4999</td><td>288230398402497847</td><td>151.360336304</td><td>32.5463867188</td><td>5305</td><td>9</td><td>473352.845997</td><td>233.155403137</td><td>11.6244997582</td><td>497100.403281</td><td>244.775479346</td><td>11.6137128705</td><td>32418.7283012</td><td>16.9087765116</td><td>0.795455677252</td><td>912.862487442</td><td>0.493782657091</td><td>0.79545566555</td><td>827176.468216</td><td>332.779083252</td><td>15.1281099051</td><td>868235.678269</td><td>349.154902323</td><td>15.0741240594</td><td>84238.5244561</td><td>46.4037127273</td><td>1.89827139647</td><td>1427.67437867</td><td>0.798138822404</td><td>1.89827131828</td><td>2523678.78275</td><td>455.247592926</td><td>18.1746196162</td><td>2649603.73588</td><td>478.53037495</td><td>18.1232161701</td><td>280304.042851</td><td>130.673823555</td><td>4.38162910239</td><td>3507.63626272</td><td>1.63586069372</td><td>4.3816268246</td><td>1.10993734309</td><td>0.000177314814429</td><td>0</td><td>8739.2818319</td><td>2</td></tr>\n",
       "</table>"
      ],
      "text/plain": [
       "<Table masked=True length=4594>\n",
       "FIBER      TARGETID            RA      ... ZWARN      CHI2     NUMEXP\n",
       "int32       int64           float64    ... int64    float64    int32 \n",
       "----- ------------------ ------------- ... ----- ------------- ------\n",
       "    5 288230398410884638 150.617752075 ...     4 8446.23696402      2\n",
       "    6 288230398410886139 150.625640869 ...     0 8546.92518596      2\n",
       "    7 288230398410885140 150.800811768 ...     0   8456.877041      2\n",
       "    8 288230398402498265 150.860275269 ...     0 14551.1674962      7\n",
       "    9 288230398410887968 150.571438113 ...     0 8507.95844316      5\n",
       "   10 288230398410887574 150.616134644 ...     0 9133.69843022      7\n",
       "   11 288230398410886069 150.676391602 ...     0 8769.46192831      2\n",
       "   14 288230398410887758 150.743151976 ...     0  8543.1041363      4\n",
       "   16 288230398402499431 150.822753906 ...     0 12759.0753573      7\n",
       "   17 288230398410886105 150.623626709 ...     0 8617.82431614      2\n",
       "  ...                ...           ... ...   ...           ...    ...\n",
       " 4990 288230398415078753 151.643539429 ...     0 8524.96556282      2\n",
       " 4991 288230398415080465 151.794509888 ...     0 8832.04224145      2\n",
       " 4992 288230398402498001 151.464859009 ...     0 8375.44222204      2\n",
       " 4993 288230398402496744 151.605117798 ...     0 8549.98861977      2\n",
       " 4994 288230398415078953 151.651901245 ...     0 8363.07097572      2\n",
       " 4995 288230398402499551 151.491279055 ...     0 8637.57027193      4\n",
       " 4996 288230398402499570 151.580632711 ...     0  8511.8592342      7\n",
       " 4997 288230398415080991 151.687976843 ...     0 8912.89907663      2\n",
       " 4998 288230398415081932 151.728591919 ...     0 11001.3557857      5\n",
       " 4999 288230398402497847 151.360336304 ...     0  8739.2818319      2"
      ]
     },
     "execution_count": 32,
     "metadata": {},
     "output_type": "execute_result"
    }
   ],
   "source": [
    "##  Sufficient table for the S/N tests.\n",
    "ntable"
   ]
  },
  {
   "cell_type": "code",
   "execution_count": 36,
   "metadata": {},
   "outputs": [
    {
     "data": {
      "text/html": [
       "&lt;Table masked=True length=348&gt;\n",
       "<table id=\"table46913708297576\" class=\"table-striped table-bordered table-condensed\">\n",
       "<thead><tr><th>FIBER</th><th>TARGETID</th><th>RA</th><th>DEC</th><th>HPXPIXEL</th><th>SPECTROID</th><th>SUM_RAW_COUNT_B</th><th>MEDIAN_RAW_COUNT_B</th><th>MEDIAN_RAW_SNR_B</th><th>SUM_FFLAT_COUNT_B</th><th>MEDIAN_FFLAT_COUNT_B</th><th>MEDIAN_FFLAT_SNR_B</th><th>SUM_SKYSUB_COUNT_B</th><th>MEDIAN_SKYSUB_COUNT_B</th><th>MEDIAN_SKYSUB_SNR_B</th><th>SUM_CALIB_COUNT_B</th><th>MEDIAN_CALIB_COUNT_B</th><th>MEDIAN_CALIB_SNR_B</th><th>SUM_RAW_COUNT_R</th><th>MEDIAN_RAW_COUNT_R</th><th>MEDIAN_RAW_SNR_R</th><th>SUM_FFLAT_COUNT_R</th><th>MEDIAN_FFLAT_COUNT_R</th><th>MEDIAN_FFLAT_SNR_R</th><th>SUM_SKYSUB_COUNT_R</th><th>MEDIAN_SKYSUB_COUNT_R</th><th>MEDIAN_SKYSUB_SNR_R</th><th>SUM_CALIB_COUNT_R</th><th>MEDIAN_CALIB_COUNT_R</th><th>MEDIAN_CALIB_SNR_R</th><th>SUM_RAW_COUNT_Z</th><th>MEDIAN_RAW_COUNT_Z</th><th>MEDIAN_RAW_SNR_Z</th><th>SUM_FFLAT_COUNT_Z</th><th>MEDIAN_FFLAT_COUNT_Z</th><th>MEDIAN_FFLAT_SNR_Z</th><th>SUM_SKYSUB_COUNT_Z</th><th>MEDIAN_SKYSUB_COUNT_Z</th><th>MEDIAN_SKYSUB_SNR_Z</th><th>SUM_CALIB_COUNT_Z</th><th>MEDIAN_CALIB_COUNT_Z</th><th>MEDIAN_CALIB_SNR_Z</th><th>Z</th><th>ZERR</th><th>ZWARN</th><th>CHI2</th><th>NUMEXP</th></tr></thead>\n",
       "<thead><tr><th>int32</th><th>int64</th><th>float64</th><th>float64</th><th>int64</th><th>int32</th><th>float64</th><th>float64</th><th>float64</th><th>float64</th><th>float64</th><th>float64</th><th>float64</th><th>float64</th><th>float64</th><th>float64</th><th>float64</th><th>float64</th><th>float64</th><th>float64</th><th>float64</th><th>float64</th><th>float64</th><th>float64</th><th>float64</th><th>float64</th><th>float64</th><th>float64</th><th>float64</th><th>float64</th><th>float64</th><th>float64</th><th>float64</th><th>float64</th><th>float64</th><th>float64</th><th>float64</th><th>float64</th><th>float64</th><th>float64</th><th>float64</th><th>float64</th><th>float64</th><th>float64</th><th>int64</th><th>float64</th><th>int32</th></tr></thead>\n",
       "<tr><td>4554</td><td>288230398377332059</td><td>151.787902832</td><td>32.6387710571</td><td>5299</td><td>9</td><td>445091.530693</td><td>215.305223465</td><td>11.0669268675</td><td>476775.603667</td><td>230.913721088</td><td>11.0557838579</td><td>12093.9286865</td><td>6.34040320745</td><td>0.295484995898</td><td>371.687733399</td><td>0.197676268286</td><td>0.295484995299</td><td>744256.525719</td><td>288.753786087</td><td>13.9252541111</td><td>797332.370014</td><td>309.044724954</td><td>13.8772408342</td><td>13335.2162011</td><td>7.43422010236</td><td>0.321294371182</td><td>226.698880438</td><td>0.12866905215</td><td>0.321294370943</td><td>2239396.55072</td><td>333.776111603</td><td>15.2984436694</td><td>2398954.3897</td><td>358.215794393</td><td>15.2672306615</td><td>29654.696675</td><td>12.8013282772</td><td>0.478990703538</td><td>371.09651977</td><td>0.159456356231</td><td>0.478990702689</td><td>0.190961499137</td><td>8.03099676107e-05</td><td>4</td><td>8606.84523038</td><td>2</td></tr>\n",
       "<tr><td>4569</td><td>288230398377331740</td><td>151.829910278</td><td>32.6351623535</td><td>5299</td><td>9</td><td>445652.869778</td><td>218.41711998</td><td>11.1483115476</td><td>478360.002078</td><td>234.425677895</td><td>11.1394356828</td><td>13678.3270977</td><td>7.95698034028</td><td>0.382596252029</td><td>422.942395854</td><td>0.240972287952</td><td>0.382596248304</td><td>743362.890842</td><td>289.364719391</td><td>14.0053084285</td><td>797757.751559</td><td>310.397739716</td><td>13.958746411</td><td>13760.5977464</td><td>7.82973609165</td><td>0.333957415432</td><td>241.584321476</td><td>0.133530846837</td><td>0.333957415147</td><td>2227260.5119</td><td>329.723548889</td><td>15.1852635588</td><td>2390268.58164</td><td>353.432572833</td><td>15.1553853173</td><td>20968.8886157</td><td>8.83547458968</td><td>0.341006304568</td><td>262.819062511</td><td>0.112158664757</td><td>0.341006304068</td><td>0.699337446922</td><td>0.000124470823001</td><td>4</td><td>8622.72573317</td><td>2</td></tr>\n",
       "<tr><td>4348</td><td>288230398389914261</td><td>152.404159546</td><td>33.2546463013</td><td>5302</td><td>8</td><td>444725.607563</td><td>218.18274498</td><td>11.1318934923</td><td>477244.61959</td><td>234.186012382</td><td>11.122757604</td><td>12743.1303707</td><td>6.47525820371</td><td>0.306088265458</td><td>381.100332229</td><td>0.188686438416</td><td>0.306088264663</td><td>746290.916864</td><td>287.788896561</td><td>13.9488984806</td><td>800937.19926</td><td>308.696578892</td><td>13.9114740057</td><td>17571.5941042</td><td>9.58629567108</td><td>0.402856196725</td><td>305.207836705</td><td>0.166672401303</td><td>0.402856195963</td><td>2235000.99156</td><td>336.185035705</td><td>15.2863563187</td><td>2399046.29799</td><td>361.029112871</td><td>15.2596584928</td><td>30279.1604461</td><td>13.5410478722</td><td>0.509575396041</td><td>372.759593625</td><td>0.167628871915</td><td>0.509575395298</td><td>1.10701254463</td><td>0.000168313735116</td><td>4</td><td>8492.22167829</td><td>2</td></tr>\n",
       "<tr><td>4313</td><td>288230398389914570</td><td>152.398651123</td><td>33.2243156433</td><td>5302</td><td>8</td><td>439120.783321</td><td>214.247131348</td><td>11.0054317287</td><td>474425.284466</td><td>231.21420666</td><td>10.9953952819</td><td>9923.79524594</td><td>4.80432110279</td><td>0.231610681545</td><td>291.1325597</td><td>0.156862835911</td><td>0.23161068055</td><td>739766.732069</td><td>288.112649918</td><td>13.9797795704</td><td>799035.170724</td><td>311.484056495</td><td>13.9304985513</td><td>15669.5655682</td><td>8.16880438351</td><td>0.344981491248</td><td>257.775544796</td><td>0.141649492374</td><td>0.344981490754</td><td>2207242.25678</td><td>327.425994873</td><td>15.1322737125</td><td>2384928.09978</td><td>354.069648389</td><td>15.1064991429</td><td>16160.9622423</td><td>7.57106305767</td><td>0.296612689284</td><td>198.088897556</td><td>0.0989466837831</td><td>0.296612688988</td><td>0.661974273183</td><td>7.8414272293e-05</td><td>4</td><td>8541.54419768</td><td>2</td></tr>\n",
       "<tr><td>4349</td><td>288230398389916438</td><td>152.463539216</td><td>33.2847001159</td><td>5302</td><td>8</td><td>438511.072243</td><td>213.2168293</td><td>10.9856646839</td><td>474877.157683</td><td>231.173747492</td><td>10.9744154918</td><td>10375.6684637</td><td>5.88922698002</td><td>0.277913607954</td><td>304.36726722</td><td>0.170755007757</td><td>0.27791360717</td><td>735639.281183</td><td>286.015377045</td><td>13.8949661134</td><td>796748.830718</td><td>310.518495077</td><td>13.8618855197</td><td>13383.2255622</td><td>7.55756854088</td><td>0.32634430708</td><td>228.252154891</td><td>0.129591942164</td><td>0.326344305816</td><td>2211421.58526</td><td>327.358913422</td><td>15.1009041363</td><td>2393765.59301</td><td>354.337026509</td><td>15.0712767137</td><td>24998.4554627</td><td>11.5421054437</td><td>0.442807182357</td><td>316.74903289</td><td>0.141686115163</td><td>0.442807181512</td><td>0.147076984111</td><td>6.5141635294e-05</td><td>4</td><td>8415.76451703</td><td>2</td></tr>\n",
       "<tr><td>4889</td><td>288230398389914070</td><td>152.019256592</td><td>32.8443069458</td><td>5302</td><td>9</td><td>445589.871239</td><td>217.035646439</td><td>11.0761515121</td><td>475952.324073</td><td>232.02882439</td><td>11.0663204923</td><td>11270.6490927</td><td>5.31724600338</td><td>0.255314085076</td><td>353.077969838</td><td>0.157926702269</td><td>0.255314083962</td><td>747879.927294</td><td>290.314664841</td><td>14.0255559111</td><td>799051.528254</td><td>310.552066099</td><td>13.9853791234</td><td>15054.374442</td><td>8.59529190948</td><td>0.372894944433</td><td>260.200298101</td><td>0.153875303087</td><td>0.372894944014</td><td>2243003.28785</td><td>333.975429535</td><td>15.2841220742</td><td>2394945.2356</td><td>356.881946675</td><td>15.2533295211</td><td>25645.5425778</td><td>11.096621415</td><td>0.436946670566</td><td>315.108599338</td><td>0.142414288331</td><td>0.43694667029</td><td>0.257525797894</td><td>0.000192149998869</td><td>4</td><td>8543.57990827</td><td>2</td></tr>\n",
       "<tr><td>4891</td><td>288230398389914014</td><td>151.981307983</td><td>32.8989868164</td><td>5302</td><td>9</td><td>456154.554024</td><td>223.10500145</td><td>11.2999073433</td><td>477859.071669</td><td>233.830814863</td><td>11.2876633806</td><td>13177.3966886</td><td>8.16246211018</td><td>0.399916017313</td><td>399.039149416</td><td>0.245173036468</td><td>0.399916014445</td><td>763149.279516</td><td>296.298418045</td><td>14.1061237267</td><td>799370.827211</td><td>310.453972025</td><td>14.0593831232</td><td>15373.6733983</td><td>8.34087256156</td><td>0.366709882761</td><td>264.318080714</td><td>0.147248098362</td><td>0.366709882415</td><td>2286947.89172</td><td>337.67156601</td><td>15.3886710182</td><td>2395711.21573</td><td>353.691726186</td><td>15.3570185004</td><td>26411.5227066</td><td>11.6335626596</td><td>0.447496802691</td><td>329.301465285</td><td>0.148215525152</td><td>0.447496802412</td><td>0.742207952645</td><td>0.000108855253989</td><td>4</td><td>8617.92052255</td><td>2</td></tr>\n",
       "<tr><td>4406</td><td>288230398389914567</td><td>152.327178955</td><td>33.1228065491</td><td>5302</td><td>8</td><td>441626.127541</td><td>214.635305405</td><td>11.023292716</td><td>476155.632289</td><td>231.36576529</td><td>11.013929492</td><td>11654.1430694</td><td>5.98636451953</td><td>0.276274964223</td><td>346.304720885</td><td>0.18167701752</td><td>0.276274962707</td><td>740180.778636</td><td>287.244558334</td><td>13.8988012719</td><td>797990.275234</td><td>309.221411316</td><td>13.8629254644</td><td>14624.6700778</td><td>7.94341383539</td><td>0.334930146142</td><td>246.597290425</td><td>0.133645713832</td><td>0.334930145733</td><td>2220748.47518</td><td>329.239501953</td><td>15.0939916341</td><td>2394962.34394</td><td>355.386827807</td><td>15.067212347</td><td>26195.2063946</td><td>10.8301901768</td><td>0.414783943171</td><td>309.373091481</td><td>0.137926117624</td><td>0.414783942742</td><td>0.939236727547</td><td>0.000116327845722</td><td>4</td><td>8541.23752238</td><td>2</td></tr>\n",
       "<tr><td>4410</td><td>288230398389914509</td><td>152.314025879</td><td>33.125415802</td><td>5302</td><td>8</td><td>459276.636581</td><td>224.411315918</td><td>11.3852912679</td><td>491740.383635</td><td>240.152822388</td><td>11.3746828281</td><td>27238.8944156</td><td>14.2865617435</td><td>0.67350028182</td><td>828.222543457</td><td>0.413868941837</td><td>0.673500273928</td><td>752631.545856</td><td>293.989524841</td><td>14.105965184</td><td>805857.662189</td><td>314.450207686</td><td>14.0587241413</td><td>22492.0570331</td><td>11.9207614676</td><td>0.510624112917</td><td>391.997225039</td><td>0.207329626468</td><td>0.51062411173</td><td>2241298.98356</td><td>334.418945312</td><td>15.3229935299</td><td>2399836.09268</td><td>357.757495429</td><td>15.2871173615</td><td>31068.9551421</td><td>13.5357992069</td><td>0.508304608964</td><td>378.038327743</td><td>0.17017809863</td><td>0.508304606912</td><td>1.13653116793</td><td>0.000189335082901</td><td>4</td><td>8522.2915858</td><td>2</td></tr>\n",
       "<tr><td>4890</td><td>288230398389913984</td><td>152.018127441</td><td>32.7954292297</td><td>5302</td><td>9</td><td>444091.040752</td><td>217.697181702</td><td>11.0788786761</td><td>476543.502431</td><td>233.5921125</td><td>11.0690813721</td><td>11861.8274513</td><td>5.88035831332</td><td>0.287049677352</td><td>339.683417973</td><td>0.171939695772</td><td>0.287049676897</td><td>745496.944012</td><td>289.003505707</td><td>14.0143374926</td><td>799645.179457</td><td>310.580769169</td><td>13.9595638031</td><td>15648.0256448</td><td>8.0929896521</td><td>0.343071536111</td><td>270.6885129</td><td>0.137485979311</td><td>0.343071535769</td><td>2228141.76319</td><td>330.652370453</td><td>15.2465223223</td><td>2390923.84245</td><td>355.092428099</td><td>15.2205016577</td><td>21624.1494241</td><td>8.78212810716</td><td>0.347210430542</td><td>267.873308262</td><td>0.109888357193</td><td>0.347210430418</td><td>0.251376575674</td><td>6.45020181074e-05</td><td>4</td><td>8757.58409758</td><td>2</td></tr>\n",
       "<tr><td>...</td><td>...</td><td>...</td><td>...</td><td>...</td><td>...</td><td>...</td><td>...</td><td>...</td><td>...</td><td>...</td><td>...</td><td>...</td><td>...</td><td>...</td><td>...</td><td>...</td><td>...</td><td>...</td><td>...</td><td>...</td><td>...</td><td>...</td><td>...</td><td>...</td><td>...</td><td>...</td><td>...</td><td>...</td><td>...</td><td>...</td><td>...</td><td>...</td><td>...</td><td>...</td><td>...</td><td>...</td><td>...</td><td>...</td><td>...</td><td>...</td><td>...</td><td>...</td><td>...</td><td>...</td><td>...</td><td>...</td></tr>\n",
       "<tr><td>2838</td><td>288230399862113433</td><td>151.021820068</td><td>35.1337280273</td><td>5653</td><td>5</td><td>465616.985203</td><td>227.607460022</td><td>11.4535259148</td><td>476929.918275</td><td>233.292551641</td><td>11.4425613999</td><td>12629.9318862</td><td>6.84944841329</td><td>0.335023901325</td><td>375.377204673</td><td>0.204430957833</td><td>0.335023899721</td><td>778401.70751</td><td>300.867052078</td><td>14.2908105504</td><td>797317.639324</td><td>307.847659027</td><td>14.2449118766</td><td>13816.9701957</td><td>7.19291728395</td><td>0.305784726211</td><td>234.941523327</td><td>0.121968188976</td><td>0.305784725938</td><td>2343392.34925</td><td>346.642227173</td><td>15.6256659578</td><td>2401166.83787</td><td>355.003435089</td><td>15.5991192162</td><td>32462.768131</td><td>14.1764007838</td><td>0.548056048779</td><td>411.889736003</td><td>0.176113921524</td><td>0.548056047037</td><td>1.07543411771</td><td>0.000154446533168</td><td>4</td><td>8637.51069202</td><td>2</td></tr>\n",
       "<tr><td>2551</td><td>288230399862113530</td><td>150.992477417</td><td>35.4230232239</td><td>5653</td><td>5</td><td>442525.8269</td><td>217.313461304</td><td>11.0969062322</td><td>477247.194582</td><td>234.802595964</td><td>11.08562403</td><td>12947.2081931</td><td>7.1102371556</td><td>0.332211730039</td><td>379.082945378</td><td>0.214113860406</td><td>0.332211728587</td><td>742385.035698</td><td>287.459363937</td><td>13.9415961532</td><td>800887.915121</td><td>310.499476196</td><td>13.9077987631</td><td>17387.2459925</td><td>9.52886570976</td><td>0.414273081028</td><td>296.108359962</td><td>0.165396328886</td><td>0.414273079077</td><td>2228409.52238</td><td>335.948619842</td><td>15.2815364242</td><td>2403475.10211</td><td>363.069820459</td><td>15.2502913065</td><td>34771.0323783</td><td>15.5202381782</td><td>0.587972152012</td><td>420.217907829</td><td>0.195231972041</td><td>0.587972149791</td><td>0.889287426321</td><td>0.00011430106908</td><td>4</td><td>8448.89420565</td><td>2</td></tr>\n",
       "<tr><td>2563</td><td>288230399862113619</td><td>150.966049194</td><td>35.3856086731</td><td>5653</td><td>5</td><td>445236.30159</td><td>216.658411026</td><td>11.0826094721</td><td>476858.560999</td><td>231.840149593</td><td>11.0731647703</td><td>12558.5746102</td><td>6.48053721825</td><td>0.302834423717</td><td>373.410300407</td><td>0.18994528803</td><td>0.302834423267</td><td>746077.771095</td><td>291.020393372</td><td>14.0387089952</td><td>798809.511919</td><td>311.759048223</td><td>13.9917766707</td><td>15308.8427904</td><td>8.43361846296</td><td>0.353346336663</td><td>257.432440857</td><td>0.144796806371</td><td>0.353346335279</td><td>2241823.33277</td><td>333.864154815</td><td>15.2502004707</td><td>2400703.96611</td><td>357.292327664</td><td>15.2216953158</td><td>31999.8963784</td><td>13.5866709416</td><td>0.520504709886</td><td>407.633105839</td><td>0.172623781519</td><td>0.520504709156</td><td>0.948543753935</td><td>8.64673897106e-05</td><td>4</td><td>8559.52719095</td><td>2</td></tr>\n",
       "<tr><td>3195</td><td>288230399862113297</td><td>151.374450684</td><td>35.1941337585</td><td>5653</td><td>6</td><td>450301.70034</td><td>220.420150757</td><td>11.1969131533</td><td>475241.982804</td><td>232.704077286</td><td>11.1876674465</td><td>10729.8827751</td><td>5.6261910368</td><td>0.271379203548</td><td>305.986410847</td><td>0.15804356719</td><td>0.271379203151</td><td>755819.821503</td><td>292.180461884</td><td>14.0534519782</td><td>797735.343202</td><td>308.963327657</td><td>14.0140085154</td><td>14291.9271632</td><td>7.7547582922</td><td>0.32660117236</td><td>248.715342649</td><td>0.128369827299</td><td>0.326601172068</td><td>2264061.91928</td><td>332.93800354</td><td>15.2260754637</td><td>2389184.02129</td><td>351.682945457</td><td>15.1992405345</td><td>19396.6493985</td><td>8.43428904176</td><td>0.321039742647</td><td>232.30127382</td><td>0.105460059645</td><td>0.321039742468</td><td>0.797259872204</td><td>0.000153873580815</td><td>4</td><td>8473.10167685</td><td>2</td></tr>\n",
       "<tr><td>2580</td><td>288230399862113355</td><td>150.968444824</td><td>35.2587051392</td><td>5653</td><td>5</td><td>456767.166908</td><td>222.830286026</td><td>11.2779076336</td><td>476648.223522</td><td>232.549713631</td><td>11.2674811619</td><td>12348.2371326</td><td>6.46827663313</td><td>0.311562006876</td><td>385.107482153</td><td>0.186153814799</td><td>0.311562006178</td><td>764118.106544</td><td>296.454315185</td><td>14.1656693336</td><td>797306.75761</td><td>308.891456806</td><td>14.1263009786</td><td>13806.0884816</td><td>8.45779196203</td><td>0.356112985378</td><td>236.479699454</td><td>0.143704947522</td><td>0.356112984901</td><td>2290538.52867</td><td>340.507946014</td><td>15.4822234134</td><td>2390667.82554</td><td>355.162729394</td><td>15.4546804546</td><td>21963.7558096</td><td>9.6574127911</td><td>0.379798324626</td><td>281.980212835</td><td>0.121733134695</td><td>0.379798324413</td><td>1.18109255502</td><td>0.000133175810413</td><td>4</td><td>8392.08406095</td><td>2</td></tr>\n",
       "<tr><td>2598</td><td>288230399862113407</td><td>150.955871582</td><td>35.3397827148</td><td>5653</td><td>5</td><td>452386.95602</td><td>221.049318314</td><td>11.27521298</td><td>481425.953542</td><td>235.55200716</td><td>11.2649855947</td><td>17125.9671528</td><td>8.8591291495</td><td>0.432428429288</td><td>510.893399041</td><td>0.277900974275</td><td>0.432428424275</td><td>752376.88748</td><td>291.369066239</td><td>14.0533058108</td><td>800337.273784</td><td>310.602115367</td><td>14.0078400486</td><td>16836.604656</td><td>9.9800752817</td><td>0.438167252035</td><td>292.510755712</td><td>0.172262176639</td><td>0.438167251256</td><td>2246201.3184</td><td>333.702526092</td><td>15.1990391522</td><td>2389977.31942</td><td>354.449485678</td><td>15.1733159673</td><td>21273.249682</td><td>8.94082232203</td><td>0.34820599389</td><td>269.046018552</td><td>0.113384597161</td><td>0.348205993665</td><td>0.673017798081</td><td>0.000102306393787</td><td>4</td><td>8743.83604343</td><td>2</td></tr>\n",
       "<tr><td>3037</td><td>288230399862116579</td><td>151.170607071</td><td>35.0263447133</td><td>5653</td><td>6</td><td>491919.529766</td><td>245.523805618</td><td>12.0243303194</td><td>499162.106441</td><td>248.842455498</td><td>12.0128138768</td><td>34650.006412</td><td>19.1701734644</td><td>0.921236353502</td><td>981.572278989</td><td>0.553038556283</td><td>0.92123629477</td><td>817616.815727</td><td>324.493618011</td><td>14.9328109695</td><td>829167.733692</td><td>328.769668014</td><td>14.8844340642</td><td>45724.3176536</td><td>25.3188227871</td><td>1.07661464964</td><td>776.975343826</td><td>0.426248800911</td><td>1.07661464061</td><td>2386774.76668</td><td>363.02696228</td><td>16.0222568938</td><td>2421816.31188</td><td>368.46092273</td><td>15.9883738133</td><td>52028.9399898</td><td>23.5117502531</td><td>0.931181541231</td><td>634.392828394</td><td>0.289640031588</td><td>0.931181538366</td><td>-0.000699413657793</td><td>7.42349154882e-05</td><td>4</td><td>8705.44942321</td><td>2</td></tr>\n",
       "<tr><td>2144</td><td>288230399866311402</td><td>149.878772416</td><td>35.2094993804</td><td>5654</td><td>4</td><td>460833.880402</td><td>226.769104004</td><td>11.3995836437</td><td>490303.206572</td><td>241.291389884</td><td>11.3891050715</td><td>25707.0759411</td><td>13.6263851169</td><td>0.644063457535</td><td>705.044838211</td><td>0.392912296999</td><td>0.644063452374</td><td>772465.516748</td><td>305.611209869</td><td>14.4141690583</td><td>821971.907229</td><td>325.305947925</td><td>14.3666819301</td><td>38534.0744267</td><td>21.8499949935</td><td>0.920224364257</td><td>658.749622107</td><td>0.384031543256</td><td>0.920224360183</td><td>2271521.712</td><td>342.852401733</td><td>15.5207414465</td><td>2416467.1391</td><td>364.773426495</td><td>15.4893456924</td><td>47995.6383118</td><td>20.921167174</td><td>0.790609452594</td><td>613.701393381</td><td>0.259210350508</td><td>0.790609450106</td><td>0.0019175292661</td><td>4.72444618275e-05</td><td>4</td><td>8896.34155009</td><td>2</td></tr>\n",
       "<tr><td>2222</td><td>288230399866307898</td><td>149.656112671</td><td>35.2028388977</td><td>5654</td><td>4</td><td>440919.368126</td><td>214.703426361</td><td>11.0329821016</td><td>476742.660398</td><td>232.183166672</td><td>11.0225861115</td><td>12146.5297671</td><td>6.72371897765</td><td>0.320533615768</td><td>366.102787882</td><td>0.193640717361</td><td>0.320533614276</td><td>737133.513229</td><td>287.426738739</td><td>13.8996191288</td><td>796852.83353</td><td>310.364300906</td><td>13.8590690612</td><td>13415.0007283</td><td>8.05772674729</td><td>0.360912596776</td><td>233.538536038</td><td>0.137452109866</td><td>0.360912596472</td><td>2209517.60011</td><td>327.328510284</td><td>15.1394788108</td><td>2389182.63253</td><td>354.109311977</td><td>15.1106716031</td><td>20711.1317454</td><td>7.24400227706</td><td>0.278546563737</td><td>260.546270706</td><td>0.0915565125667</td><td>0.278546563659</td><td>0.0590241370173</td><td>5.11367121566e-05</td><td>4</td><td>8455.02634521</td><td>2</td></tr>\n",
       "<tr><td>2136</td><td>288230399866307937</td><td>149.900741577</td><td>35.1120223999</td><td>5654</td><td>4</td><td>455858.625954</td><td>222.925615311</td><td>11.3120139638</td><td>475771.945599</td><td>232.627934173</td><td>11.30341102</td><td>11175.814969</td><td>6.55834770292</td><td>0.318403326317</td><td>328.228967404</td><td>0.190482437525</td><td>0.318403325938</td><td>764096.165005</td><td>296.1714077</td><td>14.1906089606</td><td>797547.14092</td><td>308.601674583</td><td>14.1500103109</td><td>14109.3081183</td><td>8.07176808101</td><td>0.348408217152</td><td>252.062532688</td><td>0.141040717409</td><td>0.348408216687</td><td>2297908.93311</td><td>340.865821838</td><td>15.4778381177</td><td>2398070.59626</td><td>355.891916584</td><td>15.4476658397</td><td>29599.0954756</td><td>12.0437311224</td><td>0.465999236087</td><td>366.412859848</td><td>0.158515812015</td><td>0.465999234886</td><td>0.970870452095</td><td>0.000152843620295</td><td>4</td><td>8296.00631008</td><td>2</td></tr>\n",
       "</table>"
      ],
      "text/plain": [
       "<Table masked=True length=348>\n",
       "FIBER      TARGETID            RA      ... ZWARN      CHI2     NUMEXP\n",
       "int32       int64           float64    ... int64    float64    int32 \n",
       "----- ------------------ ------------- ... ----- ------------- ------\n",
       " 4554 288230398377332059 151.787902832 ...     4 8606.84523038      2\n",
       " 4569 288230398377331740 151.829910278 ...     4 8622.72573317      2\n",
       " 4348 288230398389914261 152.404159546 ...     4 8492.22167829      2\n",
       " 4313 288230398389914570 152.398651123 ...     4 8541.54419768      2\n",
       " 4349 288230398389916438 152.463539216 ...     4 8415.76451703      2\n",
       " 4889 288230398389914070 152.019256592 ...     4 8543.57990827      2\n",
       " 4891 288230398389914014 151.981307983 ...     4 8617.92052255      2\n",
       " 4406 288230398389914567 152.327178955 ...     4 8541.23752238      2\n",
       " 4410 288230398389914509 152.314025879 ...     4  8522.2915858      2\n",
       " 4890 288230398389913984 152.018127441 ...     4 8757.58409758      2\n",
       "  ...                ...           ... ...   ...           ...    ...\n",
       " 2838 288230399862113433 151.021820068 ...     4 8637.51069202      2\n",
       " 2551 288230399862113530 150.992477417 ...     4 8448.89420565      2\n",
       " 2563 288230399862113619 150.966049194 ...     4 8559.52719095      2\n",
       " 3195 288230399862113297 151.374450684 ...     4 8473.10167685      2\n",
       " 2580 288230399862113355 150.968444824 ...     4 8392.08406095      2\n",
       " 2598 288230399862113407 150.955871582 ...     4 8743.83604343      2\n",
       " 3037 288230399862116579 151.170607071 ...     4 8705.44942321      2\n",
       " 2144 288230399866311402 149.878772416 ...     4 8896.34155009      2\n",
       " 2222 288230399866307898 149.656112671 ...     4 8455.02634521      2\n",
       " 2136 288230399866307937 149.900741577 ...     4 8296.00631008      2"
      ]
     },
     "execution_count": 36,
     "metadata": {},
     "output_type": "execute_result"
    }
   ],
   "source": [
    "##  First, sort by HPXPIXEL.\n",
    "ntable.sort('HPXPIXEL')\n",
    "\n",
    "##  E.g. those with a non-zero warning.\n",
    "##  Note these are defined here: https://github.com/desihub/redrock/blob/master/py/redrock/zwarning.py\n",
    "ntable[ntable['ZWARN'] == 4]"
   ]
  },
  {
   "cell_type": "code",
   "execution_count": 34,
   "metadata": {},
   "outputs": [],
   "source": [
    "##  Define the relevant target ids. \n",
    "dudids = [str(int(x)) for x in ntable[ntable['ZWARN'] == 4]['TARGETID'].quantity]"
   ]
  },
  {
   "cell_type": "markdown",
   "metadata": {},
   "source": [
    "#### Launch the spectral viewer for these flagged objects.\n",
    "Left / right for redrock fits & up / down for targets.  It'd be alot easier to 'gather' on HPXPIXEL\n",
    "before inputing to rrplot?"
   ]
  },
  {
   "cell_type": "code",
   "execution_count": null,
   "metadata": {},
   "outputs": [],
   "source": [
    "##  ntable['SPECTRA_GROUPNAME'][0]\n",
    "rr_path   = findfile('redrock', night=ncnight, expid=ncexp, nside=64, groupname=int(ntable['HPXPIXEL'][0]))\n",
    "spec_path = findfile('spectra', night=ncnight, expid=ncexp, nside=64, groupname=int(ntable['HPXPIXEL'][0]))"
   ]
  },
  {
   "cell_type": "code",
   "execution_count": null,
   "metadata": {},
   "outputs": [],
   "source": [
    "##  --allspec: coadd or not?\n",
    "cmd  = 'rrplot --datatype desi --specfile {}'.format(spec_path)\n",
    "cmd += '  --rrfile {}'.format(rr_path)\n",
    "cmd += '  --targetids ' + ','.join(dudids[0:10])\n",
    "cmd"
   ]
  },
  {
   "cell_type": "code",
   "execution_count": 37,
   "metadata": {},
   "outputs": [],
   "source": [
    "##  To be launched in the terminal (interactive matplotlib)."
   ]
  },
  {
   "cell_type": "markdown",
   "metadata": {},
   "source": [
    "```\n",
    "rrplot \n",
    "--datatype desi \n",
    "--specfile /global/cscratch1/sd/mjwilson/minitest-19.2/spectro/redux/mini/spectra-64/53/5307/spectra-64-5307.fits  \n",
    "--rrfile /global/cscratch1/sd/mjwilson/minitest-19.2/spectro/redux/mini/spectra-64/53/5307/redrock-64-5307.h5\n",
    "```"
   ]
  },
  {
   "cell_type": "markdown",
   "metadata": {},
   "source": [
    "####  We successfully retrieved the pre-defined S/N measures for cross-referencing with the redrock results.  But what if we want to define our own?"
   ]
  },
  {
   "cell_type": "code",
   "execution_count": 38,
   "metadata": {},
   "outputs": [],
   "source": [
    "##  Set up external calculation of signal-to-noise. \n",
    "from desispec.io.frame import read_frame\n",
    "\n",
    "##  Replace with findfile.\n",
    "filename = '/global/cscratch1/sd/mjwilson/minitest-19.2/spectro/redux/mini/exposures/20200411/00000044/cframe-r0-00000044.fits'\n",
    "frame    = read_frame(filename, nspec=25, skip_resolution=False)"
   ]
  },
  {
   "cell_type": "code",
   "execution_count": 39,
   "metadata": {},
   "outputs": [
    {
     "data": {
      "text/plain": [
       "[<matplotlib.lines.Line2D at 0x2aaaf2f79a90>]"
      ]
     },
     "execution_count": 39,
     "metadata": {},
     "output_type": "execute_result"
    },
    {
     "data": {
      "image/png": "[encoded data removed]",
      "text/plain": [
       "<matplotlib.figure.Figure at 0x2aaaf2f60198>"
      ]
     },
     "metadata": {},
     "output_type": "display_data"
    }
   ],
   "source": [
    "pl.plot(frame.wave, frame.flux[0,:])"
   ]
  },
  {
   "cell_type": "code",
   "execution_count": 41,
   "metadata": {},
   "outputs": [],
   "source": [
    "from desispec.specscore import compute_frame_scores\n",
    "\n",
    "##  See the script here for\n",
    "results, comments = compute_frame_scores(frame, band='r', suffix=None)"
   ]
  },
  {
   "cell_type": "code",
   "execution_count": 42,
   "metadata": {},
   "outputs": [
    {
     "data": {
      "text/plain": [
       "{'INTEG_FLUX_R': 'integ. flux in wave. range 5800,7600A',\n",
       " 'MEDIAN_FLUX_R': 'median flux in wave. range 5800,7600A',\n",
       " 'MEDIAN_SNR_R': 'median SNR/sqrt(A) in wave. range 5800,7600A'}"
      ]
     },
     "execution_count": 42,
     "metadata": {},
     "output_type": "execute_result"
    }
   ],
   "source": [
    "comments"
   ]
  },
  {
   "cell_type": "code",
   "execution_count": 43,
   "metadata": {},
   "outputs": [
    {
     "data": {
      "text/plain": [
       "{'INTEG_FLUX_R': array([  8.75673138e+00,   1.94250642e+01,  -5.56512771e+00,\n",
       "          2.80802716e-01,   8.19629114e+00,   2.67864946e+03,\n",
       "          6.05077374e+03,   8.70950240e+02,   3.51316489e+03,\n",
       "          1.40084312e+03,   6.17006113e+03,   1.23988674e+04,\n",
       "          1.24294266e+03,   4.34158223e+03,   1.66175185e+03,\n",
       "          1.53905618e+03,   6.64596779e+03,   1.03073154e+03,\n",
       "          3.97199209e+03,   1.98476307e+03,   1.56049005e+03,\n",
       "          8.79354065e+02,   3.19053743e+04,   2.41713216e+03,\n",
       "          6.46180044e+03]),\n",
       " 'MEDIAN_FLUX_R': array([  2.58985284e-03,   1.19290720e-02,   6.03675586e-03,\n",
       "          2.38604308e-03,  -2.54419795e-03,   1.36550951e+00,\n",
       "          3.30407989e+00,   4.65890005e-01,   1.91999894e+00,\n",
       "          7.78323352e-01,   3.41204417e+00,   6.87293935e+00,\n",
       "          7.12030590e-01,   2.39807403e+00,   8.85349214e-01,\n",
       "          8.54871005e-01,   3.71813595e+00,   5.67966312e-01,\n",
       "          2.20839691e+00,   1.07734770e+00,   8.51161063e-01,\n",
       "          4.82490107e-01,   1.76322937e+01,   1.33207572e+00,\n",
       "          3.58602273e+00]),\n",
       " 'MEDIAN_SNR_R': array([  3.98499717e-03,   2.45204908e-02,   1.01109438e-02,\n",
       "          4.12799827e-03,  -4.85947735e-03,   2.48906328e+00,\n",
       "          5.56325489e+00,   9.20936138e-01,   3.38762503e+00,\n",
       "          1.43995721e+00,   5.69301666e+00,   1.01264187e+01,\n",
       "          1.32123453e+00,   4.17894338e+00,   1.68294725e+00,\n",
       "          1.58368944e+00,   6.07233066e+00,   1.10627695e+00,\n",
       "          3.90594685e+00,   2.02695341e+00,   1.60564401e+00,\n",
       "          9.13865537e-01,   1.99106034e+01,   2.40152805e+00,\n",
       "          5.92072855e+00])}"
      ]
     },
     "execution_count": 43,
     "metadata": {},
     "output_type": "execute_result"
    }
   ],
   "source": [
    "results"
   ]
  },
  {
   "cell_type": "markdown",
   "metadata": {},
   "source": [
    "#### Done."
   ]
  }
 ],
 "metadata": {
  "anaconda-cloud": {},
  "kernelspec": {
   "display_name": "DESI master",
   "language": "python",
   "name": "desi-master"
  },
  "language_info": {
   "codemirror_mode": {
    "name": "ipython",
    "version": 3
   },
   "file_extension": ".py",
   "mimetype": "text/x-python",
   "name": "python",
   "nbconvert_exporter": "python",
   "pygments_lexer": "ipython3",
   "version": "3.6.6"
  },
  "toc-autonumbering": false
 },
 "nbformat": 4,
 "nbformat_minor": 2
}
