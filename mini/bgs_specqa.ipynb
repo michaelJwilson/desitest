{
 "cells": [
  {
   "cell_type": "markdown",
   "metadata": {},
   "source": [
    "# BGS SV QA"
   ]
  },
  {
   "cell_type": "markdown",
   "metadata": {},
   "source": [
    "## Load the Spectro Catalog Database\n",
    "\n",
    "Start by configuring the database, then load exposures, truth, targets, fiberassign, and the redshift catalog."
   ]
  },
  {
   "cell_type": "code",
   "execution_count": 1,
   "metadata": {},
   "outputs": [
    {
     "data": {
      "text/plain": [
       "<module 'desispec.database.redshift' from '/global/common/software/desi/cori/desiconda/20180709-1.2.6-spec/code/desispec/master/py/desispec/database/redshift.py'>"
      ]
     },
     "execution_count": 1,
     "metadata": {},
     "output_type": "execute_result"
    }
   ],
   "source": [
    "import importlib\n",
    "import desispec.database.redshift\n",
    "import os\n",
    "import numpy as np\n",
    "\n",
    "from   argparse                   import Namespace\n",
    "import astropy.io.fits            as fits\n",
    "\n",
    "from   desitarget.targetmask import (desi_mask, mws_mask, bgs_mask)\n",
    "from   desispec.io.meta import findfile\n",
    "\n",
    "from   desispec.database.redshift import (setup_db, dbSession, load_file, ObsList, Target, Truth, ZCat, FiberAssign,\n",
    "                                         load_fiberassign, update_truth)\n",
    "\n",
    "importlib.reload(desispec.database.redshift)"
   ]
  },
  {
   "cell_type": "code",
   "execution_count": 2,
   "metadata": {},
   "outputs": [
    {
     "name": "stdout",
     "output_type": "stream",
     "text": [
      "/global/cscratch1/sd/mjwilson/minitest-19.2/spectro/redux\n",
      "/global/cscratch1/sd/mjwilson/minitest-19.2/spectro/sim\n",
      "/global/cscratch1/sd/mjwilson/minitest-19.2/spectro/sim/mini\n"
     ]
    }
   ],
   "source": [
    "##  \n",
    "basedir      = '/global/cscratch1/sd/mjwilson/minitest-19.2/spectro/redux/mini/exposures/20200317/00000018'\n",
    "\n",
    "\n",
    "basedir      = '/global/cscratch1/sd/mjwilson/minitest-19.2/'\n",
    "targetdir    = '/global/cscratch1/sd/mjwilson/minitest-19.2/targets/'\n",
    "reduxdir     = '/global/cscratch1/sd/mjwilson/minitest-19.2/spectro/redux/mini/'\n",
    "expfile      = '/global/cscratch1/sd/mjwilson/minitest-19.2/survey/exposures.fits'\n",
    "fibassigndir = '/global/cscratch1/sd/mjwilson/minitest-19.2/fiberassign/'\n",
    "\n",
    "os.environ['DESI_SPECTRO_REDUX'] = os.path.join(basedir, 'spectro', 'redux')\n",
    "os.environ['DESI_SPECTRO_SIM']   = os.path.join(basedir, 'spectro', 'sim')\n",
    "\n",
    "os.environ['PIXPROD']            = 'mini'\n",
    "os.environ['SPECPROD']           = 'mini'\n",
    "\n",
    "os.environ['DESI_SPECTRO_DATA']  = os.path.join(os.environ['DESI_SPECTRO_SIM'], os.environ['PIXPROD'])\n",
    "\n",
    "print(os.environ['DESI_SPECTRO_REDUX'])\n",
    "print(os.environ['DESI_SPECTRO_SIM'])\n",
    "print(os.environ['DESI_SPECTRO_DATA'])"
   ]
  },
  {
   "cell_type": "code",
   "execution_count": 3,
   "metadata": {},
   "outputs": [
    {
     "name": "stdout",
     "output_type": "stream",
     "text": [
      "INFO:redshift.py:803:setup_db: Removing file: /global/cscratch1/sd/mjwilson/minitest-19.2/minitest.db.\n",
      "INFO:redshift.py:812:setup_db: Begin creating tables.\n",
      "INFO:redshift.py:816:setup_db: Finished creating tables.\n",
      "--- Loading exposure list\n",
      "INFO:redshift.py:365:load_file: Read data from /global/cscratch1/sd/mjwilson/minitest-19.2/survey/exposures.fits HDU EXPOSURES\n",
      "WARNING:redshift.py:376:load_file: 24 rows of bad data detected in column RA of /global/cscratch1/sd/mjwilson/minitest-19.2/survey/exposures.fits.\n",
      "WARNING:redshift.py:376:load_file: 24 rows of bad data detected in column DEC of /global/cscratch1/sd/mjwilson/minitest-19.2/survey/exposures.fits.\n",
      "INFO:redshift.py:383:load_file: Integrity check complete on obslist.\n",
      "INFO:redshift.py:391:load_file: Initial column conversion complete on obslist.\n",
      "INFO:redshift.py:413:load_file: Column expansion complete on obslist.\n",
      "INFO:redshift.py:419:load_file: Column conversion complete on obslist.\n",
      "INFO:redshift.py:426:load_file: Converted columns into rows on obslist.\n",
      "INFO:redshift.py:433:load_file: Inserted 45 rows in obslist.\n",
      "--- Loading truth tables\n",
      "INFO:redshift.py:365:load_file: Read data from /global/cscratch1/sd/mjwilson/minitest-19.2/targets/truth.fits HDU TRUTH\n",
      "INFO:redshift.py:383:load_file: Integrity check complete on truth.\n",
      "INFO:redshift.py:391:load_file: Initial column conversion complete on truth.\n",
      "INFO:redshift.py:413:load_file: Column expansion complete on truth.\n",
      "INFO:redshift.py:419:load_file: Column conversion complete on truth.\n",
      "INFO:redshift.py:426:load_file: Converted columns into rows on truth.\n",
      "INFO:redshift.py:433:load_file: Inserted 50000 rows in truth.\n",
      "INFO:redshift.py:433:load_file: Inserted 100000 rows in truth.\n",
      "INFO:redshift.py:433:load_file: Inserted 150000 rows in truth.\n",
      "INFO:redshift.py:433:load_file: Inserted 200000 rows in truth.\n",
      "INFO:redshift.py:433:load_file: Inserted 239404 rows in truth.\n",
      "INFO:redshift.py:473:update_truth: Read data from /global/cscratch1/sd/mjwilson/minitest-19.2/targets/truth.fits HDU TRUTH_BGS\n",
      "INFO:redshift.py:485:update_truth: Integrity check complete on truth.\n",
      "INFO:redshift.py:495:update_truth: Initial column conversion complete on truth.\n",
      "INFO:redshift.py:499:update_truth: Converted columns into rows on truth.\n",
      "INFO:redshift.py:507:update_truth: Updated 50000 rows in truth.\n",
      "INFO:redshift.py:507:update_truth: Updated 75020 rows in truth.\n",
      "INFO:redshift.py:473:update_truth: Read data from /global/cscratch1/sd/mjwilson/minitest-19.2/targets/truth.fits HDU TRUTH_ELG\n",
      "INFO:redshift.py:485:update_truth: Integrity check complete on truth.\n",
      "INFO:redshift.py:495:update_truth: Initial column conversion complete on truth.\n",
      "INFO:redshift.py:499:update_truth: Converted columns into rows on truth.\n",
      "INFO:redshift.py:507:update_truth: Updated 50000 rows in truth.\n",
      "INFO:redshift.py:507:update_truth: Updated 82769 rows in truth.\n",
      "INFO:redshift.py:473:update_truth: Read data from /global/cscratch1/sd/mjwilson/minitest-19.2/targets/truth.fits HDU TRUTH_LRG\n",
      "INFO:redshift.py:485:update_truth: Integrity check complete on truth.\n",
      "INFO:redshift.py:495:update_truth: Initial column conversion complete on truth.\n",
      "INFO:redshift.py:499:update_truth: Converted columns into rows on truth.\n",
      "INFO:redshift.py:507:update_truth: Updated 17117 rows in truth.\n",
      "INFO:redshift.py:473:update_truth: Read data from /global/cscratch1/sd/mjwilson/minitest-19.2/targets/truth.fits HDU TRUTH_QSO\n",
      "INFO:redshift.py:485:update_truth: Integrity check complete on truth.\n",
      "INFO:redshift.py:495:update_truth: Initial column conversion complete on truth.\n",
      "INFO:redshift.py:499:update_truth: Converted columns into rows on truth.\n",
      "INFO:redshift.py:507:update_truth: Updated 6353 rows in truth.\n",
      "INFO:redshift.py:473:update_truth: Read data from /global/cscratch1/sd/mjwilson/minitest-19.2/targets/truth.fits HDU TRUTH_STAR\n",
      "INFO:redshift.py:485:update_truth: Integrity check complete on truth.\n",
      "INFO:redshift.py:495:update_truth: Initial column conversion complete on truth.\n",
      "INFO:redshift.py:499:update_truth: Converted columns into rows on truth.\n",
      "INFO:redshift.py:507:update_truth: Updated 50000 rows in truth.\n",
      "INFO:redshift.py:507:update_truth: Updated 57970 rows in truth.\n",
      "INFO:redshift.py:473:update_truth: Read data from /global/cscratch1/sd/mjwilson/minitest-19.2/targets/truth.fits HDU TRUTH_WD\n",
      "INFO:redshift.py:485:update_truth: Integrity check complete on truth.\n",
      "INFO:redshift.py:495:update_truth: Initial column conversion complete on truth.\n",
      "INFO:redshift.py:499:update_truth: Converted columns into rows on truth.\n",
      "INFO:redshift.py:507:update_truth: Updated 175 rows in truth.\n",
      "--- Loading targets\n",
      "INFO:redshift.py:365:load_file: Read data from /global/cscratch1/sd/mjwilson/minitest-19.2/targets/targets.fits HDU TARGETS\n",
      "INFO:redshift.py:383:load_file: Integrity check complete on target.\n",
      "INFO:redshift.py:391:load_file: Initial column conversion complete on target.\n",
      "INFO:redshift.py:413:load_file: Column expansion complete on target.\n",
      "INFO:redshift.py:419:load_file: Column conversion complete on target.\n",
      "INFO:redshift.py:426:load_file: Converted columns into rows on target.\n",
      "INFO:redshift.py:433:load_file: Inserted 50000 rows in target.\n",
      "INFO:redshift.py:433:load_file: Inserted 100000 rows in target.\n",
      "INFO:redshift.py:433:load_file: Inserted 150000 rows in target.\n",
      "INFO:redshift.py:433:load_file: Inserted 200000 rows in target.\n",
      "INFO:redshift.py:433:load_file: Inserted 239404 rows in target.\n",
      "--- loading redshift catalog\n",
      "INFO:redshift.py:365:load_file: Read data from /global/cscratch1/sd/mjwilson/minitest-19.2/spectro/redux/mini/zcatalog-mini.fits HDU ZCATALOG\n",
      "INFO:redshift.py:383:load_file: Integrity check complete on zcat.\n",
      "INFO:redshift.py:391:load_file: Initial column conversion complete on zcat.\n",
      "INFO:redshift.py:413:load_file: Column expansion complete on zcat.\n",
      "INFO:redshift.py:419:load_file: Column conversion complete on zcat.\n",
      "INFO:redshift.py:426:load_file: Converted columns into rows on zcat.\n",
      "INFO:redshift.py:433:load_file: Inserted 45378 rows in zcat.\n",
      "--- loading fiber assignments\n",
      "INFO:redshift.py:622:load_fiberassign: Using tile file search path: /global/cscratch1/sd/mjwilson/minitest-19.2/fiberassign/tile*.fits.\n",
      "INFO:redshift.py:627:load_fiberassign: Found 10 tile files.\n",
      "INFO:redshift.py:651:load_fiberassign: Identified 10 tile files for loading.\n",
      "INFO:redshift.py:660:load_fiberassign: Read data from /global/cscratch1/sd/mjwilson/minitest-19.2/fiberassign/tile-39942.fits HDU FIBERASSIGN\n",
      "INFO:redshift.py:681:load_fiberassign: Initial column conversion complete on tileid = 39942.\n",
      "INFO:redshift.py:683:load_fiberassign: Converted columns into rows on tileid = 39942.\n",
      "INFO:redshift.py:687:load_fiberassign: Inserted 5000 rows in fiberassign for tileid = 39942.\n",
      "INFO:redshift.py:660:load_fiberassign: Read data from /global/cscratch1/sd/mjwilson/minitest-19.2/fiberassign/tile-18465.fits HDU FIBERASSIGN\n",
      "INFO:redshift.py:681:load_fiberassign: Initial column conversion complete on tileid = 18465.\n",
      "INFO:redshift.py:683:load_fiberassign: Converted columns into rows on tileid = 18465.\n",
      "INFO:redshift.py:687:load_fiberassign: Inserted 5000 rows in fiberassign for tileid = 18465.\n",
      "INFO:redshift.py:660:load_fiberassign: Read data from /global/cscratch1/sd/mjwilson/minitest-19.2/fiberassign/tile-01165.fits HDU FIBERASSIGN\n",
      "INFO:redshift.py:681:load_fiberassign: Initial column conversion complete on tileid = 1165.\n",
      "INFO:redshift.py:683:load_fiberassign: Converted columns into rows on tileid = 1165.\n",
      "INFO:redshift.py:687:load_fiberassign: Inserted 5000 rows in fiberassign for tileid = 1165.\n",
      "INFO:redshift.py:660:load_fiberassign: Read data from /global/cscratch1/sd/mjwilson/minitest-19.2/fiberassign/tile-16870.fits HDU FIBERASSIGN\n",
      "INFO:redshift.py:681:load_fiberassign: Initial column conversion complete on tileid = 16870.\n",
      "INFO:redshift.py:683:load_fiberassign: Converted columns into rows on tileid = 16870.\n",
      "INFO:redshift.py:687:load_fiberassign: Inserted 5000 rows in fiberassign for tileid = 16870.\n",
      "INFO:redshift.py:660:load_fiberassign: Read data from /global/cscratch1/sd/mjwilson/minitest-19.2/fiberassign/tile-06927.fits HDU FIBERASSIGN\n",
      "INFO:redshift.py:681:load_fiberassign: Initial column conversion complete on tileid = 6927.\n",
      "INFO:redshift.py:683:load_fiberassign: Converted columns into rows on tileid = 6927.\n",
      "INFO:redshift.py:687:load_fiberassign: Inserted 5000 rows in fiberassign for tileid = 6927.\n",
      "INFO:redshift.py:660:load_fiberassign: Read data from /global/cscratch1/sd/mjwilson/minitest-19.2/fiberassign/tile-11108.fits HDU FIBERASSIGN\n",
      "INFO:redshift.py:681:load_fiberassign: Initial column conversion complete on tileid = 11108.\n",
      "INFO:redshift.py:683:load_fiberassign: Converted columns into rows on tileid = 11108.\n",
      "INFO:redshift.py:687:load_fiberassign: Inserted 5000 rows in fiberassign for tileid = 11108.\n",
      "INFO:redshift.py:660:load_fiberassign: Read data from /global/cscratch1/sd/mjwilson/minitest-19.2/fiberassign/tile-28408.fits HDU FIBERASSIGN\n",
      "INFO:redshift.py:681:load_fiberassign: Initial column conversion complete on tileid = 28408.\n",
      "INFO:redshift.py:683:load_fiberassign: Converted columns into rows on tileid = 28408.\n",
      "INFO:redshift.py:687:load_fiberassign: Inserted 5000 rows in fiberassign for tileid = 28408.\n",
      "INFO:redshift.py:660:load_fiberassign: Read data from /global/cscratch1/sd/mjwilson/minitest-19.2/fiberassign/tile-45704.fits HDU FIBERASSIGN\n",
      "INFO:redshift.py:681:load_fiberassign: Initial column conversion complete on tileid = 45704.\n",
      "INFO:redshift.py:683:load_fiberassign: Converted columns into rows on tileid = 45704.\n",
      "INFO:redshift.py:687:load_fiberassign: Inserted 5000 rows in fiberassign for tileid = 45704.\n",
      "INFO:redshift.py:660:load_fiberassign: Read data from /global/cscratch1/sd/mjwilson/minitest-19.2/fiberassign/tile-34170.fits HDU FIBERASSIGN\n",
      "INFO:redshift.py:681:load_fiberassign: Initial column conversion complete on tileid = 34170.\n",
      "INFO:redshift.py:683:load_fiberassign: Converted columns into rows on tileid = 34170.\n",
      "INFO:redshift.py:687:load_fiberassign: Inserted 5000 rows in fiberassign for tileid = 34170.\n",
      "INFO:redshift.py:660:load_fiberassign: Read data from /global/cscratch1/sd/mjwilson/minitest-19.2/fiberassign/tile-24227.fits HDU FIBERASSIGN\n",
      "INFO:redshift.py:681:load_fiberassign: Initial column conversion complete on tileid = 24227.\n",
      "INFO:redshift.py:683:load_fiberassign: Converted columns into rows on tileid = 24227.\n",
      "INFO:redshift.py:687:load_fiberassign: Inserted 5000 rows in fiberassign for tileid = 24227.\n",
      "--- done\n"
     ]
    }
   ],
   "source": [
    "options      = Namespace(overwrite=True, dbfile=os.path.join(basedir, 'minitest.db'), hostname=None, maxrows=20,\n",
    "                         chunksize=50000, schema=None, username=None, verbose=False, datapath=basedir)\n",
    "\n",
    "# We'll be using a SQLite database, ignore the return value of setup_db.\n",
    "postgresql = setup_db(options)\n",
    "\n",
    "print('--- Loading exposure list')\n",
    "load_file(expfile, ObsList, hdu='EXPOSURES', expand={'PASS': 'passnum'})\n",
    "\n",
    "print('--- Loading truth tables')\n",
    "load_file(os.path.join(targetdir, 'truth.fits'), Truth, hdu='TRUTH')\n",
    "\n",
    "for h in ('BGS', 'ELG', 'LRG', 'QSO', 'STAR', 'WD'):\n",
    "    update_truth(os.path.join(targetdir, 'truth.fits'), 'TRUTH_' + h)\n",
    "\n",
    "print('--- Loading targets')\n",
    "load_file(os.path.join(targetdir, 'targets.fits'), Target, hdu='TARGETS',\n",
    "          expand={'DCHISQ': ('dchisq_psf', 'dchisq_rex', 'dchisq_dev', 'dchisq_exp', 'dchisq_comp',)})\n",
    "\n",
    "print('--- loading redshift catalog')\n",
    "load_file(os.path.join(reduxdir, 'zcatalog-mini.fits'), ZCat, hdu='ZCATALOG',\n",
    "          expand={'COEFF': ('coeff_0', 'coeff_1', 'coeff_2', 'coeff_3', 'coeff_4',\n",
    "                            'coeff_5', 'coeff_6', 'coeff_7', 'coeff_8', 'coeff_9',)},\n",
    "          rowfilter=lambda x: ((x['TARGETID'] != 0) & (x['TARGETID'] != -1)))\n",
    "\n",
    "print('--- loading fiber assignments')\n",
    "load_fiberassign(fibassigndir)\n",
    "\n",
    "print('--- done')"
   ]
  },
  {
   "cell_type": "code",
   "execution_count": 4,
   "metadata": {},
   "outputs": [
    {
     "data": {
      "text/plain": [
       "[('expid', Integer()),\n",
       " ('tileid', Integer()),\n",
       " ('passnum', Integer()),\n",
       " ('ra', Float()),\n",
       " ('dec', Float()),\n",
       " ('ebmv', Float()),\n",
       " ('night', String()),\n",
       " ('mjd', Float()),\n",
       " ('exptime', Float()),\n",
       " ('seeing', Float()),\n",
       " ('transparency', Float()),\n",
       " ('airmass', Float()),\n",
       " ('moonfrac', Float()),\n",
       " ('moonalt', Float()),\n",
       " ('moonsep', Float()),\n",
       " ('program', String()),\n",
       " ('flavor', String())]"
      ]
     },
     "execution_count": 4,
     "metadata": {},
     "output_type": "execute_result"
    }
   ],
   "source": [
    "# Print the table columns and their types.\n",
    "[(c.name, c.type) for c in ObsList.__table__.columns]"
   ]
  },
  {
   "cell_type": "code",
   "execution_count": 5,
   "metadata": {},
   "outputs": [
    {
     "data": {
      "text/plain": [
       "[('release', Integer()),\n",
       " ('brickid', Integer()),\n",
       " ('brickname', String()),\n",
       " ('brick_objid', Integer()),\n",
       " ('morphtype', String()),\n",
       " ('ra', Float()),\n",
       " ('dec', Float()),\n",
       " ('ra_ivar', Float()),\n",
       " ('dec_ivar', Float()),\n",
       " ('dchisq_psf', Float()),\n",
       " ('dchisq_rex', Float()),\n",
       " ('dchisq_dev', Float()),\n",
       " ('dchisq_exp', Float()),\n",
       " ('dchisq_comp', Float()),\n",
       " ('flux_g', Float()),\n",
       " ('flux_r', Float()),\n",
       " ('flux_z', Float()),\n",
       " ('flux_w1', Float()),\n",
       " ('flux_w2', Float()),\n",
       " ('flux_ivar_g', Float()),\n",
       " ('flux_ivar_r', Float()),\n",
       " ('flux_ivar_z', Float()),\n",
       " ('flux_ivar_w1', Float()),\n",
       " ('flux_ivar_w2', Float()),\n",
       " ('mw_transmission_g', Float()),\n",
       " ('mw_transmission_r', Float()),\n",
       " ('mw_transmission_z', Float()),\n",
       " ('mw_transmission_w1', Float()),\n",
       " ('mw_transmission_w2', Float()),\n",
       " ('nobs_g', Integer()),\n",
       " ('nobs_r', Integer()),\n",
       " ('nobs_z', Integer()),\n",
       " ('fracflux_g', Float()),\n",
       " ('fracflux_r', Float()),\n",
       " ('fracflux_z', Float()),\n",
       " ('fracmasked_g', Float()),\n",
       " ('fracmasked_r', Float()),\n",
       " ('fracmasked_z', Float()),\n",
       " ('fracin_g', Float()),\n",
       " ('fracin_r', Float()),\n",
       " ('fracin_z', Float()),\n",
       " ('allmask_g', Float()),\n",
       " ('allmask_r', Float()),\n",
       " ('allmask_z', Float()),\n",
       " ('psfdepth_g', Float()),\n",
       " ('psfdepth_r', Float()),\n",
       " ('psfdepth_z', Float()),\n",
       " ('galdepth_g', Float()),\n",
       " ('galdepth_r', Float()),\n",
       " ('galdepth_z', Float()),\n",
       " ('fracdev', Float()),\n",
       " ('fracdev_ivar', Float()),\n",
       " ('shapedev_r', Float()),\n",
       " ('shapedev_r_ivar', Float()),\n",
       " ('shapedev_e1', Float()),\n",
       " ('shapedev_e1_ivar', Float()),\n",
       " ('shapedev_e2', Float()),\n",
       " ('shapedev_e2_ivar', Float()),\n",
       " ('shapeexp_r', Float()),\n",
       " ('shapeexp_r_ivar', Float()),\n",
       " ('shapeexp_e1', Float()),\n",
       " ('shapeexp_e1_ivar', Float()),\n",
       " ('shapeexp_e2', Float()),\n",
       " ('shapeexp_e2_ivar', Float()),\n",
       " ('fiberflux_g', Float()),\n",
       " ('fiberflux_r', Float()),\n",
       " ('fiberflux_z', Float()),\n",
       " ('fibertotflux_g', Float()),\n",
       " ('fibertotflux_r', Float()),\n",
       " ('fibertotflux_z', Float()),\n",
       " ('ref_id', BigInteger()),\n",
       " ('gaia_phot_g_mean_mag', Float()),\n",
       " ('gaia_phot_g_mean_flux_over_error', Float()),\n",
       " ('gaia_phot_bp_mean_mag', Float()),\n",
       " ('gaia_phot_bp_mean_flux_over_error', Float()),\n",
       " ('gaia_phot_rp_mean_mag', Float()),\n",
       " ('gaia_phot_rp_mean_flux_over_error', Float()),\n",
       " ('gaia_astrometric_excess_noise', Float()),\n",
       " ('gaia_duplicated_source', Boolean()),\n",
       " ('parallax', Float()),\n",
       " ('parallax_ivar', Float()),\n",
       " ('pmra', Float()),\n",
       " ('pmra_ivar', Float()),\n",
       " ('pmdec', Float()),\n",
       " ('pmdec_ivar', Float()),\n",
       " ('brightstarinblob', Boolean()),\n",
       " ('ebv', Float()),\n",
       " ('photsys', String()),\n",
       " ('targetid', BigInteger()),\n",
       " ('desi_target', BigInteger()),\n",
       " ('bgs_target', BigInteger()),\n",
       " ('mws_target', BigInteger()),\n",
       " ('priority_init', BigInteger()),\n",
       " ('subpriority', Float()),\n",
       " ('numobs_init', BigInteger()),\n",
       " ('hpxpixel', BigInteger())]"
      ]
     },
     "execution_count": 5,
     "metadata": {},
     "output_type": "execute_result"
    }
   ],
   "source": [
    "# Print the table columns and their types.\n",
    "[(c.name, c.type) for c in Target.__table__.columns]"
   ]
  },
  {
   "cell_type": "code",
   "execution_count": 6,
   "metadata": {},
   "outputs": [
    {
     "data": {
      "text/plain": [
       "[('tileid', Integer()),\n",
       " ('fiber', Integer()),\n",
       " ('location', Integer()),\n",
       " ('numtarget', Integer()),\n",
       " ('targetid', BigInteger()),\n",
       " ('desi_target', BigInteger()),\n",
       " ('bgs_target', BigInteger()),\n",
       " ('mws_target', BigInteger()),\n",
       " ('target_ra', Float()),\n",
       " ('target_dec', Float()),\n",
       " ('design_x', Float()),\n",
       " ('design_y', Float()),\n",
       " ('brickname', String()),\n",
       " ('fiberstatus', Integer()),\n",
       " ('design_q', Float()),\n",
       " ('design_s', Float()),\n",
       " ('lambda_ref', Float()),\n",
       " ('objtype', String()),\n",
       " ('petal_loc', Integer()),\n",
       " ('device_loc', Integer()),\n",
       " ('priority', Integer()),\n",
       " ('subpriority', Float())]"
      ]
     },
     "execution_count": 6,
     "metadata": {},
     "output_type": "execute_result"
    }
   ],
   "source": [
    "# Print the table columns and their types.\n",
    "[(c.name, c.type) for c in FiberAssign.__table__.columns]"
   ]
  },
  {
   "cell_type": "code",
   "execution_count": 4,
   "metadata": {},
   "outputs": [
    {
     "ename": "UnboundExecutionError",
     "evalue": "Could not locate a bind configured on mapper Mapper|ZCat|zcat, SQL expression or this Session",
     "output_type": "error",
     "traceback": [
      "\u001b[0;31m---------------------------------------------------------------------------\u001b[0m",
      "\u001b[0;31mUnboundExecutionError\u001b[0m                     Traceback (most recent call last)",
      "\u001b[0;32m<ipython-input-4-6a159ce931a9>\u001b[0m in \u001b[0;36m<module>\u001b[0;34m()\u001b[0m\n\u001b[1;32m     15\u001b[0m     \u001b[0mx\u001b[0m \u001b[0;34m=\u001b[0m \u001b[0mnp\u001b[0m\u001b[0;34m.\u001b[0m\u001b[0marray\u001b[0m\u001b[0;34m(\u001b[0m\u001b[0mx\u001b[0m\u001b[0;34m)\u001b[0m\u001b[0;34m\u001b[0m\u001b[0m\n\u001b[1;32m     16\u001b[0m '''\n\u001b[0;32m---> 17\u001b[0;31m \u001b[0mq\u001b[0m \u001b[0;34m=\u001b[0m \u001b[0mdbSession\u001b[0m\u001b[0;34m.\u001b[0m\u001b[0mquery\u001b[0m\u001b[0;34m(\u001b[0m\u001b[0mZCat\u001b[0m\u001b[0;34m.\u001b[0m\u001b[0mtargetid\u001b[0m\u001b[0;34m,\u001b[0m \u001b[0mTruth\u001b[0m\u001b[0;34m.\u001b[0m\u001b[0mtruez\u001b[0m\u001b[0;34m,\u001b[0m \u001b[0mZCat\u001b[0m\u001b[0;34m.\u001b[0m\u001b[0mz\u001b[0m\u001b[0;34m,\u001b[0m \u001b[0mZCat\u001b[0m\u001b[0;34m.\u001b[0m\u001b[0mzwarn\u001b[0m\u001b[0;34m,\u001b[0m \u001b[0mTarget\u001b[0m\u001b[0;34m.\u001b[0m\u001b[0mfiberflux_r\u001b[0m\u001b[0;34m,\u001b[0m \u001b[0;34m(\u001b[0m\u001b[0;34m(\u001b[0m\u001b[0mZCat\u001b[0m\u001b[0;34m.\u001b[0m\u001b[0mz\u001b[0m \u001b[0;34m-\u001b[0m \u001b[0mTruth\u001b[0m\u001b[0;34m.\u001b[0m\u001b[0mtruez\u001b[0m\u001b[0;34m)\u001b[0m\u001b[0;34m/\u001b[0m\u001b[0;34m(\u001b[0m\u001b[0;36m1.0\u001b[0m \u001b[0;34m+\u001b[0m \u001b[0mTruth\u001b[0m\u001b[0;34m.\u001b[0m\u001b[0mtruez\u001b[0m\u001b[0;34m)\u001b[0m\u001b[0;34m)\u001b[0m\u001b[0;34m.\u001b[0m\u001b[0mlabel\u001b[0m\u001b[0;34m(\u001b[0m\u001b[0;34m'dz'\u001b[0m\u001b[0;34m)\u001b[0m\u001b[0;34m)\u001b[0m                   \u001b[0;34m.\u001b[0m\u001b[0mfilter\u001b[0m\u001b[0;34m(\u001b[0m\u001b[0mTruth\u001b[0m\u001b[0;34m.\u001b[0m\u001b[0mtargetid\u001b[0m     \u001b[0;34m==\u001b[0m \u001b[0mZCat\u001b[0m\u001b[0;34m.\u001b[0m\u001b[0mtargetid\u001b[0m\u001b[0;34m)\u001b[0m                   \u001b[0;34m.\u001b[0m\u001b[0mfilter\u001b[0m\u001b[0;34m(\u001b[0m\u001b[0mTarget\u001b[0m\u001b[0;34m.\u001b[0m\u001b[0mtargetid\u001b[0m    \u001b[0;34m==\u001b[0m \u001b[0mZCat\u001b[0m\u001b[0;34m.\u001b[0m\u001b[0mtargetid\u001b[0m\u001b[0;34m)\u001b[0m                   \u001b[0;34m.\u001b[0m\u001b[0mfilter\u001b[0m\u001b[0;34m(\u001b[0m\u001b[0mZCat\u001b[0m\u001b[0;34m.\u001b[0m\u001b[0mtargetid\u001b[0m      \u001b[0;34m==\u001b[0m \u001b[0mFiberAssign\u001b[0m\u001b[0;34m.\u001b[0m\u001b[0mtargetid\u001b[0m\u001b[0;34m)\u001b[0m                   \u001b[0;34m.\u001b[0m\u001b[0mfilter\u001b[0m\u001b[0;34m(\u001b[0m\u001b[0mFiberAssign\u001b[0m\u001b[0;34m.\u001b[0m\u001b[0mtileid\u001b[0m \u001b[0;34m==\u001b[0m \u001b[0mObsList\u001b[0m\u001b[0;34m.\u001b[0m\u001b[0mtileid\u001b[0m\u001b[0;34m)\u001b[0m                   \u001b[0;34m.\u001b[0m\u001b[0mfilter\u001b[0m\u001b[0;34m(\u001b[0m\u001b[0mTarget\u001b[0m\u001b[0;34m.\u001b[0m\u001b[0mdesi_target\u001b[0m\u001b[0;34m.\u001b[0m\u001b[0mop\u001b[0m\u001b[0;34m(\u001b[0m\u001b[0;34m'&'\u001b[0m\u001b[0;34m)\u001b[0m\u001b[0;34m(\u001b[0m\u001b[0mdesi_mask\u001b[0m\u001b[0;34m.\u001b[0m\u001b[0mBGS_ANY\u001b[0m\u001b[0;34m)\u001b[0m \u001b[0;34m!=\u001b[0m \u001b[0;36m0\u001b[0m\u001b[0;34m)\u001b[0m                   \u001b[0;34m.\u001b[0m\u001b[0mall\u001b[0m\u001b[0;34m(\u001b[0m\u001b[0;34m)\u001b[0m\u001b[0;34m\u001b[0m\u001b[0m\n\u001b[0m",
      "\u001b[0;32m/global/common/software/desi/cori/desiconda/20180709-1.2.6-spec/conda/lib/python3.6/site-packages/sqlalchemy/orm/query.py\u001b[0m in \u001b[0;36mall\u001b[0;34m(self)\u001b[0m\n\u001b[1;32m   2781\u001b[0m \u001b[0;34m\u001b[0m\u001b[0m\n\u001b[1;32m   2782\u001b[0m         \"\"\"\n\u001b[0;32m-> 2783\u001b[0;31m         \u001b[0;32mreturn\u001b[0m \u001b[0mlist\u001b[0m\u001b[0;34m(\u001b[0m\u001b[0mself\u001b[0m\u001b[0;34m)\u001b[0m\u001b[0;34m\u001b[0m\u001b[0m\n\u001b[0m\u001b[1;32m   2784\u001b[0m \u001b[0;34m\u001b[0m\u001b[0m\n\u001b[1;32m   2785\u001b[0m     \u001b[0;34m@\u001b[0m\u001b[0m_generative\u001b[0m\u001b[0;34m(\u001b[0m\u001b[0m_no_clauseelement_condition\u001b[0m\u001b[0;34m)\u001b[0m\u001b[0;34m\u001b[0m\u001b[0m\n",
      "\u001b[0;32m/global/common/software/desi/cori/desiconda/20180709-1.2.6-spec/conda/lib/python3.6/site-packages/sqlalchemy/orm/query.py\u001b[0m in \u001b[0;36m__iter__\u001b[0;34m(self)\u001b[0m\n\u001b[1;32m   2933\u001b[0m         \u001b[0;32mif\u001b[0m \u001b[0mself\u001b[0m\u001b[0;34m.\u001b[0m\u001b[0m_autoflush\u001b[0m \u001b[0;32mand\u001b[0m \u001b[0;32mnot\u001b[0m \u001b[0mself\u001b[0m\u001b[0;34m.\u001b[0m\u001b[0m_populate_existing\u001b[0m\u001b[0;34m:\u001b[0m\u001b[0;34m\u001b[0m\u001b[0m\n\u001b[1;32m   2934\u001b[0m             \u001b[0mself\u001b[0m\u001b[0;34m.\u001b[0m\u001b[0msession\u001b[0m\u001b[0;34m.\u001b[0m\u001b[0m_autoflush\u001b[0m\u001b[0;34m(\u001b[0m\u001b[0;34m)\u001b[0m\u001b[0;34m\u001b[0m\u001b[0m\n\u001b[0;32m-> 2935\u001b[0;31m         \u001b[0;32mreturn\u001b[0m \u001b[0mself\u001b[0m\u001b[0;34m.\u001b[0m\u001b[0m_execute_and_instances\u001b[0m\u001b[0;34m(\u001b[0m\u001b[0mcontext\u001b[0m\u001b[0;34m)\u001b[0m\u001b[0;34m\u001b[0m\u001b[0m\n\u001b[0m\u001b[1;32m   2936\u001b[0m \u001b[0;34m\u001b[0m\u001b[0m\n\u001b[1;32m   2937\u001b[0m     \u001b[0;32mdef\u001b[0m \u001b[0m__str__\u001b[0m\u001b[0;34m(\u001b[0m\u001b[0mself\u001b[0m\u001b[0;34m)\u001b[0m\u001b[0;34m:\u001b[0m\u001b[0;34m\u001b[0m\u001b[0m\n",
      "\u001b[0;32m/global/common/software/desi/cori/desiconda/20180709-1.2.6-spec/conda/lib/python3.6/site-packages/sqlalchemy/orm/query.py\u001b[0m in \u001b[0;36m_execute_and_instances\u001b[0;34m(self, querycontext)\u001b[0m\n\u001b[1;32m   2954\u001b[0m             \u001b[0mquerycontext\u001b[0m\u001b[0;34m,\u001b[0m\u001b[0;34m\u001b[0m\u001b[0m\n\u001b[1;32m   2955\u001b[0m             \u001b[0mself\u001b[0m\u001b[0;34m.\u001b[0m\u001b[0m_connection_from_session\u001b[0m\u001b[0;34m,\u001b[0m\u001b[0;34m\u001b[0m\u001b[0m\n\u001b[0;32m-> 2956\u001b[0;31m             close_with_result=True)\n\u001b[0m\u001b[1;32m   2957\u001b[0m \u001b[0;34m\u001b[0m\u001b[0m\n\u001b[1;32m   2958\u001b[0m         \u001b[0mresult\u001b[0m \u001b[0;34m=\u001b[0m \u001b[0mconn\u001b[0m\u001b[0;34m.\u001b[0m\u001b[0mexecute\u001b[0m\u001b[0;34m(\u001b[0m\u001b[0mquerycontext\u001b[0m\u001b[0;34m.\u001b[0m\u001b[0mstatement\u001b[0m\u001b[0;34m,\u001b[0m \u001b[0mself\u001b[0m\u001b[0;34m.\u001b[0m\u001b[0m_params\u001b[0m\u001b[0;34m)\u001b[0m\u001b[0;34m\u001b[0m\u001b[0m\n",
      "\u001b[0;32m/global/common/software/desi/cori/desiconda/20180709-1.2.6-spec/conda/lib/python3.6/site-packages/sqlalchemy/orm/query.py\u001b[0m in \u001b[0;36m_get_bind_args\u001b[0;34m(self, querycontext, fn, **kw)\u001b[0m\n\u001b[1;32m   2963\u001b[0m             \u001b[0mmapper\u001b[0m\u001b[0;34m=\u001b[0m\u001b[0mself\u001b[0m\u001b[0;34m.\u001b[0m\u001b[0m_bind_mapper\u001b[0m\u001b[0;34m(\u001b[0m\u001b[0;34m)\u001b[0m\u001b[0;34m,\u001b[0m\u001b[0;34m\u001b[0m\u001b[0m\n\u001b[1;32m   2964\u001b[0m             \u001b[0mclause\u001b[0m\u001b[0;34m=\u001b[0m\u001b[0mquerycontext\u001b[0m\u001b[0;34m.\u001b[0m\u001b[0mstatement\u001b[0m\u001b[0;34m,\u001b[0m\u001b[0;34m\u001b[0m\u001b[0m\n\u001b[0;32m-> 2965\u001b[0;31m             \u001b[0;34m**\u001b[0m\u001b[0mkw\u001b[0m\u001b[0;34m\u001b[0m\u001b[0m\n\u001b[0m\u001b[1;32m   2966\u001b[0m         )\n\u001b[1;32m   2967\u001b[0m \u001b[0;34m\u001b[0m\u001b[0m\n",
      "\u001b[0;32m/global/common/software/desi/cori/desiconda/20180709-1.2.6-spec/conda/lib/python3.6/site-packages/sqlalchemy/orm/query.py\u001b[0m in \u001b[0;36m_connection_from_session\u001b[0;34m(self, **kw)\u001b[0m\n\u001b[1;32m   2945\u001b[0m \u001b[0;34m\u001b[0m\u001b[0m\n\u001b[1;32m   2946\u001b[0m     \u001b[0;32mdef\u001b[0m \u001b[0m_connection_from_session\u001b[0m\u001b[0;34m(\u001b[0m\u001b[0mself\u001b[0m\u001b[0;34m,\u001b[0m \u001b[0;34m**\u001b[0m\u001b[0mkw\u001b[0m\u001b[0;34m)\u001b[0m\u001b[0;34m:\u001b[0m\u001b[0;34m\u001b[0m\u001b[0m\n\u001b[0;32m-> 2947\u001b[0;31m         \u001b[0mconn\u001b[0m \u001b[0;34m=\u001b[0m \u001b[0mself\u001b[0m\u001b[0;34m.\u001b[0m\u001b[0msession\u001b[0m\u001b[0;34m.\u001b[0m\u001b[0mconnection\u001b[0m\u001b[0;34m(\u001b[0m\u001b[0;34m**\u001b[0m\u001b[0mkw\u001b[0m\u001b[0;34m)\u001b[0m\u001b[0;34m\u001b[0m\u001b[0m\n\u001b[0m\u001b[1;32m   2948\u001b[0m         \u001b[0;32mif\u001b[0m \u001b[0mself\u001b[0m\u001b[0;34m.\u001b[0m\u001b[0m_execution_options\u001b[0m\u001b[0;34m:\u001b[0m\u001b[0;34m\u001b[0m\u001b[0m\n\u001b[1;32m   2949\u001b[0m             \u001b[0mconn\u001b[0m \u001b[0;34m=\u001b[0m \u001b[0mconn\u001b[0m\u001b[0;34m.\u001b[0m\u001b[0mexecution_options\u001b[0m\u001b[0;34m(\u001b[0m\u001b[0;34m**\u001b[0m\u001b[0mself\u001b[0m\u001b[0;34m.\u001b[0m\u001b[0m_execution_options\u001b[0m\u001b[0;34m)\u001b[0m\u001b[0;34m\u001b[0m\u001b[0m\n",
      "\u001b[0;32m/global/common/software/desi/cori/desiconda/20180709-1.2.6-spec/conda/lib/python3.6/site-packages/sqlalchemy/orm/session.py\u001b[0m in \u001b[0;36mconnection\u001b[0;34m(self, mapper, clause, bind, close_with_result, execution_options, **kw)\u001b[0m\n\u001b[1;32m   1029\u001b[0m         \"\"\"\n\u001b[1;32m   1030\u001b[0m         \u001b[0;32mif\u001b[0m \u001b[0mbind\u001b[0m \u001b[0;32mis\u001b[0m \u001b[0;32mNone\u001b[0m\u001b[0;34m:\u001b[0m\u001b[0;34m\u001b[0m\u001b[0m\n\u001b[0;32m-> 1031\u001b[0;31m             \u001b[0mbind\u001b[0m \u001b[0;34m=\u001b[0m \u001b[0mself\u001b[0m\u001b[0;34m.\u001b[0m\u001b[0mget_bind\u001b[0m\u001b[0;34m(\u001b[0m\u001b[0mmapper\u001b[0m\u001b[0;34m,\u001b[0m \u001b[0mclause\u001b[0m\u001b[0;34m=\u001b[0m\u001b[0mclause\u001b[0m\u001b[0;34m,\u001b[0m \u001b[0;34m**\u001b[0m\u001b[0mkw\u001b[0m\u001b[0;34m)\u001b[0m\u001b[0;34m\u001b[0m\u001b[0m\n\u001b[0m\u001b[1;32m   1032\u001b[0m \u001b[0;34m\u001b[0m\u001b[0m\n\u001b[1;32m   1033\u001b[0m         return self._connection_for_bind(bind,\n",
      "\u001b[0;32m/global/common/software/desi/cori/desiconda/20180709-1.2.6-spec/conda/lib/python3.6/site-packages/sqlalchemy/orm/session.py\u001b[0m in \u001b[0;36mget_bind\u001b[0;34m(self, mapper, clause)\u001b[0m\n\u001b[1;32m   1391\u001b[0m         raise sa_exc.UnboundExecutionError(\n\u001b[1;32m   1392\u001b[0m             \"Could not locate a bind configured on %s or this Session\" % (\n\u001b[0;32m-> 1393\u001b[0;31m                 ', '.join(context)))\n\u001b[0m\u001b[1;32m   1394\u001b[0m \u001b[0;34m\u001b[0m\u001b[0m\n\u001b[1;32m   1395\u001b[0m     \u001b[0;32mdef\u001b[0m \u001b[0mquery\u001b[0m\u001b[0;34m(\u001b[0m\u001b[0mself\u001b[0m\u001b[0;34m,\u001b[0m \u001b[0;34m*\u001b[0m\u001b[0mentities\u001b[0m\u001b[0;34m,\u001b[0m \u001b[0;34m**\u001b[0m\u001b[0mkwargs\u001b[0m\u001b[0;34m)\u001b[0m\u001b[0;34m:\u001b[0m\u001b[0;34m\u001b[0m\u001b[0m\n",
      "\u001b[0;31mUnboundExecutionError\u001b[0m: Could not locate a bind configured on mapper Mapper|ZCat|zcat, SQL expression or this Session"
     ]
    }
   ],
   "source": [
    "#.filter(Target.desi_target.op('&')(desi_mask.BGS_ANY) != 0)\\\n",
    "#                   .filter(FiberAssign.tileid == ObsList.tileid)\\\n",
    "# , ObsList.expid, ObsList.tileid, ObsList.night, ObsList.mjd\n",
    "\n",
    "'''\n",
    "q = dbSession.query(Target.targetid, FiberAssign.tileid, FiberAssign.fiber, ObsList.expid, ObsList.mjd, ObsList.night)\\\n",
    "                   .filter(Target.targetid    == FiberAssign.targetid)\\\n",
    "                   .filter(FiberAssign.tileid == ObsList.tileid)\\\n",
    "                   .order_by(ObsList.expid, FiberAssign.fiber)\\\n",
    "                   .all()\n",
    "\n",
    "targetid, tileid, fiberid, expid, mjd, night = zip(*q)\n",
    "\n",
    "for x in [targetid, tileid, fiberid, expid, mjd, night]:\n",
    "    x = np.array(x)\n",
    "'''\n",
    "q = dbSession.query(ZCat.targetid, Truth.truez, ZCat.z, ZCat.zwarn, Target.fiberflux_r, ((ZCat.z - Truth.truez)/(1.0 + Truth.truez)).label('dz'))\\\n",
    "                   .filter(Truth.targetid     == ZCat.targetid)\\\n",
    "                   .filter(Target.targetid    == ZCat.targetid)\\\n",
    "                   .filter(ZCat.targetid      == FiberAssign.targetid)\\\n",
    "                   .filter(FiberAssign.tileid == ObsList.tileid)\\\n",
    "                   .filter(Target.desi_target.op('&')(desi_mask.BGS_ANY) != 0)\\\n",
    "                   .all()"
   ]
  },
  {
   "cell_type": "code",
   "execution_count": 57,
   "metadata": {},
   "outputs": [
    {
     "name": "stdout",
     "output_type": "stream",
     "text": [
      "(array([ 6,  7,  8,  9, 10, 11, 18, 19, 20, 21, 28, 29, 30, 31, 32, 39, 40,\n",
      "       41, 42, 43, 44]), array([4594, 4594, 4594, 4594, 4594, 4594, 4595, 4595, 4595, 4595, 4594,\n",
      "       4594, 4594, 4593, 4593, 4591, 4591, 4586, 4586, 4590, 4590]))\n"
     ]
    }
   ],
   "source": [
    "print(np.unique(expid, return_counts=True))"
   ]
  },
  {
   "cell_type": "code",
   "execution_count": null,
   "metadata": {},
   "outputs": [],
   "source": [
    "specids = []\n",
    "\n",
    "##  Sorted by exposure id. \n",
    "for exp in expid:    \n",
    "    fmap_path = findfile('fibermap', night=night[i], expid=exp)\n",
    "\n",
    "    print('Loading %s' % fmap_path)\n",
    "    \n",
    "    fmap      = fits.open(fmap_path)\n",
    "    \n",
    "    ##  Spectrograph id for each fiber in the exposure.  \n",
    "    specids.append(fmap[1].data['SPECTROID'])\n",
    "    \n",
    "    fmap.close()"
   ]
  },
  {
   "cell_type": "code",
   "execution_count": 43,
   "metadata": {},
   "outputs": [
    {
     "data": {
      "text/plain": [
       "'/global/cscratch1/sd/mjwilson/minitest-19.2/spectro/sim/mini/20200411/00000043/fibermap-00000043.fits'"
      ]
     },
     "execution_count": 43,
     "metadata": {},
     "output_type": "execute_result"
    }
   ],
   "source": [
    "findfile('fibermap', night=night[0], expid=expid[0])"
   ]
  },
  {
   "cell_type": "code",
   "execution_count": null,
   "metadata": {},
   "outputs": [],
   "source": [
    "cframes = []\n",
    "\n",
    "for i in range(10):\n",
    "    cframes.append(findfile('cframe', night=night[i], expid=expid[i], nside=64, camera='r' ))\n",
    "    \n",
    "    print(targetid[i], tileid[i], expid[i], mjd[i], night[i], files[i])"
   ]
  }
 ],
 "metadata": {
  "anaconda-cloud": {},
  "kernelspec": {
   "display_name": "DESI master",
   "language": "python",
   "name": "desi-master"
  },
  "language_info": {
   "codemirror_mode": {
    "name": "ipython",
    "version": 3
   },
   "file_extension": ".py",
   "mimetype": "text/x-python",
   "name": "python",
   "nbconvert_exporter": "python",
   "pygments_lexer": "ipython3",
   "version": "3.6.6"
  },
  "toc-autonumbering": false
 },
 "nbformat": 4,
 "nbformat_minor": 2
}
